{
 "cells": [
  {
   "cell_type": "markdown",
   "metadata": {},
   "source": [
    "# Word Embeding"
   ]
  },
  {
   "cell_type": "markdown",
   "metadata": {},
   "source": [
    "# gensim\n",
    "\n"
   ]
  },
  {
   "cell_type": "markdown",
   "metadata": {},
   "source": [
    "Train Model"
   ]
  },
  {
   "cell_type": "code",
   "execution_count": null,
   "metadata": {},
   "outputs": [],
   "source": [
    "from gensim.models import Word2Vec\n",
    "\n",
    "# Train Model\n",
    "def train_model(inputFilePath, modelPath):\n",
    "    # size : each vector lenght\n",
    "    # window : num of each window size\n",
    "    # min_count : number of min word repeat to consider in training\n",
    "    # workers : num of multiprocess task\n",
    "    model = Word2Vec(LineSentence(inputFilePath), size=500, window=7, min_count=15, workers=8)\n",
    "    # Training model finished\n",
    "    # saving model\n",
    "    model.save(modelPath)\n",
    "\n",
    "# Clear Corpus\n",
    "def clear_data(inputFilePath, outPutFilePath):\n",
    "    # Open files\n",
    "    with open(inputFilePath, \"r\", encoding=\"utf-8\", errors=\"replace\") as ifp, open(outPutFilePath, 'a',encoding=\"utf-8\") as ofp:\n",
    "        # Iterate over Corpus\n",
    "        for line in ifp:\n",
    "            # Ignore non utf-8 char\n",
    "            line = bytes(line, 'utf-8').decode('utf-8', 'ignore')\n",
    "            ofp.write(line)\n",
    "    print(\"Corpus Cleaned\")\n",
    "\n",
    "\n",
    "# Main program\n",
    "if __name__ == \"__main__\":\n",
    "    # Set path\n",
    "    inputFilePath = \"Miras.text\"\n",
    "    cleanFilePath = \"cleanMiras.txt\"\n",
    "    modelPath = \"model\"\n",
    "\n",
    "    # Clean and Train\n",
    "    clear_data(inputFilePath, cleanFilePath)\n",
    "    train_model(cleanFilePath, modelPath)"
   ]
  },
  {
   "cell_type": "markdown",
   "metadata": {},
   "source": [
    "Run time : 8 cpu 32g RAM, 100 Min"
   ]
  },
  {
   "cell_type": "code",
   "execution_count": null,
   "metadata": {},
   "outputs": [],
   "source": [
    "\n"
   ]
  },
  {
   "cell_type": "markdown",
   "metadata": {},
   "source": [
    "Load Model"
   ]
  },
  {
   "cell_type": "code",
   "execution_count": 6,
   "metadata": {},
   "outputs": [
    {
     "name": "stderr",
     "output_type": "stream",
     "text": [
      "C:\\ProgramData\\Anaconda3\\lib\\site-packages\\gensim\\utils.py:1209: UserWarning: detected Windows; aliasing chunkize to chunkize_serial\n",
      "  warnings.warn(\"detected Windows; aliasing chunkize to chunkize_serial\")\n",
      "C:\\ProgramData\\Anaconda3\\lib\\site-packages\\gensim\\matutils.py:737: FutureWarning: Conversion of the second argument of issubdtype from `int` to `np.signedinteger` is deprecated. In future, it will be treated as `np.int32 == np.dtype(int).type`.\n",
      "  if np.issubdtype(vec.dtype, np.int):\n"
     ]
    },
    {
     "name": "stdout",
     "output_type": "stream",
     "text": [
      "[('درختان', 0.7574159502983093), ('درختی', 0.6967282295227051), ('درختانی', 0.6075932383537292), ('درختهای', 0.6055514812469482), ('درختي', 0.6005440354347229), ('ممرز', 0.5607376098632812), ('کُنار', 0.5591282248497009), ('درختچه', 0.5504060387611389), ('درختها', 0.5439611673355103), ('سرخدار', 0.5391978621482849)]\n",
      "[('درختان', 0.7944933772087097), ('درختی', 0.7790977954864502), ('سرخدار', 0.7013828754425049), ('بارانک', 0.6784353852272034), ('تنگرس', 0.6735241413116455), ('درختهای', 0.6730005741119385), ('کُنار', 0.6659190058708191), ('ممرز', 0.665337085723877), ('صنوبر', 0.6644573211669922), ('سدر', 0.6556769609451294)]\n"
     ]
    }
   ],
   "source": [
    "import gensim\n",
    "# Load and see Model\n",
    "def load_model():\n",
    "    model = gensim.models.Word2Vec.load('model')\n",
    "    print(model.wv.most_similar(['درخت']))\n",
    "    model1 = gensim.models.Word2Vec.load('model200')\n",
    "    print(model1.wv.most_similar(['درخت']))\n",
    "\n",
    "if __name__ == \"__main__\":\n",
    "    # Run function\n",
    "    load_model()"
   ]
  },
  {
   "cell_type": "markdown",
   "metadata": {},
   "source": [
    "Using PCA"
   ]
  },
  {
   "cell_type": "code",
   "execution_count": 15,
   "metadata": {},
   "outputs": [
    {
     "name": "stderr",
     "output_type": "stream",
     "text": [
      "C:\\ProgramData\\Anaconda3\\lib\\site-packages\\ipykernel_launcher.py:7: DeprecationWarning: Call to deprecated `__getitem__` (Method will be removed in 4.0.0, use self.wv.__getitem__() instead).\n",
      "  import sys\n"
     ]
    },
    {
     "data": {
      "text/plain": [
       "<Figure size 640x480 with 1 Axes>"
      ]
     },
     "metadata": {},
     "output_type": "display_data"
    }
   ],
   "source": [
    "import os\n",
    "from sklearn.decomposition import PCA\n",
    "from matplotlib import pyplot\n",
    "\n",
    "def viewModel():\n",
    "    # Load model\n",
    "    model = gensim.models.Word2Vec.load(os.path.abspath(r\"C:\\Users\\saeed\\Desktop\\PRESENT\\model\"))\n",
    "    X = model[model.wv.vocab]\n",
    "    # Define PCA\n",
    "    pca = PCA(n_components=2)\n",
    "    # Fit PCA\n",
    "    result = pca.fit_transform(X)\n",
    "\n",
    "    # create a scatter plot of the projection\n",
    "    pyplot.scatter(result[:, 0], result[:, 1])\n",
    "    # List words\n",
    "    words = list(model.wv.vocab)\n",
    "    for i, word in enumerate(words):\n",
    "        pyplot.annotate(word, xy=(result[i, 0], result[i, 1]))\n",
    "    # Save fig\n",
    "    pyplot.savefig('model.jpg')\n",
    "    pyplot.show()\n",
    "\n",
    "if __name__ == \"__main__\":\n",
    "    # Run Function\n",
    "    viewModel()"
   ]
  },
  {
   "cell_type": "markdown",
   "metadata": {},
   "source": [
    "Tensor Representation"
   ]
  },
  {
   "cell_type": "code",
   "execution_count": 17,
   "metadata": {},
   "outputs": [
    {
     "name": "stderr",
     "output_type": "stream",
     "text": [
      "C:\\ProgramData\\Anaconda3\\lib\\site-packages\\ipykernel_launcher.py:16: DeprecationWarning: Call to deprecated `__getitem__` (Method will be removed in 4.0.0, use self.wv.__getitem__() instead).\n",
      "  app.launch_new_instance()\n"
     ]
    },
    {
     "name": "stdout",
     "output_type": "stream",
     "text": [
      "Run `tensorboard --logdir=C:\\Users\\saeed\\Desktop\\PRESENT` to run visualize result on tensorboard\n"
     ]
    }
   ],
   "source": [
    "# encoding: utf-8\n",
    "\n",
    "import sys, os\n",
    "from gensim.models import Word2Vec\n",
    "import tensorflow as tf\n",
    "import numpy as np\n",
    "from tensorflow.contrib.tensorboard.plugins import projector\n",
    "\n",
    "\n",
    "def visualize(model, output_path):\n",
    "    meta_file = \"w2x_metadata.tsv\"\n",
    "    placeholder = np.zeros((len(model.wv.index2word), 200))\n",
    "\n",
    "    with open(os.path.join(output_path,meta_file), 'wb') as file_metadata:\n",
    "        for i, word in enumerate(model.wv.index2word):\n",
    "            placeholder[i] = model[word]\n",
    "            # temporary solution for https://github.com/tensorflow/tensorflow/issues/9094\n",
    "            if word == '':\n",
    "                print(\"Emply Line, should replecaed by any thing else, or will cause a bug of tensorboard\")\n",
    "                file_metadata.write(\"{0}\".format('<Empty Line>').encode('utf-8') + b'\\n')\n",
    "            else:\n",
    "                file_metadata.write(\"{0}\".format(word).encode('utf-8') + b'\\n')\n",
    "\n",
    "    # define the model without training\n",
    "    sess = tf.InteractiveSession()\n",
    "\n",
    "    embedding = tf.Variable(placeholder, trainable=False, name='w2x_metadata')\n",
    "    tf.global_variables_initializer().run()\n",
    "\n",
    "    saver = tf.train.Saver()\n",
    "    writer = tf.summary.FileWriter(output_path, sess.graph)\n",
    "\n",
    "    # adding into projector\n",
    "    config = projector.ProjectorConfig()\n",
    "    embed = config.embeddings.add()\n",
    "    embed.tensor_name = 'w2x_metadata'\n",
    "    embed.metadata_path = meta_file\n",
    "\n",
    "    # Specify the width and height of a single thumbnail.\n",
    "    projector.visualize_embeddings(writer, config)\n",
    "    saver.save(sess, os.path.join(output_path,'w2x_metadata.ckpt'))\n",
    "    print('Run `tensorboard --logdir={0}` to run visualize result on tensorboard'.format(output_path))\n",
    "\n",
    "if __name__ == \"__main__\":\n",
    "\n",
    "    model_path = os.path.abspath(r\"C:\\Users\\saeed\\Desktop\\PRESENT\\model200\")\n",
    "    output_path = os.path.abspath(r\"C:\\Users\\saeed\\Desktop\\PRESENT\")\n",
    "    model = Word2Vec.load(model_path)\n",
    "    visualize(model, output_path)"
   ]
  }
 ],
 "metadata": {
  "kernelspec": {
   "display_name": "Python 3",
   "language": "python",
   "name": "python3"
  },
  "language_info": {
   "codemirror_mode": {
    "name": "ipython",
    "version": 3
   },
   "file_extension": ".py",
   "mimetype": "text/x-python",
   "name": "python",
   "nbconvert_exporter": "python",
   "pygments_lexer": "ipython3",
   "version": "3.6.5"
  }
 },
 "nbformat": 4,
 "nbformat_minor": 2
}
