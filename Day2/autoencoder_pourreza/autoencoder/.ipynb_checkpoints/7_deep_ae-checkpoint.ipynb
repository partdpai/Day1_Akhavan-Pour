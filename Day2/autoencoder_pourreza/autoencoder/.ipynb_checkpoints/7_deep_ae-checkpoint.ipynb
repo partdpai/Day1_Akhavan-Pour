{
 "cells": [
  {
   "cell_type": "code",
   "execution_count": null,
   "metadata": {
    "collapsed": true
   },
   "outputs": [],
   "source": [
    "import keras\n",
    "print(\"keras version : \",keras.__version__)\n",
    "\n",
    "import cv2\n",
    "import numpy as np\n",
    "from HodaDatasetReader.HodaDatasetReader import read_hoda_cdb\n",
    "print('Reading Train 60000.cdb ...')\n",
    "train_images, train_labels = read_hoda_cdb('HodaDatasetReader/DigitDB/Train 60000.cdb')\n",
    "print (\"train shape : \",np.shape(train_images[1]))\n",
    "dataset=[]\n",
    "print(\"size : \",np.shape(dataset))\n",
    "for idx,image in enumerate(train_images):\n",
    "    dataset.append( cv2.resize(image,(50,50)))\n",
    "\n",
    "    "
   ]
  }
 ],
 "metadata": {
  "kernelspec": {
   "display_name": "Python 3",
   "language": "python",
   "name": "python3"
  },
  "language_info": {
   "codemirror_mode": {
    "name": "ipython",
    "version": 3
   },
   "file_extension": ".py",
   "mimetype": "text/x-python",
   "name": "python",
   "nbconvert_exporter": "python",
   "pygments_lexer": "ipython3",
   "version": "3.5.5"
  },
  "widgets": {
   "state": {},
   "version": "1.1.2"
  }
 },
 "nbformat": 4,
 "nbformat_minor": 2
}
