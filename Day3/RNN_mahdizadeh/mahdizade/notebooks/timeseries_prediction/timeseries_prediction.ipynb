{
 "cells": [
  {
   "cell_type": "code",
   "execution_count": 1,
   "metadata": {},
   "outputs": [
    {
     "name": "stderr",
     "output_type": "stream",
     "text": [
      "Using TensorFlow backend.\n"
     ]
    }
   ],
   "source": [
    "# -*- coding: utf-8 -*-\n",
    "import matplotlib.pyplot as plt\n",
    "import numpy\n",
    "import pandas\n",
    "from keras.layers import Dense, LSTM\n",
    "from keras.models import Sequential\n",
    "from sklearn.metrics import mean_squared_error\n",
    "from sklearn.preprocessing import MinMaxScaler"
   ]
  },
  {
   "cell_type": "markdown",
   "metadata": {},
   "source": [
    "# Function for Loading Dataset\n",
    "This function use Pandas for loading csv dataset. MinMaxScaler uses for normalizaing dataset."
   ]
  },
  {
   "cell_type": "code",
   "execution_count": 2,
   "metadata": {
    "collapsed": true
   },
   "outputs": [],
   "source": [
    "def load_dataset(datasource):\n",
    "    \"\"\"\n",
    "    The function loads dataset from given file name and uses MinMaxScaler to transform data\n",
    "    :param datasource: file name of data source\n",
    "    :return: tuple of dataset and the used MinMaxScaler\n",
    "    \"\"\"\n",
    "    # load the dataset\n",
    "    dataframe = pandas.read_csv(datasource, usecols=[1])\n",
    "    dataframe = dataframe.fillna(method='pad')\n",
    "    dataset = dataframe.values\n",
    "    dataset = dataset.astype('float32')\n",
    "\n",
    "    plt.plot(dataset)\n",
    "    plt.show()\n",
    "\n",
    "    # normalize the dataset\n",
    "    scaler = MinMaxScaler(feature_range=(0, 1))\n",
    "    dataset = scaler.fit_transform(dataset)\n",
    "    return dataset, scaler"
   ]
  },
  {
   "cell_type": "markdown",
   "metadata": {},
   "source": [
    "# Function for Creating Dataset\n",
    "This function create training inputs and outputs with look_back parameter."
   ]
  },
  {
   "cell_type": "code",
   "execution_count": 3,
   "metadata": {
    "collapsed": true
   },
   "outputs": [],
   "source": [
    "def create_dataset(dataset, look_back=1):\n",
    "    \"\"\"\n",
    "    The function takes two arguments: the `dataset`, which is a NumPy array that we want to convert into a dataset,\n",
    "    and the `look_back`, which is the number of previous time steps to use as input variables\n",
    "    to predict the next time period — in this case defaulted to 1.\n",
    "    :param dataset: numpy dataset\n",
    "    :param look_back: number of previous time steps as int\n",
    "    :return: tuple of input and output dataset\n",
    "    \"\"\"\n",
    "    data_x, data_y = [], []\n",
    "    for i in range(len(dataset)-look_back-1):\n",
    "        a = dataset[i:(i+look_back), 0]\n",
    "        data_x.append(a)\n",
    "        data_y.append(dataset[i + look_back, 0])\n",
    "    return numpy.array(data_x), numpy.array(data_y)"
   ]
  },
  {
   "cell_type": "markdown",
   "metadata": {},
   "source": [
    "# Function for Spliting Dataset\n",
    "This function split dataset to train and test."
   ]
  },
  {
   "cell_type": "code",
   "execution_count": 4,
   "metadata": {
    "collapsed": true
   },
   "outputs": [],
   "source": [
    "def split_dataset(dataset, train_size, look_back):\n",
    "    \"\"\"\n",
    "    Splits dataset into training and test datasets. The last `look_back` rows in train dataset\n",
    "    will be used as `look_back` for the test dataset.\n",
    "    :param dataset: source dataset\n",
    "    :param train_size: specifies the train data size\n",
    "    :param look_back: number of previous time steps as int\n",
    "    :return: tuple of training data and test dataset\n",
    "    \"\"\"\n",
    "    if not train_size > look_back:\n",
    "        raise ValueError('train_size must be lager than look_back')\n",
    "    train, test = dataset[0:train_size, :], dataset[train_size - look_back:len(dataset), :]\n",
    "    print('train_dataset: {}, test_dataset: {}'.format(len(train), len(test)))\n",
    "    return train, test"
   ]
  },
  {
   "cell_type": "markdown",
   "metadata": {},
   "source": [
    "# Model Area"
   ]
  },
  {
   "cell_type": "code",
   "execution_count": 5,
   "metadata": {
    "collapsed": true
   },
   "outputs": [],
   "source": [
    "def build_model(look_back, batch_size=1):\n",
    "    \"\"\"\n",
    "    The function builds a keras Sequential model\n",
    "    :param look_back: number of previous time steps as int\n",
    "    :param batch_size: batch_size as int, defaults to 1\n",
    "    :return: keras Sequential model\n",
    "    \"\"\"\n",
    "    model = Sequential()\n",
    "    model.add(LSTM(64,\n",
    "                   activation='relu',\n",
    "                   batch_input_shape=(batch_size, look_back, 1),\n",
    "                   stateful=True,\n",
    "                   return_sequences=False))\n",
    "    model.add(Dense(1, activation='linear'))\n",
    "    model.compile(loss='mean_squared_error', optimizer='adam')\n",
    "    return model"
   ]
  },
  {
   "cell_type": "markdown",
   "metadata": {},
   "source": [
    "# Plot Dataset and Model Predictions"
   ]
  },
  {
   "cell_type": "code",
   "execution_count": 7,
   "metadata": {
    "collapsed": true
   },
   "outputs": [],
   "source": [
    "def plot_data(dataset,\n",
    "              look_back,\n",
    "              train_predict,\n",
    "              test_predict,\n",
    "              forecast_predict):\n",
    "    \"\"\"\n",
    "    Plots baseline and predictions.\n",
    "\n",
    "    blue: baseline\n",
    "    green: prediction with training data\n",
    "    red: prediction with test data\n",
    "    cyan: prediction based on predictions\n",
    "\n",
    "    :param dataset: dataset used for predictions\n",
    "    :param look_back: number of previous time steps as int\n",
    "    :param train_predict: predicted values based on training data\n",
    "    :param test_predict: predicted values based on test data\n",
    "    :param forecast_predict: predicted values based on previous predictions\n",
    "    :return: None\n",
    "    \"\"\"\n",
    "    plt.plot(dataset)\n",
    "    plt.plot([None for _ in range(look_back)] +\n",
    "             [x for x in train_predict])\n",
    "    plt.plot([None for _ in range(look_back)] +\n",
    "             [None for _ in train_predict] +\n",
    "             [x for x in test_predict])\n",
    "    plt.plot([None for _ in range(look_back)] +\n",
    "             [None for _ in train_predict] +\n",
    "             [None for _ in test_predict] +\n",
    "             [x for x in forecast_predict])\n",
    "    plt.show()"
   ]
  },
  {
   "cell_type": "markdown",
   "metadata": {},
   "source": [
    "# Function for forecasting"
   ]
  },
  {
   "cell_type": "code",
   "execution_count": 8,
   "metadata": {
    "collapsed": true
   },
   "outputs": [],
   "source": [
    "def make_forecast(model, look_back_buffer, timesteps=1, batch_size=1):\n",
    "    forecast_predict = numpy.empty((0, 1), dtype=numpy.float32)\n",
    "    for _ in range(timesteps):\n",
    "        # make prediction with current lookback buffer\n",
    "        cur_predict = model.predict(look_back_buffer, batch_size)\n",
    "        # add prediction to result\n",
    "        forecast_predict = numpy.concatenate([forecast_predict, cur_predict], axis=0)\n",
    "        # add new axis to prediction to make it suitable as input\n",
    "        cur_predict = numpy.reshape(cur_predict, (cur_predict.shape[1], cur_predict.shape[0], 1))\n",
    "        # remove oldest prediction from buffer\n",
    "        look_back_buffer = numpy.delete(look_back_buffer, 0, axis=1)\n",
    "        # concat buffer with newest prediction\n",
    "        look_back_buffer = numpy.concatenate([look_back_buffer, cur_predict], axis=1)\n",
    "    return forecast_predict"
   ]
  },
  {
   "cell_type": "markdown",
   "metadata": {},
   "source": [
    "# Load Dataset"
   ]
  },
  {
   "cell_type": "code",
   "execution_count": 9,
   "metadata": {},
   "outputs": [
    {
     "data": {
      "image/png": "[encoded data removed]",
      "text/plain": [
       "<Figure size 432x288 with 1 Axes>"
      ]
     },
     "metadata": {},
     "output_type": "display_data"
    }
   ],
   "source": [
    "datasource = 'international-airline-passengers.csv'\n",
    "dataset, scaler = load_dataset(datasource)"
   ]
  },
  {
   "cell_type": "markdown",
   "metadata": {},
   "source": [
    "# Split Dataset"
   ]
  },
  {
   "cell_type": "code",
   "execution_count": 11,
   "metadata": {},
   "outputs": [
    {
     "name": "stdout",
     "output_type": "stream",
     "text": [
      "train_dataset: 100, test_dataset: 72\n"
     ]
    }
   ],
   "source": [
    "# split into train and test sets\n",
    "look_back = int(len(dataset) * 0.20)\n",
    "train_size = int(len(dataset) * 0.70)\n",
    "train, test = split_dataset(dataset, train_size, look_back)"
   ]
  },
  {
   "cell_type": "markdown",
   "metadata": {},
   "source": [
    "# Prepare Train and Test Data"
   ]
  },
  {
   "cell_type": "code",
   "execution_count": 12,
   "metadata": {
    "collapsed": true
   },
   "outputs": [],
   "source": [
    "# reshape into X=t and Y=t+1\n",
    "train_x, train_y = create_dataset(train, look_back)\n",
    "test_x, test_y = create_dataset(test, look_back)"
   ]
  },
  {
   "cell_type": "markdown",
   "metadata": {},
   "source": [
    "# Reshape Data"
   ]
  },
  {
   "cell_type": "code",
   "execution_count": 13,
   "metadata": {
    "collapsed": true
   },
   "outputs": [],
   "source": [
    "# reshape input to be [samples, time steps, features]\n",
    "train_x = numpy.reshape(train_x, (train_x.shape[0], train_x.shape[1], 1))\n",
    "test_x = numpy.reshape(test_x, (test_x.shape[0], test_x.shape[1], 1))"
   ]
  },
  {
   "cell_type": "markdown",
   "metadata": {},
   "source": [
    "# Model Creation"
   ]
  },
  {
   "cell_type": "code",
   "execution_count": 14,
   "metadata": {
    "collapsed": true
   },
   "outputs": [],
   "source": [
    "# create and fit model\n",
    "batch_size = 1\n",
    "model = build_model(look_back, batch_size=batch_size)"
   ]
  },
  {
   "cell_type": "markdown",
   "metadata": {},
   "source": [
    "# Train Loop"
   ]
  },
  {
   "cell_type": "code",
   "execution_count": 15,
   "metadata": {},
   "outputs": [
    {
     "name": "stdout",
     "output_type": "stream",
     "text": [
      "Train Started!!!\n",
      "Epoch 1/1\n",
      "71/71 [==============================] - 3s 48ms/step - loss: 0.0105\n",
      "Epoch 1/1\n",
      "71/71 [==============================] - 3s 37ms/step - loss: 0.0069\n",
      "Epoch 1/1\n",
      "71/71 [==============================] - 3s 37ms/step - loss: 0.0078\n",
      "Epoch 1/1\n",
      "71/71 [==============================] - 3s 37ms/step - loss: 0.0082\n",
      "Epoch 1/1\n",
      "71/71 [==============================] - 3s 37ms/step - loss: 0.0081\n",
      "Epoch 1/1\n",
      "71/71 [==============================] - 3s 36ms/step - loss: 0.0079\n",
      "Epoch 1/1\n",
      "71/71 [==============================] - 3s 37ms/step - loss: 0.0075\n",
      "Epoch 1/1\n",
      "71/71 [==============================] - 3s 37ms/step - loss: 0.0071\n",
      "Epoch 1/1\n",
      "71/71 [==============================] - 3s 37ms/step - loss: 0.0068\n",
      "Epoch 1/1\n",
      "71/71 [==============================] - 3s 37ms/step - loss: 0.0064\n",
      "Epoch 1/1\n",
      "71/71 [==============================] - 3s 38ms/step - loss: 0.0061\n",
      "Epoch 1/1\n",
      "71/71 [==============================] - 3s 38ms/step - loss: 0.0059\n",
      "Epoch 1/1\n",
      "71/71 [==============================] - 3s 37ms/step - loss: 0.0057\n",
      "Epoch 1/1\n",
      "71/71 [==============================] - 3s 37ms/step - loss: 0.0055\n",
      "Epoch 1/1\n",
      "71/71 [==============================] - 3s 37ms/step - loss: 0.0052\n",
      "Epoch 1/1\n",
      "71/71 [==============================] - 3s 37ms/step - loss: 0.0050\n",
      "Epoch 1/1\n",
      "71/71 [==============================] - 3s 37ms/step - loss: 0.0048\n",
      "Epoch 1/1\n",
      "71/71 [==============================] - 3s 36ms/step - loss: 0.0045\n",
      "Epoch 1/1\n",
      "71/71 [==============================] - 3s 37ms/step - loss: 0.0043\n",
      "Epoch 1/1\n",
      "71/71 [==============================] - 3s 37ms/step - loss: 0.0041\n",
      "Epoch 1/1\n",
      "71/71 [==============================] - 3s 37ms/step - loss: 0.0040\n",
      "Epoch 1/1\n",
      "71/71 [==============================] - 3s 36ms/step - loss: 0.0037\n",
      "Epoch 1/1\n",
      "71/71 [==============================] - 3s 37ms/step - loss: 0.0036\n",
      "Epoch 1/1\n",
      "71/71 [==============================] - 3s 37ms/step - loss: 0.0034\n",
      "Epoch 1/1\n",
      "71/71 [==============================] - 3s 37ms/step - loss: 0.0034\n",
      "Epoch 1/1\n",
      "71/71 [==============================] - 3s 37ms/step - loss: 0.0030\n",
      "Epoch 1/1\n",
      "71/71 [==============================] - 3s 37ms/step - loss: 0.0027\n",
      "Epoch 1/1\n",
      "71/71 [==============================] - 3s 36ms/step - loss: 0.0023\n",
      "Epoch 1/1\n",
      "71/71 [==============================] - 3s 36ms/step - loss: 0.0022\n",
      "Epoch 1/1\n",
      "71/71 [==============================] - 3s 37ms/step - loss: 0.0022\n",
      "Epoch 1/1\n",
      "71/71 [==============================] - 3s 37ms/step - loss: 0.0021\n",
      "Epoch 1/1\n",
      "71/71 [==============================] - 3s 37ms/step - loss: 0.0020\n",
      "Epoch 1/1\n",
      "71/71 [==============================] - 3s 37ms/step - loss: 0.0019\n",
      "Epoch 1/1\n",
      "71/71 [==============================] - 3s 37ms/step - loss: 0.0019\n",
      "Epoch 1/1\n",
      "71/71 [==============================] - 3s 37ms/step - loss: 0.0020\n",
      "Epoch 1/1\n",
      "71/71 [==============================] - 3s 37ms/step - loss: 0.0021\n",
      "Epoch 1/1\n",
      "71/71 [==============================] - 3s 38ms/step - loss: 0.0022\n",
      "Epoch 1/1\n",
      "71/71 [==============================] - 3s 37ms/step - loss: 0.0022\n",
      "Epoch 1/1\n",
      "71/71 [==============================] - 3s 37ms/step - loss: 0.0019\n",
      "Epoch 1/1\n",
      "71/71 [==============================] - 3s 37ms/step - loss: 0.0018\n",
      "Epoch 1/1\n",
      "71/71 [==============================] - 3s 37ms/step - loss: 0.0017\n",
      "Epoch 1/1\n",
      "71/71 [==============================] - 3s 36ms/step - loss: 0.0017\n",
      "Epoch 1/1\n",
      "71/71 [==============================] - 3s 37ms/step - loss: 0.0018\n",
      "Epoch 1/1\n",
      "71/71 [==============================] - 3s 37ms/step - loss: 0.0019\n",
      "Epoch 1/1\n",
      "71/71 [==============================] - 3s 37ms/step - loss: 0.0023\n",
      "Epoch 1/1\n",
      "71/71 [==============================] - 3s 37ms/step - loss: 0.0023\n",
      "Epoch 1/1\n",
      "71/71 [==============================] - 3s 36ms/step - loss: 0.0023\n",
      "Epoch 1/1\n",
      "71/71 [==============================] - 3s 37ms/step - loss: 0.0021\n",
      "Epoch 1/1\n",
      "71/71 [==============================] - 3s 37ms/step - loss: 0.0019\n",
      "Epoch 1/1\n",
      "71/71 [==============================] - 3s 37ms/step - loss: 0.0018\n",
      "Epoch 1/1\n",
      "71/71 [==============================] - 3s 37ms/step - loss: 0.0017\n",
      "Epoch 1/1\n",
      "71/71 [==============================] - 3s 37ms/step - loss: 0.0018\n",
      "Epoch 1/1\n",
      "71/71 [==============================] - 3s 37ms/step - loss: 0.0016\n",
      "Epoch 1/1\n",
      "71/71 [==============================] - 3s 37ms/step - loss: 42755314.3104\n",
      "Epoch 1/1\n",
      "71/71 [==============================] - 3s 37ms/step - loss: 0.0054\n",
      "Epoch 1/1\n",
      "71/71 [==============================] - 3s 36ms/step - loss: 0.0023\n",
      "Epoch 1/1\n",
      "71/71 [==============================] - 3s 37ms/step - loss: 0.0020\n",
      "Epoch 1/1\n",
      "71/71 [==============================] - 3s 38ms/step - loss: 0.0021\n",
      "Epoch 1/1\n",
      "71/71 [==============================] - 3s 37ms/step - loss: 0.0019\n",
      "Epoch 1/1\n",
      "71/71 [==============================] - 3s 37ms/step - loss: 0.0023\n",
      "Epoch 1/1\n",
      "71/71 [==============================] - 3s 37ms/step - loss: 0.0020\n",
      "Epoch 1/1\n",
      "71/71 [==============================] - 3s 37ms/step - loss: 0.0023\n",
      "Epoch 1/1\n",
      "71/71 [==============================] - 3s 37ms/step - loss: 0.0022\n",
      "Epoch 1/1\n",
      "71/71 [==============================] - 3s 37ms/step - loss: 0.0021\n",
      "Epoch 1/1\n",
      "71/71 [==============================] - 3s 38ms/step - loss: 0.0018\n",
      "Epoch 1/1\n",
      "71/71 [==============================] - 3s 37ms/step - loss: 0.0017\n",
      "Epoch 1/1\n",
      "71/71 [==============================] - 3s 37ms/step - loss: 0.0016\n",
      "Epoch 1/1\n",
      "71/71 [==============================] - 3s 37ms/step - loss: 0.0016\n",
      "Epoch 1/1\n",
      "71/71 [==============================] - 3s 37ms/step - loss: 0.0016\n",
      "Epoch 1/1\n",
      "71/71 [==============================] - 3s 37ms/step - loss: 0.0016\n",
      "Epoch 1/1\n",
      "71/71 [==============================] - 3s 37ms/step - loss: 0.0015\n",
      "Epoch 1/1\n",
      "71/71 [==============================] - 3s 36ms/step - loss: 0.0015\n",
      "Epoch 1/1\n",
      "71/71 [==============================] - 3s 37ms/step - loss: 0.0015\n",
      "Epoch 1/1\n",
      "71/71 [==============================] - 3s 37ms/step - loss: 0.0015\n",
      "Epoch 1/1\n",
      "71/71 [==============================] - 3s 38ms/step - loss: 0.0014\n",
      "Epoch 1/1\n",
      "71/71 [==============================] - 3s 37ms/step - loss: 0.0014\n",
      "Epoch 1/1\n",
      "71/71 [==============================] - 3s 37ms/step - loss: 0.0014\n",
      "Epoch 1/1\n",
      "71/71 [==============================] - 3s 37ms/step - loss: 0.0014\n",
      "Epoch 1/1\n",
      "71/71 [==============================] - 3s 36ms/step - loss: 0.0014\n",
      "Epoch 1/1\n",
      "71/71 [==============================] - 3s 37ms/step - loss: 0.0014\n",
      "Epoch 1/1\n",
      "71/71 [==============================] - 3s 37ms/step - loss: 0.0013\n",
      "Epoch 1/1\n",
      "71/71 [==============================] - 3s 36ms/step - loss: 0.0013\n",
      "Epoch 1/1\n",
      "71/71 [==============================] - 3s 37ms/step - loss: 0.0013\n",
      "Epoch 1/1\n",
      "71/71 [==============================] - 3s 37ms/step - loss: 0.0013\n",
      "Epoch 1/1\n",
      "71/71 [==============================] - 3s 37ms/step - loss: 0.0013\n",
      "Epoch 1/1\n",
      "71/71 [==============================] - 3s 37ms/step - loss: 0.0013\n",
      "Epoch 1/1\n",
      "71/71 [==============================] - 3s 36ms/step - loss: 0.0013\n",
      "Epoch 1/1\n",
      "71/71 [==============================] - 3s 36ms/step - loss: 0.0012\n",
      "Epoch 1/1\n",
      "71/71 [==============================] - 3s 37ms/step - loss: 0.0012\n",
      "Epoch 1/1\n",
      "71/71 [==============================] - 3s 37ms/step - loss: 0.0012\n",
      "Epoch 1/1\n",
      "71/71 [==============================] - 3s 36ms/step - loss: 0.0012\n",
      "Epoch 1/1\n",
      "71/71 [==============================] - 3s 36ms/step - loss: 0.0012\n",
      "Epoch 1/1\n",
      "71/71 [==============================] - 3s 37ms/step - loss: 0.0012\n",
      "Epoch 1/1\n",
      "71/71 [==============================] - 3s 37ms/step - loss: 0.0013\n",
      "Epoch 1/1\n",
      "71/71 [==============================] - 3s 36ms/step - loss: 0.0012\n",
      "Epoch 1/1\n",
      "71/71 [==============================] - 3s 36ms/step - loss: 0.0013\n",
      "Epoch 1/1\n",
      "71/71 [==============================] - 3s 37ms/step - loss: 0.0012\n",
      "Epoch 1/1\n",
      "71/71 [==============================] - 3s 37ms/step - loss: 0.0012\n",
      "Epoch 1/1\n",
      "71/71 [==============================] - 3s 37ms/step - loss: 0.0011\n",
      "Epoch 1/1\n",
      "71/71 [==============================] - 3s 37ms/step - loss: 0.0012\n",
      "Train Finished!!!\n"
     ]
    }
   ],
   "source": [
    "print('Train Started!!!')\n",
    "for i in range(100):\n",
    "    model.fit(train_x, train_y, epochs=1, batch_size=batch_size, verbose=1, shuffle=False)\n",
    "    model.reset_states()\n",
    "print('Train Finished!!!')"
   ]
  },
  {
   "cell_type": "markdown",
   "metadata": {},
   "source": [
    "# Using Model"
   ]
  },
  {
   "cell_type": "code",
   "execution_count": 16,
   "metadata": {},
   "outputs": [
    {
     "ename": "ValueError",
     "evalue": "Input contains NaN, infinity or a value too large for dtype('float32').",
     "output_type": "error",
     "traceback": [
      "\u001b[0;31m---------------------------------------------------------------------------\u001b[0m",
      "\u001b[0;31mValueError\u001b[0m                                Traceback (most recent call last)",
      "\u001b[0;32m<ipython-input-16-b532183c6b72>\u001b[0m in \u001b[0;36m<module>\u001b[0;34m()\u001b[0m\n\u001b[1;32m     12\u001b[0m \u001b[0mtest_predict_inverse\u001b[0m \u001b[0;34m=\u001b[0m \u001b[0mscaler\u001b[0m\u001b[0;34m.\u001b[0m\u001b[0minverse_transform\u001b[0m\u001b[0;34m(\u001b[0m\u001b[0mtest_predict\u001b[0m\u001b[0;34m)\u001b[0m\u001b[0;34m\u001b[0m\u001b[0m\n\u001b[1;32m     13\u001b[0m \u001b[0mtest_y_inverse\u001b[0m \u001b[0;34m=\u001b[0m \u001b[0mscaler\u001b[0m\u001b[0;34m.\u001b[0m\u001b[0minverse_transform\u001b[0m\u001b[0;34m(\u001b[0m\u001b[0;34m[\u001b[0m\u001b[0mtest_y\u001b[0m\u001b[0;34m]\u001b[0m\u001b[0;34m)\u001b[0m\u001b[0;34m\u001b[0m\u001b[0m\n\u001b[0;32m---> 14\u001b[0;31m \u001b[0mforecast_predict_inverse\u001b[0m \u001b[0;34m=\u001b[0m \u001b[0mscaler\u001b[0m\u001b[0;34m.\u001b[0m\u001b[0minverse_transform\u001b[0m\u001b[0;34m(\u001b[0m\u001b[0mforecast_predict\u001b[0m\u001b[0;34m)\u001b[0m\u001b[0;34m\u001b[0m\u001b[0m\n\u001b[0m\u001b[1;32m     15\u001b[0m \u001b[0;34m\u001b[0m\u001b[0m\n\u001b[1;32m     16\u001b[0m \u001b[0;31m# calculate root mean squared error\u001b[0m\u001b[0;34m\u001b[0m\u001b[0;34m\u001b[0m\u001b[0m\n",
      "\u001b[0;32m~/anaconda3/lib/python3.5/site-packages/sklearn/preprocessing/data.py\u001b[0m in \u001b[0;36minverse_transform\u001b[0;34m(self, X)\u001b[0m\n\u001b[1;32m    381\u001b[0m         \u001b[0mcheck_is_fitted\u001b[0m\u001b[0;34m(\u001b[0m\u001b[0mself\u001b[0m\u001b[0;34m,\u001b[0m \u001b[0;34m'scale_'\u001b[0m\u001b[0;34m)\u001b[0m\u001b[0;34m\u001b[0m\u001b[0m\n\u001b[1;32m    382\u001b[0m \u001b[0;34m\u001b[0m\u001b[0m\n\u001b[0;32m--> 383\u001b[0;31m         \u001b[0mX\u001b[0m \u001b[0;34m=\u001b[0m \u001b[0mcheck_array\u001b[0m\u001b[0;34m(\u001b[0m\u001b[0mX\u001b[0m\u001b[0;34m,\u001b[0m \u001b[0mcopy\u001b[0m\u001b[0;34m=\u001b[0m\u001b[0mself\u001b[0m\u001b[0;34m.\u001b[0m\u001b[0mcopy\u001b[0m\u001b[0;34m,\u001b[0m \u001b[0mdtype\u001b[0m\u001b[0;34m=\u001b[0m\u001b[0mFLOAT_DTYPES\u001b[0m\u001b[0;34m)\u001b[0m\u001b[0;34m\u001b[0m\u001b[0m\n\u001b[0m\u001b[1;32m    384\u001b[0m \u001b[0;34m\u001b[0m\u001b[0m\n\u001b[1;32m    385\u001b[0m         \u001b[0mX\u001b[0m \u001b[0;34m-=\u001b[0m \u001b[0mself\u001b[0m\u001b[0;34m.\u001b[0m\u001b[0mmin_\u001b[0m\u001b[0;34m\u001b[0m\u001b[0m\n",
      "\u001b[0;32m~/anaconda3/lib/python3.5/site-packages/sklearn/utils/validation.py\u001b[0m in \u001b[0;36mcheck_array\u001b[0;34m(array, accept_sparse, dtype, order, copy, force_all_finite, ensure_2d, allow_nd, ensure_min_samples, ensure_min_features, warn_on_dtype, estimator)\u001b[0m\n\u001b[1;32m    451\u001b[0m                              % (array.ndim, estimator_name))\n\u001b[1;32m    452\u001b[0m         \u001b[0;32mif\u001b[0m \u001b[0mforce_all_finite\u001b[0m\u001b[0;34m:\u001b[0m\u001b[0;34m\u001b[0m\u001b[0m\n\u001b[0;32m--> 453\u001b[0;31m             \u001b[0m_assert_all_finite\u001b[0m\u001b[0;34m(\u001b[0m\u001b[0marray\u001b[0m\u001b[0;34m)\u001b[0m\u001b[0;34m\u001b[0m\u001b[0m\n\u001b[0m\u001b[1;32m    454\u001b[0m \u001b[0;34m\u001b[0m\u001b[0m\n\u001b[1;32m    455\u001b[0m     \u001b[0mshape_repr\u001b[0m \u001b[0;34m=\u001b[0m \u001b[0m_shape_repr\u001b[0m\u001b[0;34m(\u001b[0m\u001b[0marray\u001b[0m\u001b[0;34m.\u001b[0m\u001b[0mshape\u001b[0m\u001b[0;34m)\u001b[0m\u001b[0;34m\u001b[0m\u001b[0m\n",
      "\u001b[0;32m~/anaconda3/lib/python3.5/site-packages/sklearn/utils/validation.py\u001b[0m in \u001b[0;36m_assert_all_finite\u001b[0;34m(X)\u001b[0m\n\u001b[1;32m     42\u001b[0m             and not np.isfinite(X).all()):\n\u001b[1;32m     43\u001b[0m         raise ValueError(\"Input contains NaN, infinity\"\n\u001b[0;32m---> 44\u001b[0;31m                          \" or a value too large for %r.\" % X.dtype)\n\u001b[0m\u001b[1;32m     45\u001b[0m \u001b[0;34m\u001b[0m\u001b[0m\n\u001b[1;32m     46\u001b[0m \u001b[0;34m\u001b[0m\u001b[0m\n",
      "\u001b[0;31mValueError\u001b[0m: Input contains NaN, infinity or a value too large for dtype('float32')."
     ]
    }
   ],
   "source": [
    "# generate predictions for training\n",
    "train_predict = model.predict(train_x, batch_size)\n",
    "test_predict = model.predict(test_x, batch_size)\n",
    "\n",
    "# generate forecast predictions\n",
    "forecast_predict = make_forecast(model, test_x[-1::], timesteps=100, batch_size=batch_size)\n",
    "\n",
    "# invert dataset and predictions\n",
    "dataset_inverse = scaler.inverse_transform(dataset)\n",
    "train_predict_inverse = scaler.inverse_transform(train_predict)\n",
    "train_y_inverse = scaler.inverse_transform([train_y])\n",
    "test_predict_inverse = scaler.inverse_transform(test_predict)\n",
    "test_y_inverse = scaler.inverse_transform([test_y])\n",
    "forecast_predict_inverse = scaler.inverse_transform(forecast_predict)\n",
    "\n",
    "# calculate root mean squared error\n",
    "train_score = numpy.sqrt(mean_squared_error(train_y_inverse[0], train_predict_inverse[:, 0]))\n",
    "print('Train Score: %.2f RMSE' % train_score)\n",
    "test_score = numpy.sqrt(mean_squared_error(test_y_inverse[0], test_predict_inverse[:, 0]))\n",
    "print('Test Score: %.2f RMSE' % test_score)\n",
    "\n",
    "plot_data(dataset_inverse, look_back, train_predict_inverse, test_predict_inverse, forecast_predict_inverse)"
   ]
  },
  {
   "cell_type": "code",
   "execution_count": null,
   "metadata": {
    "collapsed": true
   },
   "outputs": [],
   "source": []
  }
 ],
 "metadata": {
  "kernelspec": {
   "display_name": "Python 3",
   "language": "python",
   "name": "python3"
  },
  "language_info": {
   "codemirror_mode": {
    "name": "ipython",
    "version": 3
   },
   "file_extension": ".py",
   "mimetype": "text/x-python",
   "name": "python",
   "nbconvert_exporter": "python",
   "pygments_lexer": "ipython3",
   "version": "3.5.5"
  },
  "widgets": {
   "state": {},
   "version": "1.1.2"
  }
 },
 "nbformat": 4,
 "nbformat_minor": 2
}
