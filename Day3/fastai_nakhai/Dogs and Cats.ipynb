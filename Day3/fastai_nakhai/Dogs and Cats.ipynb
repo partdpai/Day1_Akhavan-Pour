{
 "cells": [
  {
   "cell_type": "code",
   "execution_count": null,
   "metadata": {
    "collapsed": true
   },
   "outputs": [],
   "source": []
  },
  {
   "cell_type": "markdown",
   "metadata": {},
   "source": [
    "#  <div style=\"direction:rtl ;font-family: B Nazanin ;font-size:77px; line-height: 170%; text-align: center\"> به نام خدا</div>"
   ]
  },
  {
   "cell_type": "markdown",
   "metadata": {},
   "source": [
    "https://github.com/fastai/fastai\n"
   ]
  },
  {
   "cell_type": "markdown",
   "metadata": {},
   "source": [
    "http://course.fast.ai/"
   ]
  },
  {
   "cell_type": "markdown",
   "metadata": {},
   "source": [
    "#  <div style=\"direction:rtl ;font-family: B Nazanin ;font-size:34px; line-height: 170%; text-align: center\"> مقایسه کتابخانه fastai با سایر کتابخانه های یادگیری عمیق  </div>\n"
   ]
  },
  {
   "cell_type": "markdown",
   "metadata": {},
   "source": [
    "#  <div style=\"direction:rtl ;font-family: B Nazanin ;font-size:23px; line-height: 170%; text-align: right\"> معایب  </div>\n",
    " <div style=\"direction:rtl ;font-family: B Nazanin ;font-size:18px; line-height: 170%; text-align: right\">\n",
    "  <li> \n",
    "  \tمستندسازی ضعیفی دارد.\n",
    " </li>\n",
    "   <li> \n",
    "وابسته به pytoch است که خود این کتابخانه قابلیت های بالا و دارای بلوغی برای به کار گیری در موارد واقعی مثل سرورها، تلفن های همراه و .... در مقابل کتابخانه هایی مثل تنسورفلو را ندارد.\n",
    "</li>  \n",
    "   <li> \n",
    "به علاوه پایتورچ قابلیت اجرا بر روی بسیاری از دستگاه ها و پردازشگرها مثل TPU های گوگل را ندارد.\n",
    "</li>\n",
    "    <li> \n",
    "هنوز به اندازه کافی توسط کاربران و شرکت های بزرگ استفاده نمی شود.\n",
    "</li>\n",
    "     <li> \n",
    "هنوز به اندازه کافی توسط کاربران و شرکت های بزرگ استفاده نمی شود.\n",
    "</li>\n",
    "    <li> \n",
    "هنوز در برخی از جاها fastai دارای نواقصی است. به طور مثال یک API آن که بر روی مسائل دسته بندی کار می کند ممکن است برای مسائل رگرسیون کار نکند.\n",
    "</li>\n",
    "\n"
   ]
  },
  {
   "cell_type": "markdown",
   "metadata": {},
   "source": [
    "\n",
    "#  <div style=\"direction:rtl ;font-family: B Nazanin ;font-size:23px; line-height: 170%; text-align: right\"> مزایا  </div>\n",
    " <div style=\"direction:rtl ;font-family: B Nazanin ;font-size:18px; line-height: 170%; text-align: right\">\n",
    "     <li> \n",
    "\tبسیاری از رویه های برتر یادگیری عمیق و یادگیری ماشین در این کتابخانه پیاده سازی شده اند و برای همین آموزش آن سریع تر است و صحت بالاتری را نیز به ما می دهد.\n",
    "</li>\n",
    "\n",
    "     <li> \n",
    "کار با آن برای داده های جدولی راحت تر و بهتر است.\n",
    "</li>\n",
    "\n",
    "     <li> \n",
    "با اکوسیستم پایتون مثل پانداس راحت تر یکپارچه می شود\n",
    "</li>\n",
    "\n",
    "     <li> \n",
    "\tذات پویا بود فریمورک پایتورچ باعث میشود که بتوان راحت تر با آن آزمایش و تکرار کرد و برای همین است که بسیاری از مقالات با پایتورچ پیاده سازی شده اند.\n",
    "    </li>\n",
    "\n",
    "\n",
    "\n",
    "  </div>\n"
   ]
  },
  {
   "cell_type": "markdown",
   "metadata": {},
   "source": [
    "#  <div style=\"direction:rtl ;font-family: B Nazanin ;font-size:34px; line-height: 170%; text-align: center\"> نصب کتابخانه fastai  </div>\n"
   ]
  },
  {
   "cell_type": "markdown",
   "metadata": {},
   "source": [
    "https://virgool.io/@partdpai/fastai-library-n5jokluamd3x"
   ]
  },
  {
   "cell_type": "markdown",
   "metadata": {},
   "source": [
    "<div style=\"direction:rtl ;font-family: B Nazanin ;font-size:23px; line-height: 170%; text-align: right\"> در این جا از هم ما از مسئله دسته بندی تصاویر دیتاست سگ و گربه شروع می کنیم. یک ویژگی کتابخانه fastai این است که با استفاده از تکنیک های مدرنی که در آن پیاده سازی شده است به راحتی می توانیم یک مدل یادگیری را با هدف به دست آوردن صحت بسیار بالا آموزش دهیم.به طور مثال بعد از این یک شبکه عصبی را با استفاده از تصاویر سگ و گربه آموزش دادیم مدل ما قادر خواهد بود که بر اساس تصویر جدیدی که به آن می دهیم با صحت بالایی پیش بینی کند که آن تصویر متعلق به چه یک گربه است یا یک سگ.  </div>"
   ]
  },
  {
   "cell_type": "markdown",
   "metadata": {},
   "source": [
    "<div style=\"direction:rtl ;font-family: B Nazanin ;font-size:23px; line-height: 170%; text-align: right\">دیتاست سگ وگربه دارای 25000 تصویر برچسب گذاری شده از سگ ها و گربه ها در مجموعه آموزش و 12500 تصویر بدون برچسب در مجموعه تست است که می خواهیم برچسب های آن ها را پیشبینی کنیم.  </div>"
   ]
  },
  {
   "cell_type": "markdown",
   "metadata": {},
   "source": [
    "http://files.fast.ai/data/"
   ]
  },
  {
   "cell_type": "code",
   "execution_count": null,
   "metadata": {},
   "outputs": [],
   "source": [
    "!pip install pdl\n",
    "from pdl import pdl\n",
    "pdl.dogscats(verbose = True)"
   ]
  },
  {
   "cell_type": "markdown",
   "metadata": {},
   "source": [
    "#  <div style=\"direction:rtl ;font-family: B Nazanin ;font-size:34px; line-height: 170%; text-align: center\"> بررسی  دیتاست  </div>"
   ]
  },
  {
   "cell_type": "markdown",
   "metadata": {},
   "source": [
    "#  <div style=\"direction:rtl ;font-family: B Nazanin ;font-size:34px; line-height: 170%; text-align: center\"> آموزش اولین مدل یادگیری عمیق  </div>"
   ]
  },
  {
   "cell_type": "code",
   "execution_count": 4,
   "metadata": {},
   "outputs": [
    {
     "ename": "ModuleNotFoundError",
     "evalue": "No module named 'fastai'",
     "output_type": "error",
     "traceback": [
      "\u001b[1;31m---------------------------------------------------------------------------\u001b[0m",
      "\u001b[1;31mModuleNotFoundError\u001b[0m                       Traceback (most recent call last)",
      "\u001b[1;32m<ipython-input-4-e6d517e1026e>\u001b[0m in \u001b[0;36m<module>\u001b[1;34m()\u001b[0m\n\u001b[1;32m----> 1\u001b[1;33m \u001b[1;32mfrom\u001b[0m \u001b[0mfastai\u001b[0m\u001b[1;33m.\u001b[0m\u001b[0mimports\u001b[0m \u001b[1;32mimport\u001b[0m \u001b[1;33m*\u001b[0m\u001b[1;33m\u001b[0m\u001b[0m\n\u001b[0m\u001b[0;32m      2\u001b[0m \u001b[1;32mfrom\u001b[0m \u001b[0mfastai\u001b[0m\u001b[1;33m.\u001b[0m\u001b[0mtransforms\u001b[0m \u001b[1;32mimport\u001b[0m \u001b[1;33m*\u001b[0m\u001b[1;33m\u001b[0m\u001b[0m\n\u001b[0;32m      3\u001b[0m \u001b[1;32mfrom\u001b[0m \u001b[0mfastai\u001b[0m\u001b[1;33m.\u001b[0m\u001b[0mconv_learner\u001b[0m \u001b[1;32mimport\u001b[0m \u001b[1;33m*\u001b[0m\u001b[1;33m\u001b[0m\u001b[0m\n\u001b[0;32m      4\u001b[0m \u001b[1;32mfrom\u001b[0m \u001b[0mfastai\u001b[0m\u001b[1;33m.\u001b[0m\u001b[0mmodel\u001b[0m \u001b[1;32mimport\u001b[0m \u001b[1;33m*\u001b[0m\u001b[1;33m\u001b[0m\u001b[0m\n\u001b[0;32m      5\u001b[0m \u001b[1;32mfrom\u001b[0m \u001b[0mfastai\u001b[0m\u001b[1;33m.\u001b[0m\u001b[0mdataset\u001b[0m \u001b[1;32mimport\u001b[0m \u001b[1;33m*\u001b[0m\u001b[1;33m\u001b[0m\u001b[0m\n",
      "\u001b[1;31mModuleNotFoundError\u001b[0m: No module named 'fastai'"
     ]
    }
   ],
   "source": [
    "from fastai.imports import *\n",
    "from fastai.transforms import *\n",
    "from fastai.conv_learner import *\n",
    "from fastai.model import *\n",
    "from fastai.dataset import *\n",
    "from fastai.sgdr import *\n",
    "from fastai.plots import *"
   ]
  },
  {
   "cell_type": "code",
   "execution_count": null,
   "metadata": {
    "collapsed": true
   },
   "outputs": [],
   "source": [
    "arch = resnet34\n"
   ]
  }
 ],
 "metadata": {
  "kernelspec": {
   "display_name": "Python 3",
   "language": "python",
   "name": "python3"
  },
  "language_info": {
   "codemirror_mode": {
    "name": "ipython",
    "version": 3
   },
   "file_extension": ".py",
   "mimetype": "text/x-python",
   "name": "python",
   "nbconvert_exporter": "python",
   "pygments_lexer": "ipython3",
   "version": "3.6.3"
  }
 },
 "nbformat": 4,
 "nbformat_minor": 2
}
