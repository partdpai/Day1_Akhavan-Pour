{
 "cells": [
  {
   "cell_type": "code",
   "execution_count": 1,
   "metadata": {},
   "outputs": [
    {
     "ename": "ModuleNotFoundError",
     "evalue": "No module named 'cv2'",
     "output_type": "error",
     "traceback": [
      "\u001b[1;31m---------------------------------------------------------------------------\u001b[0m",
      "\u001b[1;31mModuleNotFoundError\u001b[0m                       Traceback (most recent call last)",
      "\u001b[1;32m<ipython-input-1-3f79f2d14c93>\u001b[0m in \u001b[0;36m<module>\u001b[1;34m()\u001b[0m\n\u001b[1;32m----> 1\u001b[1;33m \u001b[1;32mfrom\u001b[0m \u001b[0mfastai\u001b[0m\u001b[1;33m.\u001b[0m\u001b[0mstructured\u001b[0m \u001b[1;32mimport\u001b[0m \u001b[1;33m*\u001b[0m\u001b[1;33m\u001b[0m\u001b[0m\n\u001b[0m\u001b[0;32m      2\u001b[0m \u001b[1;32mfrom\u001b[0m \u001b[0mfastai\u001b[0m\u001b[1;33m.\u001b[0m\u001b[0mcolumn_data\u001b[0m \u001b[1;32mimport\u001b[0m \u001b[1;33m*\u001b[0m\u001b[1;33m\u001b[0m\u001b[0m\n\u001b[0;32m      3\u001b[0m \u001b[0mnp\u001b[0m\u001b[1;33m.\u001b[0m\u001b[0mset_printoptions\u001b[0m\u001b[1;33m(\u001b[0m\u001b[0mthreshold\u001b[0m\u001b[1;33m=\u001b[0m\u001b[1;36m50\u001b[0m\u001b[1;33m,\u001b[0m \u001b[0medgeitems\u001b[0m\u001b[1;33m=\u001b[0m\u001b[1;36m20\u001b[0m\u001b[1;33m)\u001b[0m\u001b[1;33m\u001b[0m\u001b[0m\n",
      "\u001b[1;32mE:\\جدید\\DL\\fastai\\fastai\\structured.py\u001b[0m in \u001b[0;36m<module>\u001b[1;34m()\u001b[0m\n\u001b[1;32m----> 1\u001b[1;33m \u001b[1;32mfrom\u001b[0m \u001b[1;33m.\u001b[0m\u001b[0mimports\u001b[0m \u001b[1;32mimport\u001b[0m \u001b[1;33m*\u001b[0m\u001b[1;33m\u001b[0m\u001b[0m\n\u001b[0m\u001b[0;32m      2\u001b[0m \u001b[1;33m\u001b[0m\u001b[0m\n\u001b[0;32m      3\u001b[0m \u001b[1;32mfrom\u001b[0m \u001b[0msklearn_pandas\u001b[0m \u001b[1;32mimport\u001b[0m \u001b[0mDataFrameMapper\u001b[0m\u001b[1;33m\u001b[0m\u001b[0m\n\u001b[0;32m      4\u001b[0m \u001b[1;32mfrom\u001b[0m \u001b[0msklearn\u001b[0m\u001b[1;33m.\u001b[0m\u001b[0mpreprocessing\u001b[0m \u001b[1;32mimport\u001b[0m \u001b[0mLabelEncoder\u001b[0m\u001b[1;33m,\u001b[0m \u001b[0mImputer\u001b[0m\u001b[1;33m,\u001b[0m \u001b[0mStandardScaler\u001b[0m\u001b[1;33m\u001b[0m\u001b[0m\n\u001b[0;32m      5\u001b[0m \u001b[1;32mfrom\u001b[0m \u001b[0mpandas\u001b[0m\u001b[1;33m.\u001b[0m\u001b[0mapi\u001b[0m\u001b[1;33m.\u001b[0m\u001b[0mtypes\u001b[0m \u001b[1;32mimport\u001b[0m \u001b[0mis_string_dtype\u001b[0m\u001b[1;33m,\u001b[0m \u001b[0mis_numeric_dtype\u001b[0m\u001b[1;33m\u001b[0m\u001b[0m\n",
      "\u001b[1;32mE:\\جدید\\DL\\fastai\\fastai\\imports.py\u001b[0m in \u001b[0;36m<module>\u001b[1;34m()\u001b[0m\n\u001b[0;32m      1\u001b[0m \u001b[1;32mfrom\u001b[0m \u001b[0mIPython\u001b[0m\u001b[1;33m.\u001b[0m\u001b[0mlib\u001b[0m\u001b[1;33m.\u001b[0m\u001b[0mdeepreload\u001b[0m \u001b[1;32mimport\u001b[0m \u001b[0mreload\u001b[0m \u001b[1;32mas\u001b[0m \u001b[0mdreload\u001b[0m\u001b[1;33m\u001b[0m\u001b[0m\n\u001b[1;32m----> 2\u001b[1;33m \u001b[1;32mimport\u001b[0m \u001b[0mPIL\u001b[0m\u001b[1;33m,\u001b[0m \u001b[0mos\u001b[0m\u001b[1;33m,\u001b[0m \u001b[0mnumpy\u001b[0m \u001b[1;32mas\u001b[0m \u001b[0mnp\u001b[0m\u001b[1;33m,\u001b[0m \u001b[0mmath\u001b[0m\u001b[1;33m,\u001b[0m \u001b[0mcollections\u001b[0m\u001b[1;33m,\u001b[0m \u001b[0mthreading\u001b[0m\u001b[1;33m,\u001b[0m \u001b[0mjson\u001b[0m\u001b[1;33m,\u001b[0m \u001b[0mbcolz\u001b[0m\u001b[1;33m,\u001b[0m \u001b[0mrandom\u001b[0m\u001b[1;33m,\u001b[0m \u001b[0mscipy\u001b[0m\u001b[1;33m,\u001b[0m \u001b[0mcv2\u001b[0m\u001b[1;33m\u001b[0m\u001b[0m\n\u001b[0m\u001b[0;32m      3\u001b[0m \u001b[1;32mimport\u001b[0m \u001b[0mpandas\u001b[0m \u001b[1;32mas\u001b[0m \u001b[0mpd\u001b[0m\u001b[1;33m,\u001b[0m \u001b[0mpickle\u001b[0m\u001b[1;33m,\u001b[0m \u001b[0msys\u001b[0m\u001b[1;33m,\u001b[0m \u001b[0mitertools\u001b[0m\u001b[1;33m,\u001b[0m \u001b[0mstring\u001b[0m\u001b[1;33m,\u001b[0m \u001b[0msys\u001b[0m\u001b[1;33m,\u001b[0m \u001b[0mre\u001b[0m\u001b[1;33m,\u001b[0m \u001b[0mdatetime\u001b[0m\u001b[1;33m,\u001b[0m \u001b[0mtime\u001b[0m\u001b[1;33m,\u001b[0m \u001b[0mshutil\u001b[0m\u001b[1;33m,\u001b[0m \u001b[0mcopy\u001b[0m\u001b[1;33m\u001b[0m\u001b[0m\n\u001b[0;32m      4\u001b[0m \u001b[1;32mimport\u001b[0m \u001b[0mseaborn\u001b[0m \u001b[1;32mas\u001b[0m \u001b[0msns\u001b[0m\u001b[1;33m,\u001b[0m \u001b[0mmatplotlib\u001b[0m\u001b[1;33m\u001b[0m\u001b[0m\n\u001b[0;32m      5\u001b[0m \u001b[1;32mimport\u001b[0m \u001b[0mIPython\u001b[0m\u001b[1;33m,\u001b[0m \u001b[0mgraphviz\u001b[0m\u001b[1;33m,\u001b[0m \u001b[0msklearn_pandas\u001b[0m\u001b[1;33m,\u001b[0m \u001b[0msklearn\u001b[0m\u001b[1;33m,\u001b[0m \u001b[0mwarnings\u001b[0m\u001b[1;33m,\u001b[0m \u001b[0mpdb\u001b[0m\u001b[1;33m\u001b[0m\u001b[0m\n",
      "\u001b[1;31mModuleNotFoundError\u001b[0m: No module named 'cv2'"
     ]
    }
   ],
   "source": [
    "from fastai.structured import *\n",
    "from fastai.column_data import *\n",
    "np.set_printoptions(threshold=50, edgeitems=20)"
   ]
  },
  {
   "cell_type": "code",
   "execution_count": 6,
   "metadata": {},
   "outputs": [],
   "source": [
    "%matplotlib inline\n",
    "%reload_ext autoreload\n",
    "%autoreload 2"
   ]
  },
  {
   "cell_type": "code",
   "execution_count": 3,
   "metadata": {},
   "outputs": [
    {
     "data": {
      "text/html": [
       "<div>\n",
       "<style scoped>\n",
       "    .dataframe tbody tr th:only-of-type {\n",
       "        vertical-align: middle;\n",
       "    }\n",
       "\n",
       "    .dataframe tbody tr th {\n",
       "        vertical-align: top;\n",
       "    }\n",
       "\n",
       "    .dataframe thead th {\n",
       "        text-align: right;\n",
       "    }\n",
       "</style>\n",
       "<table border=\"1\" class=\"dataframe\">\n",
       "  <thead>\n",
       "    <tr style=\"text-align: right;\">\n",
       "      <th></th>\n",
       "      <th>ID</th>\n",
       "      <th>sourceLatitude</th>\n",
       "      <th>sourceLongitude</th>\n",
       "      <th>SourceState</th>\n",
       "      <th>destinationLatitude</th>\n",
       "      <th>destinationLongitude</th>\n",
       "      <th>destinationState</th>\n",
       "      <th>distanceKM</th>\n",
       "      <th>taxiDurationMin</th>\n",
       "      <th>vehicleType</th>\n",
       "      <th>vehicleOption</th>\n",
       "      <th>weight</th>\n",
       "      <th>price</th>\n",
       "      <th>month</th>\n",
       "      <th>day</th>\n",
       "    </tr>\n",
       "  </thead>\n",
       "  <tbody>\n",
       "    <tr>\n",
       "      <th>0</th>\n",
       "      <td>88142929797</td>\n",
       "      <td>36.666045</td>\n",
       "      <td>48.489706</td>\n",
       "      <td>زنجان</td>\n",
       "      <td>29.600574</td>\n",
       "      <td>52.537114</td>\n",
       "      <td>فارس</td>\n",
       "      <td>1092.0</td>\n",
       "      <td>751.0</td>\n",
       "      <td>treili</td>\n",
       "      <td>kafi</td>\n",
       "      <td>20.0</td>\n",
       "      <td>15300000.0</td>\n",
       "      <td>2</td>\n",
       "      <td>18</td>\n",
       "    </tr>\n",
       "    <tr>\n",
       "      <th>1</th>\n",
       "      <td>30842979862</td>\n",
       "      <td>32.323951</td>\n",
       "      <td>50.855412</td>\n",
       "      <td>چهارمحال و بختیاری</td>\n",
       "      <td>34.644923</td>\n",
       "      <td>50.876092</td>\n",
       "      <td>قم</td>\n",
       "      <td>414.0</td>\n",
       "      <td>264.0</td>\n",
       "      <td>khavar</td>\n",
       "      <td>mosaghaf_felezi</td>\n",
       "      <td>2.5</td>\n",
       "      <td>1800000.0</td>\n",
       "      <td>5</td>\n",
       "      <td>11</td>\n",
       "    </tr>\n",
       "  </tbody>\n",
       "</table>\n",
       "</div>"
      ],
      "text/plain": [
       "            ID  sourceLatitude  sourceLongitude         SourceState  \\\n",
       "0  88142929797       36.666045        48.489706               زنجان   \n",
       "1  30842979862       32.323951        50.855412  چهارمحال و بختیاری   \n",
       "\n",
       "   destinationLatitude  destinationLongitude destinationState  distanceKM  \\\n",
       "0            29.600574             52.537114             فارس      1092.0   \n",
       "1            34.644923             50.876092               قم       414.0   \n",
       "\n",
       "   taxiDurationMin vehicleType    vehicleOption  weight       price  month  \\\n",
       "0            751.0      treili             kafi    20.0  15300000.0      2   \n",
       "1            264.0      khavar  mosaghaf_felezi     2.5   1800000.0      5   \n",
       "\n",
       "   day  \n",
       "0   18  \n",
       "1   11  "
      ]
     },
     "execution_count": 3,
     "metadata": {},
     "output_type": "execute_result"
    }
   ],
   "source": [
    "train_test = pd.read_csv('train_test_only_day_month.csv')\n",
    "del train_test['Unnamed: 0']\n",
    "del train_test['date']\n",
    "train_test.head(2)"
   ]
  },
  {
   "cell_type": "code",
   "execution_count": 7,
   "metadata": {},
   "outputs": [
    {
     "data": {
      "text/plain": [
       "(50000, 14)"
      ]
     },
     "execution_count": 7,
     "metadata": {},
     "output_type": "execute_result"
    }
   ],
   "source": [
    "data = train_test[train_test['price'] >0]\n",
    "del data['ID']\n",
    "data.shape"
   ]
  },
  {
   "cell_type": "code",
   "execution_count": 8,
   "metadata": {},
   "outputs": [
    {
     "name": "stderr",
     "output_type": "stream",
     "text": [
      "D:\\ProgramData\\Anaconda3\\envs\\fastai\\lib\\site-packages\\ipykernel_launcher.py:1: SettingWithCopyWarning: \n",
      "A value is trying to be set on a copy of a slice from a DataFrame.\n",
      "Try using .loc[row_indexer,col_indexer] = value instead\n",
      "\n",
      "See the caveats in the documentation: http://pandas.pydata.org/pandas-docs/stable/indexing.html#indexing-view-versus-copy\n",
      "  \"\"\"Entry point for launching an IPython kernel.\n",
      "D:\\ProgramData\\Anaconda3\\envs\\fastai\\lib\\site-packages\\ipykernel_launcher.py:2: SettingWithCopyWarning: \n",
      "A value is trying to be set on a copy of a slice from a DataFrame.\n",
      "Try using .loc[row_indexer,col_indexer] = value instead\n",
      "\n",
      "See the caveats in the documentation: http://pandas.pydata.org/pandas-docs/stable/indexing.html#indexing-view-versus-copy\n",
      "  \n"
     ]
    }
   ],
   "source": [
    "data['sourceLatitude']  = data['sourceLatitude'].astype('int')\n",
    "data['sourceLongitude']  = data['sourceLongitude'].astype('int')"
   ]
  },
  {
   "cell_type": "code",
   "execution_count": 9,
   "metadata": {},
   "outputs": [
    {
     "name": "stdout",
     "output_type": "stream",
     "text": [
      "<class 'pandas.core.frame.DataFrame'>\n",
      "Int64Index: 50000 entries, 0 to 49999\n",
      "Data columns (total 14 columns):\n",
      "sourceLatitude          50000 non-null int32\n",
      "sourceLongitude         50000 non-null int32\n",
      "SourceState             50000 non-null object\n",
      "destinationLatitude     50000 non-null float64\n",
      "destinationLongitude    50000 non-null float64\n",
      "destinationState        50000 non-null object\n",
      "distanceKM              49997 non-null float64\n",
      "taxiDurationMin         49997 non-null float64\n",
      "vehicleType             50000 non-null object\n",
      "vehicleOption           50000 non-null object\n",
      "weight                  50000 non-null float64\n",
      "price                   50000 non-null float64\n",
      "month                   50000 non-null int64\n",
      "day                     50000 non-null int64\n",
      "dtypes: float64(6), int32(2), int64(2), object(4)\n",
      "memory usage: 5.3+ MB\n"
     ]
    }
   ],
   "source": [
    "data.info()"
   ]
  },
  {
   "cell_type": "code",
   "execution_count": 10,
   "metadata": {},
   "outputs": [
    {
     "name": "stderr",
     "output_type": "stream",
     "text": [
      "D:\\ProgramData\\Anaconda3\\envs\\fastai\\lib\\site-packages\\ipykernel_launcher.py:6: SettingWithCopyWarning: \n",
      "A value is trying to be set on a copy of a slice from a DataFrame.\n",
      "Try using .loc[row_indexer,col_indexer] = value instead\n",
      "\n",
      "See the caveats in the documentation: http://pandas.pydata.org/pandas-docs/stable/indexing.html#indexing-view-versus-copy\n",
      "  \n",
      "D:\\ProgramData\\Anaconda3\\envs\\fastai\\lib\\site-packages\\ipykernel_launcher.py:7: SettingWithCopyWarning: \n",
      "A value is trying to be set on a copy of a slice from a DataFrame.\n",
      "Try using .loc[row_indexer,col_indexer] = value instead\n",
      "\n",
      "See the caveats in the documentation: http://pandas.pydata.org/pandas-docs/stable/indexing.html#indexing-view-versus-copy\n",
      "  import sys\n"
     ]
    }
   ],
   "source": [
    "cat_vars = ['month','day','vehicleType',\n",
    "            'vehicleOption','SourceState','destinationState',\n",
    "           'sourceLatitude','sourceLongitude',]\n",
    "cont_vars = ['weight','destinationLatitude','destinationLongitude',\n",
    "             'distanceKM','taxiDurationMin']\n",
    "for v in cont_vars: data[v] = data[v].astype('float32')\n",
    "for v in cat_vars: data[v] = data[v].astype('category').cat.as_ordered()"
   ]
  },
  {
   "cell_type": "code",
   "execution_count": 11,
   "metadata": {},
   "outputs": [
    {
     "data": {
      "text/plain": [
       "\"cat_vars = ['date','vehicleType','vehicleOption','SourceState','destinationState',]\\ncont_vars = ['weight','destinationLatitude','destinationLongitude',\\n             'sourceLatitude','sourceLongitude','distanceKM','taxiDurationMin']\\nfor v in cont_vars: data[v] = data[v].astype('float32')\\nfor v in cat_vars: data[v] = data[v].astype('category').cat.as_ordered()\""
      ]
     },
     "execution_count": 11,
     "metadata": {},
     "output_type": "execute_result"
    }
   ],
   "source": [
    "\"\"\"cat_vars = ['date','vehicleType','vehicleOption','SourceState','destinationState',]\n",
    "cont_vars = ['weight','destinationLatitude','destinationLongitude',\n",
    "             'sourceLatitude','sourceLongitude','distanceKM','taxiDurationMin']\n",
    "for v in cont_vars: data[v] = data[v].astype('float32')\n",
    "for v in cat_vars: data[v] = data[v].astype('category').cat.as_ordered()\"\"\""
   ]
  },
  {
   "cell_type": "code",
   "execution_count": 16,
   "metadata": {},
   "outputs": [
    {
     "data": {
      "text/html": [
       "<div>\n",
       "<style scoped>\n",
       "    .dataframe tbody tr th:only-of-type {\n",
       "        vertical-align: middle;\n",
       "    }\n",
       "\n",
       "    .dataframe tbody tr th {\n",
       "        vertical-align: top;\n",
       "    }\n",
       "\n",
       "    .dataframe thead th {\n",
       "        text-align: right;\n",
       "    }\n",
       "</style>\n",
       "<table border=\"1\" class=\"dataframe\">\n",
       "  <thead>\n",
       "    <tr style=\"text-align: right;\">\n",
       "      <th></th>\n",
       "      <th>sourceLatitude</th>\n",
       "      <th>sourceLongitude</th>\n",
       "      <th>SourceState</th>\n",
       "      <th>destinationLatitude</th>\n",
       "      <th>destinationLongitude</th>\n",
       "      <th>destinationState</th>\n",
       "      <th>distanceKM</th>\n",
       "      <th>taxiDurationMin</th>\n",
       "      <th>vehicleType</th>\n",
       "      <th>vehicleOption</th>\n",
       "      <th>weight</th>\n",
       "      <th>price</th>\n",
       "      <th>month</th>\n",
       "      <th>day</th>\n",
       "    </tr>\n",
       "  </thead>\n",
       "  <tbody>\n",
       "    <tr>\n",
       "      <th>0</th>\n",
       "      <td>36</td>\n",
       "      <td>48</td>\n",
       "      <td>زنجان</td>\n",
       "      <td>29.600574</td>\n",
       "      <td>52.537113</td>\n",
       "      <td>فارس</td>\n",
       "      <td>1092.0</td>\n",
       "      <td>751.0</td>\n",
       "      <td>treili</td>\n",
       "      <td>kafi</td>\n",
       "      <td>20.0</td>\n",
       "      <td>15300000.0</td>\n",
       "      <td>2</td>\n",
       "      <td>18</td>\n",
       "    </tr>\n",
       "  </tbody>\n",
       "</table>\n",
       "</div>"
      ],
      "text/plain": [
       "  sourceLatitude sourceLongitude SourceState  destinationLatitude  \\\n",
       "0             36              48       زنجان            29.600574   \n",
       "\n",
       "   destinationLongitude destinationState  distanceKM  taxiDurationMin  \\\n",
       "0             52.537113             فارس      1092.0            751.0   \n",
       "\n",
       "  vehicleType vehicleOption  weight       price month day  \n",
       "0      treili          kafi    20.0  15300000.0     2  18  "
      ]
     },
     "execution_count": 16,
     "metadata": {},
     "output_type": "execute_result"
    }
   ],
   "source": [
    "data.head(1)"
   ]
  },
  {
   "cell_type": "code",
   "execution_count": 12,
   "metadata": {},
   "outputs": [
    {
     "name": "stderr",
     "output_type": "stream",
     "text": [
      "D:\\ProgramData\\Anaconda3\\envs\\fastai\\lib\\site-packages\\pandas\\core\\frame.py:3694: SettingWithCopyWarning: \n",
      "A value is trying to be set on a copy of a slice from a DataFrame\n",
      "\n",
      "See the caveats in the documentation: http://pandas.pydata.org/pandas-docs/stable/indexing.html#indexing-view-versus-copy\n",
      "  errors=errors)\n"
     ]
    }
   ],
   "source": [
    "df, y, nas,mapper = proc_df(data, 'price',do_scale=True )\n",
    "yl = np.log(y)"
   ]
  },
  {
   "cell_type": "code",
   "execution_count": 24,
   "metadata": {},
   "outputs": [
    {
     "data": {
      "text/plain": [
       "array([16.54336, 14.4033 , 15.13513, 14.07787, 15.99819, 14.94691, 16.24031, 16.81124, 16.26634, 14.80876,\n",
       "       14.50866, 15.96027, 16.9156 , 14.4033 , 15.55948, 13.45884, 14.72779, 14.33132, 14.22098, 15.99265,\n",
       "       ..., 14.7116 , 14.4033 , 14.31629, 13.8643 , 15.93297, 15.54539, 15.35345, 13.85473, 15.52026,\n",
       "       14.60397, 15.02953, 15.5989 , 15.45159, 14.91412, 15.89495, 15.66554, 14.9957 , 15.68731, 14.77102,\n",
       "       15.46992])"
      ]
     },
     "execution_count": 24,
     "metadata": {},
     "output_type": "execute_result"
    }
   ],
   "source": [
    "yl"
   ]
  },
  {
   "cell_type": "code",
   "execution_count": 160,
   "metadata": {},
   "outputs": [
    {
     "data": {
      "text/plain": [
       "{'distanceKM': 489.0, 'taxiDurationMin': 355.0}"
      ]
     },
     "execution_count": 160,
     "metadata": {},
     "output_type": "execute_result"
    }
   ],
   "source": [
    "nas"
   ]
  },
  {
   "cell_type": "code",
   "execution_count": 27,
   "metadata": {},
   "outputs": [
    {
     "data": {
      "text/plain": [
       "['month',\n",
       " 'day',\n",
       " 'vehicleType',\n",
       " 'vehicleOption',\n",
       " 'SourceState',\n",
       " 'destinationState',\n",
       " 'sourceLatitude',\n",
       " 'sourceLongitude']"
      ]
     },
     "execution_count": 27,
     "metadata": {},
     "output_type": "execute_result"
    }
   ],
   "source": [
    "cat_vars"
   ]
  },
  {
   "cell_type": "code",
   "execution_count": 161,
   "metadata": {},
   "outputs": [
    {
     "data": {
      "text/html": [
       "<div>\n",
       "<style scoped>\n",
       "    .dataframe tbody tr th:only-of-type {\n",
       "        vertical-align: middle;\n",
       "    }\n",
       "\n",
       "    .dataframe tbody tr th {\n",
       "        vertical-align: top;\n",
       "    }\n",
       "\n",
       "    .dataframe thead th {\n",
       "        text-align: right;\n",
       "    }\n",
       "</style>\n",
       "<table border=\"1\" class=\"dataframe\">\n",
       "  <thead>\n",
       "    <tr style=\"text-align: right;\">\n",
       "      <th></th>\n",
       "      <th>date</th>\n",
       "      <th>sourceLatitude</th>\n",
       "      <th>sourceLongitude</th>\n",
       "      <th>SourceState</th>\n",
       "      <th>destinationLatitude</th>\n",
       "      <th>destinationLongitude</th>\n",
       "      <th>destinationState</th>\n",
       "      <th>distanceKM</th>\n",
       "      <th>taxiDurationMin</th>\n",
       "      <th>vehicleType</th>\n",
       "      <th>vehicleOption</th>\n",
       "      <th>weight</th>\n",
       "      <th>distanceKM_na</th>\n",
       "      <th>taxiDurationMin_na</th>\n",
       "    </tr>\n",
       "  </thead>\n",
       "  <tbody>\n",
       "    <tr>\n",
       "      <th>0</th>\n",
       "      <td>49</td>\n",
       "      <td>0.850663</td>\n",
       "      <td>-0.901221</td>\n",
       "      <td>13</td>\n",
       "      <td>-1.492120</td>\n",
       "      <td>0.117083</td>\n",
       "      <td>16</td>\n",
       "      <td>1.327332</td>\n",
       "      <td>1.320932</td>\n",
       "      <td>4</td>\n",
       "      <td>3</td>\n",
       "      <td>1.285126</td>\n",
       "      <td>-0.007746</td>\n",
       "      <td>-0.007746</td>\n",
       "    </tr>\n",
       "    <tr>\n",
       "      <th>1</th>\n",
       "      <td>135</td>\n",
       "      <td>-0.646238</td>\n",
       "      <td>-0.257221</td>\n",
       "      <td>24</td>\n",
       "      <td>0.195124</td>\n",
       "      <td>-0.305999</td>\n",
       "      <td>18</td>\n",
       "      <td>-0.373867</td>\n",
       "      <td>-0.516551</td>\n",
       "      <td>2</td>\n",
       "      <td>7</td>\n",
       "      <td>-0.981315</td>\n",
       "      <td>-0.007746</td>\n",
       "      <td>-0.007746</td>\n",
       "    </tr>\n",
       "    <tr>\n",
       "      <th>2</th>\n",
       "      <td>157</td>\n",
       "      <td>-0.559537</td>\n",
       "      <td>-0.059696</td>\n",
       "      <td>4</td>\n",
       "      <td>-0.749927</td>\n",
       "      <td>-0.563476</td>\n",
       "      <td>12</td>\n",
       "      <td>-0.634818</td>\n",
       "      <td>-0.410905</td>\n",
       "      <td>1</td>\n",
       "      <td>4</td>\n",
       "      <td>0.633686</td>\n",
       "      <td>-0.007746</td>\n",
       "      <td>-0.007746</td>\n",
       "    </tr>\n",
       "    <tr>\n",
       "      <th>3</th>\n",
       "      <td>81</td>\n",
       "      <td>0.286541</td>\n",
       "      <td>-1.011184</td>\n",
       "      <td>25</td>\n",
       "      <td>0.549299</td>\n",
       "      <td>-0.172853</td>\n",
       "      <td>8</td>\n",
       "      <td>-0.431578</td>\n",
       "      <td>-0.490139</td>\n",
       "      <td>2</td>\n",
       "      <td>7</td>\n",
       "      <td>-0.981315</td>\n",
       "      <td>-0.007746</td>\n",
       "      <td>-0.007746</td>\n",
       "    </tr>\n",
       "    <tr>\n",
       "      <th>4</th>\n",
       "      <td>164</td>\n",
       "      <td>-0.900308</td>\n",
       "      <td>0.721201</td>\n",
       "      <td>31</td>\n",
       "      <td>0.892667</td>\n",
       "      <td>0.480905</td>\n",
       "      <td>29</td>\n",
       "      <td>0.484260</td>\n",
       "      <td>0.649327</td>\n",
       "      <td>1</td>\n",
       "      <td>1</td>\n",
       "      <td>0.637571</td>\n",
       "      <td>-0.007746</td>\n",
       "      <td>-0.007746</td>\n",
       "    </tr>\n",
       "  </tbody>\n",
       "</table>\n",
       "</div>"
      ],
      "text/plain": [
       "   date  sourceLatitude  sourceLongitude  SourceState  destinationLatitude  \\\n",
       "0    49        0.850663        -0.901221           13            -1.492120   \n",
       "1   135       -0.646238        -0.257221           24             0.195124   \n",
       "2   157       -0.559537        -0.059696            4            -0.749927   \n",
       "3    81        0.286541        -1.011184           25             0.549299   \n",
       "4   164       -0.900308         0.721201           31             0.892667   \n",
       "\n",
       "   destinationLongitude  destinationState  distanceKM  taxiDurationMin  \\\n",
       "0              0.117083                16    1.327332         1.320932   \n",
       "1             -0.305999                18   -0.373867        -0.516551   \n",
       "2             -0.563476                12   -0.634818        -0.410905   \n",
       "3             -0.172853                 8   -0.431578        -0.490139   \n",
       "4              0.480905                29    0.484260         0.649327   \n",
       "\n",
       "   vehicleType  vehicleOption    weight  distanceKM_na  taxiDurationMin_na  \n",
       "0            4              3  1.285126      -0.007746           -0.007746  \n",
       "1            2              7 -0.981315      -0.007746           -0.007746  \n",
       "2            1              4  0.633686      -0.007746           -0.007746  \n",
       "3            2              7 -0.981315      -0.007746           -0.007746  \n",
       "4            1              1  0.637571      -0.007746           -0.007746  "
      ]
     },
     "execution_count": 161,
     "metadata": {},
     "output_type": "execute_result"
    }
   ],
   "source": [
    "df.head()"
   ]
  },
  {
   "cell_type": "code",
   "execution_count": 13,
   "metadata": {},
   "outputs": [],
   "source": [
    "val_idx = np.random.choice(50000,size = 10000,replace=False)"
   ]
  },
  {
   "cell_type": "code",
   "execution_count": 14,
   "metadata": {},
   "outputs": [],
   "source": [
    "val_idx = get_cv_idxs(len(data))"
   ]
  },
  {
   "cell_type": "code",
   "execution_count": null,
   "metadata": {},
   "outputs": [],
   "source": []
  },
  {
   "cell_type": "code",
   "execution_count": 15,
   "metadata": {},
   "outputs": [
    {
     "data": {
      "text/html": [
       "<div>\n",
       "<style scoped>\n",
       "    .dataframe tbody tr th:only-of-type {\n",
       "        vertical-align: middle;\n",
       "    }\n",
       "\n",
       "    .dataframe tbody tr th {\n",
       "        vertical-align: top;\n",
       "    }\n",
       "\n",
       "    .dataframe thead th {\n",
       "        text-align: right;\n",
       "    }\n",
       "</style>\n",
       "<table border=\"1\" class=\"dataframe\">\n",
       "  <thead>\n",
       "    <tr style=\"text-align: right;\">\n",
       "      <th></th>\n",
       "      <th>sourceLatitude</th>\n",
       "      <th>sourceLongitude</th>\n",
       "      <th>SourceState</th>\n",
       "      <th>destinationLatitude</th>\n",
       "      <th>destinationLongitude</th>\n",
       "      <th>destinationState</th>\n",
       "      <th>distanceKM</th>\n",
       "      <th>taxiDurationMin</th>\n",
       "      <th>vehicleType</th>\n",
       "      <th>vehicleOption</th>\n",
       "      <th>weight</th>\n",
       "      <th>price</th>\n",
       "      <th>month</th>\n",
       "      <th>day</th>\n",
       "    </tr>\n",
       "  </thead>\n",
       "  <tbody>\n",
       "    <tr>\n",
       "      <th>50000</th>\n",
       "      <td>36.297213</td>\n",
       "      <td>59.607970</td>\n",
       "      <td>خراسان رضوی</td>\n",
       "      <td>35.579636</td>\n",
       "      <td>53.384991</td>\n",
       "      <td>سمنان</td>\n",
       "      <td>684.0</td>\n",
       "      <td>446.0</td>\n",
       "      <td>khavar</td>\n",
       "      <td>mosaghaf_chadori</td>\n",
       "      <td>2.330000</td>\n",
       "      <td>-1000.0</td>\n",
       "      <td>6</td>\n",
       "      <td>30</td>\n",
       "    </tr>\n",
       "    <tr>\n",
       "      <th>50001</th>\n",
       "      <td>35.704695</td>\n",
       "      <td>51.405194</td>\n",
       "      <td>تهران</td>\n",
       "      <td>29.605761</td>\n",
       "      <td>52.533588</td>\n",
       "      <td>فارس</td>\n",
       "      <td>931.0</td>\n",
       "      <td>614.0</td>\n",
       "      <td>treili</td>\n",
       "      <td>kafi</td>\n",
       "      <td>19.139999</td>\n",
       "      <td>-1000.0</td>\n",
       "      <td>3</td>\n",
       "      <td>16</td>\n",
       "    </tr>\n",
       "    <tr>\n",
       "      <th>50002</th>\n",
       "      <td>26.948490</td>\n",
       "      <td>55.583875</td>\n",
       "      <td>هرمزگان</td>\n",
       "      <td>36.299595</td>\n",
       "      <td>59.612011</td>\n",
       "      <td>خراسان رضوی</td>\n",
       "      <td>1469.0</td>\n",
       "      <td>1009.0</td>\n",
       "      <td>treili</td>\n",
       "      <td>kafi</td>\n",
       "      <td>22.000000</td>\n",
       "      <td>-1000.0</td>\n",
       "      <td>2</td>\n",
       "      <td>21</td>\n",
       "    </tr>\n",
       "    <tr>\n",
       "      <th>50003</th>\n",
       "      <td>35.339066</td>\n",
       "      <td>52.075970</td>\n",
       "      <td>سمنان</td>\n",
       "      <td>35.248299</td>\n",
       "      <td>58.457565</td>\n",
       "      <td>خراسان رضوی</td>\n",
       "      <td>745.0</td>\n",
       "      <td>496.0</td>\n",
       "      <td>khavar</td>\n",
       "      <td>mosaghaf_felezi</td>\n",
       "      <td>2.500000</td>\n",
       "      <td>-1000.0</td>\n",
       "      <td>6</td>\n",
       "      <td>22</td>\n",
       "    </tr>\n",
       "    <tr>\n",
       "      <th>50004</th>\n",
       "      <td>35.579577</td>\n",
       "      <td>53.394403</td>\n",
       "      <td>سمنان</td>\n",
       "      <td>34.636833</td>\n",
       "      <td>50.874889</td>\n",
       "      <td>قم</td>\n",
       "      <td>281.0</td>\n",
       "      <td>181.0</td>\n",
       "      <td>treili</td>\n",
       "      <td>labehdar</td>\n",
       "      <td>23.500000</td>\n",
       "      <td>-1000.0</td>\n",
       "      <td>5</td>\n",
       "      <td>19</td>\n",
       "    </tr>\n",
       "  </tbody>\n",
       "</table>\n",
       "</div>"
      ],
      "text/plain": [
       "      sourceLatitude sourceLongitude  SourceState  destinationLatitude  \\\n",
       "50000      36.297213       59.607970  خراسان رضوی            35.579636   \n",
       "50001      35.704695       51.405194        تهران            29.605761   \n",
       "50002      26.948490       55.583875      هرمزگان            36.299595   \n",
       "50003      35.339066       52.075970        سمنان            35.248299   \n",
       "50004      35.579577       53.394403        سمنان            34.636833   \n",
       "\n",
       "       destinationLongitude destinationState  distanceKM  taxiDurationMin  \\\n",
       "50000             53.384991            سمنان       684.0            446.0   \n",
       "50001             52.533588             فارس       931.0            614.0   \n",
       "50002             59.612011      خراسان رضوی      1469.0           1009.0   \n",
       "50003             58.457565      خراسان رضوی       745.0            496.0   \n",
       "50004             50.874889               قم       281.0            181.0   \n",
       "\n",
       "      vehicleType     vehicleOption     weight   price month day  \n",
       "50000      khavar  mosaghaf_chadori   2.330000 -1000.0     6  30  \n",
       "50001      treili              kafi  19.139999 -1000.0     3  16  \n",
       "50002      treili              kafi  22.000000 -1000.0     2  21  \n",
       "50003      khavar   mosaghaf_felezi   2.500000 -1000.0     6  22  \n",
       "50004      treili          labehdar  23.500000 -1000.0     5  19  "
      ]
     },
     "execution_count": 15,
     "metadata": {},
     "output_type": "execute_result"
    }
   ],
   "source": [
    "tests=train_test[train_test['price'] <0]\n",
    "test_without_id = tests.copy().drop('ID',axis =1)\n",
    "for v in cont_vars: test_without_id[v] = test_without_id[v].astype('float32')\n",
    "for v in cat_vars: test_without_id[v] = test_without_id[v].astype('category').cat.as_ordered()\n",
    "test_without_id.head()"
   ]
  },
  {
   "cell_type": "code",
   "execution_count": 16,
   "metadata": {},
   "outputs": [],
   "source": [
    "df_test, _, nas, mapper = proc_df(test_without_id, 'price', do_scale=True,\n",
    "                                  mapper=mapper, na_dict=nas)"
   ]
  },
  {
   "cell_type": "code",
   "execution_count": 33,
   "metadata": {},
   "outputs": [
    {
     "data": {
      "text/plain": [
       "array([33553,  9427,   199, 12447, 39489, 42724, 10822, 49498,  4144, 36958, 43106, 38695,  6188,  1414,\n",
       "       18471, 29282, 15177, 34304, 12609, 12144, ..., 46840, 40110, 48482, 38854,  6942, 35047, 29507, 33984,\n",
       "       47733,  5325, 29598, 43515, 15832, 37692, 26859, 28567, 25079, 18707, 15200,  5857])"
      ]
     },
     "execution_count": 33,
     "metadata": {},
     "output_type": "execute_result"
    }
   ],
   "source": [
    "idx"
   ]
  },
  {
   "cell_type": "code",
   "execution_count": 25,
   "metadata": {},
   "outputs": [],
   "source": [
    "def mean_absolute_percentage_error(y_true, y_pred): \n",
    "    y_true = np.array(y_true)\n",
    "    y_pred = np.array(y_pred)\n",
    "    return np.mean(np.abs((y_true - y_pred) / y_true)) * 100\n",
    "max_log_y = np.max(y)\n",
    "y_range = (np.min(y) *0.95, max_log_y*1.05)"
   ]
  },
  {
   "cell_type": "code",
   "execution_count": 32,
   "metadata": {},
   "outputs": [],
   "source": [
    "def mean_absolute_percentage_error(y_true, y_pred): \n",
    "    y_true = np.array(y_true)\n",
    "    y_pred = np.array(y_pred)\n",
    "    return np.mean(np.abs((y_true - y_pred) / y_true)) * 100\n",
    "max_log_y = np.max(yl)\n",
    "np.min(yl)\n",
    "y_range = (np.min(yl) *0.8, max_log_y*1.2)"
   ]
  },
  {
   "cell_type": "code",
   "execution_count": 25,
   "metadata": {},
   "outputs": [
    {
     "data": {
      "text/plain": [
       "(450000.0, 52305000.00000001)"
      ]
     },
     "execution_count": 25,
     "metadata": {},
     "output_type": "execute_result"
    }
   ],
   "source": [
    "y_range"
   ]
  },
  {
   "cell_type": "code",
   "execution_count": 38,
   "metadata": {},
   "outputs": [],
   "source": [
    "def inv_y(a): return np.exp(a)\n",
    "\n",
    "def exp_rmspe(y_pred, targ):\n",
    "    targ = inv_y(targ)\n",
    "    pct_var = (targ - inv_y(y_pred))/targ\n",
    "    return math.sqrt((pct_var**2).mean())\n",
    "max_log_y = np.max(yl)\n",
    "np.min(yl)\n",
    "y_range = (np.min(yl) *0.8, max_log_y*1.2)"
   ]
  },
  {
   "cell_type": "code",
   "execution_count": 33,
   "metadata": {},
   "outputs": [],
   "source": [
    "PATH='tests/'"
   ]
  },
  {
   "cell_type": "code",
   "execution_count": 34,
   "metadata": {},
   "outputs": [],
   "source": [
    "md = ColumnarModelData.from_data_frame(PATH, val_idx, df, y.astype(np.float32), cat_flds=cat_vars, bs=256,\n",
    "                                       test_df=df_test)"
   ]
  },
  {
   "cell_type": "code",
   "execution_count": 35,
   "metadata": {},
   "outputs": [
    {
     "data": {
      "text/plain": [
       "[(7, 4), (32, 16), (5, 3), (10, 5), (32, 16), (32, 16), (16, 8), (20, 10)]"
      ]
     },
     "execution_count": 35,
     "metadata": {},
     "output_type": "execute_result"
    }
   ],
   "source": [
    "cat_sz = [(c, len(data[c].cat.categories)+1) for c in cat_vars]\n",
    "emb_szs = [(c, min(50, (c+1)//2)) for _,c in cat_sz]\n",
    "emb_szs"
   ]
  },
  {
   "cell_type": "code",
   "execution_count": 36,
   "metadata": {},
   "outputs": [],
   "source": [
    "m = md.get_learner(emb_szs, len(df.columns)-len(cat_vars),\n",
    "                   0.1, 1, [200,100], [0.01,0.1], y_range=y_range)\n",
    "lr = 2e-2"
   ]
  },
  {
   "cell_type": "code",
   "execution_count": null,
   "metadata": {},
   "outputs": [],
   "source": [
    "m"
   ]
  },
  {
   "cell_type": "code",
   "execution_count": 39,
   "metadata": {},
   "outputs": [
    {
     "data": {
      "application/vnd.jupyter.widget-view+json": {
       "model_id": "6dba26d1da54483bbb98a17b9db85188",
       "version_major": 2,
       "version_minor": 0
      },
      "text/plain": [
       "HBox(children=(IntProgress(value=0, description='Epoch', max=4), HTML(value='')))"
      ]
     },
     "metadata": {},
     "output_type": "display_data"
    },
    {
     "name": "stdout",
     "output_type": "stream",
     "text": [
      "                                                                \r"
     ]
    },
    {
     "name": "stderr",
     "output_type": "stream",
     "text": [
      "D:\\ProgramData\\Anaconda3\\envs\\fastai\\lib\\site-packages\\ipykernel_launcher.py:1: RuntimeWarning: overflow encountered in exp\n",
      "  \"\"\"Entry point for launching an IPython kernel.\n"
     ]
    },
    {
     "name": "stdout",
     "output_type": "stream",
     "text": [
      "epoch      trn_loss   val_loss   exp_rmspe  \n",
      "    0      55547392197512.86 55180911239285.96 nan       \n",
      "    1      55973540662682.89 55180911239285.96 nan              \n",
      " 20%|█▉        | 31/157 [00:00<00:03, 40.65it/s, loss=5.43e+13]\n"
     ]
    },
    {
     "ename": "KeyboardInterrupt",
     "evalue": "",
     "output_type": "error",
     "traceback": [
      "\u001b[1;31m---------------------------------------------------------------------------\u001b[0m",
      "\u001b[1;31mKeyboardInterrupt\u001b[0m                         Traceback (most recent call last)",
      "\u001b[1;32m<ipython-input-39-cc580b79deca>\u001b[0m in \u001b[0;36m<module>\u001b[1;34m()\u001b[0m\n\u001b[1;32m----> 1\u001b[1;33m \u001b[0mm\u001b[0m\u001b[1;33m.\u001b[0m\u001b[0mfit\u001b[0m\u001b[1;33m(\u001b[0m\u001b[0mlr\u001b[0m\u001b[1;33m,\u001b[0m \u001b[1;36m4\u001b[0m\u001b[1;33m,\u001b[0m \u001b[0mmetrics\u001b[0m\u001b[1;33m=\u001b[0m\u001b[1;33m[\u001b[0m\u001b[0mexp_rmspe\u001b[0m\u001b[1;33m]\u001b[0m\u001b[1;33m,\u001b[0m \u001b[0mcycle_len\u001b[0m\u001b[1;33m=\u001b[0m\u001b[1;36m1\u001b[0m\u001b[1;33m)\u001b[0m\u001b[1;33m\u001b[0m\u001b[0m\n\u001b[0m",
      "\u001b[1;32mE:\\جدید\\DL\\fastai\\fastai\\learner.py\u001b[0m in \u001b[0;36mfit\u001b[1;34m(self, lrs, n_cycle, wds, **kwargs)\u001b[0m\n\u001b[0;32m    285\u001b[0m         \u001b[0mself\u001b[0m\u001b[1;33m.\u001b[0m\u001b[0msched\u001b[0m \u001b[1;33m=\u001b[0m \u001b[1;32mNone\u001b[0m\u001b[1;33m\u001b[0m\u001b[0m\n\u001b[0;32m    286\u001b[0m         \u001b[0mlayer_opt\u001b[0m \u001b[1;33m=\u001b[0m \u001b[0mself\u001b[0m\u001b[1;33m.\u001b[0m\u001b[0mget_layer_opt\u001b[0m\u001b[1;33m(\u001b[0m\u001b[0mlrs\u001b[0m\u001b[1;33m,\u001b[0m \u001b[0mwds\u001b[0m\u001b[1;33m)\u001b[0m\u001b[1;33m\u001b[0m\u001b[0m\n\u001b[1;32m--> 287\u001b[1;33m         \u001b[1;32mreturn\u001b[0m \u001b[0mself\u001b[0m\u001b[1;33m.\u001b[0m\u001b[0mfit_gen\u001b[0m\u001b[1;33m(\u001b[0m\u001b[0mself\u001b[0m\u001b[1;33m.\u001b[0m\u001b[0mmodel\u001b[0m\u001b[1;33m,\u001b[0m \u001b[0mself\u001b[0m\u001b[1;33m.\u001b[0m\u001b[0mdata\u001b[0m\u001b[1;33m,\u001b[0m \u001b[0mlayer_opt\u001b[0m\u001b[1;33m,\u001b[0m \u001b[0mn_cycle\u001b[0m\u001b[1;33m,\u001b[0m \u001b[1;33m**\u001b[0m\u001b[0mkwargs\u001b[0m\u001b[1;33m)\u001b[0m\u001b[1;33m\u001b[0m\u001b[0m\n\u001b[0m\u001b[0;32m    288\u001b[0m \u001b[1;33m\u001b[0m\u001b[0m\n\u001b[0;32m    289\u001b[0m     \u001b[1;32mdef\u001b[0m \u001b[0mwarm_up\u001b[0m\u001b[1;33m(\u001b[0m\u001b[0mself\u001b[0m\u001b[1;33m,\u001b[0m \u001b[0mlr\u001b[0m\u001b[1;33m,\u001b[0m \u001b[0mwds\u001b[0m\u001b[1;33m=\u001b[0m\u001b[1;32mNone\u001b[0m\u001b[1;33m)\u001b[0m\u001b[1;33m:\u001b[0m\u001b[1;33m\u001b[0m\u001b[0m\n",
      "\u001b[1;32mE:\\جدید\\DL\\fastai\\fastai\\learner.py\u001b[0m in \u001b[0;36mfit_gen\u001b[1;34m(self, model, data, layer_opt, n_cycle, cycle_len, cycle_mult, cycle_save_name, best_save_name, use_clr, use_clr_beta, metrics, callbacks, use_wd_sched, norm_wds, wds_sched_mult, use_swa, swa_start, swa_eval_freq, **kwargs)\u001b[0m\n\u001b[0;32m    232\u001b[0m             \u001b[0mmetrics\u001b[0m\u001b[1;33m=\u001b[0m\u001b[0mmetrics\u001b[0m\u001b[1;33m,\u001b[0m \u001b[0mcallbacks\u001b[0m\u001b[1;33m=\u001b[0m\u001b[0mcallbacks\u001b[0m\u001b[1;33m,\u001b[0m \u001b[0mreg_fn\u001b[0m\u001b[1;33m=\u001b[0m\u001b[0mself\u001b[0m\u001b[1;33m.\u001b[0m\u001b[0mreg_fn\u001b[0m\u001b[1;33m,\u001b[0m \u001b[0mclip\u001b[0m\u001b[1;33m=\u001b[0m\u001b[0mself\u001b[0m\u001b[1;33m.\u001b[0m\u001b[0mclip\u001b[0m\u001b[1;33m,\u001b[0m \u001b[0mfp16\u001b[0m\u001b[1;33m=\u001b[0m\u001b[0mself\u001b[0m\u001b[1;33m.\u001b[0m\u001b[0mfp16\u001b[0m\u001b[1;33m,\u001b[0m\u001b[1;33m\u001b[0m\u001b[0m\n\u001b[0;32m    233\u001b[0m             \u001b[0mswa_model\u001b[0m\u001b[1;33m=\u001b[0m\u001b[0mself\u001b[0m\u001b[1;33m.\u001b[0m\u001b[0mswa_model\u001b[0m \u001b[1;32mif\u001b[0m \u001b[0muse_swa\u001b[0m \u001b[1;32melse\u001b[0m \u001b[1;32mNone\u001b[0m\u001b[1;33m,\u001b[0m \u001b[0mswa_start\u001b[0m\u001b[1;33m=\u001b[0m\u001b[0mswa_start\u001b[0m\u001b[1;33m,\u001b[0m\u001b[1;33m\u001b[0m\u001b[0m\n\u001b[1;32m--> 234\u001b[1;33m             swa_eval_freq=swa_eval_freq, **kwargs)\n\u001b[0m\u001b[0;32m    235\u001b[0m \u001b[1;33m\u001b[0m\u001b[0m\n\u001b[0;32m    236\u001b[0m     \u001b[1;32mdef\u001b[0m \u001b[0mget_layer_groups\u001b[0m\u001b[1;33m(\u001b[0m\u001b[0mself\u001b[0m\u001b[1;33m)\u001b[0m\u001b[1;33m:\u001b[0m \u001b[1;32mreturn\u001b[0m \u001b[0mself\u001b[0m\u001b[1;33m.\u001b[0m\u001b[0mmodels\u001b[0m\u001b[1;33m.\u001b[0m\u001b[0mget_layer_groups\u001b[0m\u001b[1;33m(\u001b[0m\u001b[1;33m)\u001b[0m\u001b[1;33m\u001b[0m\u001b[0m\n",
      "\u001b[1;32mE:\\جدید\\DL\\fastai\\fastai\\model.py\u001b[0m in \u001b[0;36mfit\u001b[1;34m(model, data, n_epochs, opt, crit, metrics, callbacks, stepper, swa_model, swa_start, swa_eval_freq, **kwargs)\u001b[0m\n\u001b[0;32m    136\u001b[0m             \u001b[0mbatch_num\u001b[0m \u001b[1;33m+=\u001b[0m \u001b[1;36m1\u001b[0m\u001b[1;33m\u001b[0m\u001b[0m\n\u001b[0;32m    137\u001b[0m             \u001b[1;32mfor\u001b[0m \u001b[0mcb\u001b[0m \u001b[1;32min\u001b[0m \u001b[0mcallbacks\u001b[0m\u001b[1;33m:\u001b[0m \u001b[0mcb\u001b[0m\u001b[1;33m.\u001b[0m\u001b[0mon_batch_begin\u001b[0m\u001b[1;33m(\u001b[0m\u001b[1;33m)\u001b[0m\u001b[1;33m\u001b[0m\u001b[0m\n\u001b[1;32m--> 138\u001b[1;33m             \u001b[0mloss\u001b[0m \u001b[1;33m=\u001b[0m \u001b[0mmodel_stepper\u001b[0m\u001b[1;33m.\u001b[0m\u001b[0mstep\u001b[0m\u001b[1;33m(\u001b[0m\u001b[0mV\u001b[0m\u001b[1;33m(\u001b[0m\u001b[0mx\u001b[0m\u001b[1;33m)\u001b[0m\u001b[1;33m,\u001b[0m\u001b[0mV\u001b[0m\u001b[1;33m(\u001b[0m\u001b[0my\u001b[0m\u001b[1;33m)\u001b[0m\u001b[1;33m,\u001b[0m \u001b[0mepoch\u001b[0m\u001b[1;33m)\u001b[0m\u001b[1;33m\u001b[0m\u001b[0m\n\u001b[0m\u001b[0;32m    139\u001b[0m             \u001b[0mavg_loss\u001b[0m \u001b[1;33m=\u001b[0m \u001b[0mavg_loss\u001b[0m \u001b[1;33m*\u001b[0m \u001b[0mavg_mom\u001b[0m \u001b[1;33m+\u001b[0m \u001b[0mloss\u001b[0m \u001b[1;33m*\u001b[0m \u001b[1;33m(\u001b[0m\u001b[1;36m1\u001b[0m\u001b[1;33m-\u001b[0m\u001b[0mavg_mom\u001b[0m\u001b[1;33m)\u001b[0m\u001b[1;33m\u001b[0m\u001b[0m\n\u001b[0;32m    140\u001b[0m             \u001b[0mdebias_loss\u001b[0m \u001b[1;33m=\u001b[0m \u001b[0mavg_loss\u001b[0m \u001b[1;33m/\u001b[0m \u001b[1;33m(\u001b[0m\u001b[1;36m1\u001b[0m \u001b[1;33m-\u001b[0m \u001b[0mavg_mom\u001b[0m\u001b[1;33m**\u001b[0m\u001b[0mbatch_num\u001b[0m\u001b[1;33m)\u001b[0m\u001b[1;33m\u001b[0m\u001b[0m\n",
      "\u001b[1;32mE:\\جدید\\DL\\fastai\\fastai\\model.py\u001b[0m in \u001b[0;36mstep\u001b[1;34m(self, xs, y, epoch)\u001b[0m\n\u001b[0;32m     55\u001b[0m         \u001b[1;32mif\u001b[0m \u001b[0mself\u001b[0m\u001b[1;33m.\u001b[0m\u001b[0mloss_scale\u001b[0m \u001b[1;33m!=\u001b[0m \u001b[1;36m1\u001b[0m\u001b[1;33m:\u001b[0m \u001b[1;32massert\u001b[0m\u001b[1;33m(\u001b[0m\u001b[0mself\u001b[0m\u001b[1;33m.\u001b[0m\u001b[0mfp16\u001b[0m\u001b[1;33m)\u001b[0m\u001b[1;33m;\u001b[0m \u001b[0mloss\u001b[0m \u001b[1;33m=\u001b[0m \u001b[0mloss\u001b[0m\u001b[1;33m*\u001b[0m\u001b[0mself\u001b[0m\u001b[1;33m.\u001b[0m\u001b[0mloss_scale\u001b[0m\u001b[1;33m\u001b[0m\u001b[0m\n\u001b[0;32m     56\u001b[0m         \u001b[1;32mif\u001b[0m \u001b[0mself\u001b[0m\u001b[1;33m.\u001b[0m\u001b[0mreg_fn\u001b[0m\u001b[1;33m:\u001b[0m \u001b[0mloss\u001b[0m \u001b[1;33m=\u001b[0m \u001b[0mself\u001b[0m\u001b[1;33m.\u001b[0m\u001b[0mreg_fn\u001b[0m\u001b[1;33m(\u001b[0m\u001b[0moutput\u001b[0m\u001b[1;33m,\u001b[0m \u001b[0mxtra\u001b[0m\u001b[1;33m,\u001b[0m \u001b[0mraw_loss\u001b[0m\u001b[1;33m)\u001b[0m\u001b[1;33m\u001b[0m\u001b[0m\n\u001b[1;32m---> 57\u001b[1;33m         \u001b[0mloss\u001b[0m\u001b[1;33m.\u001b[0m\u001b[0mbackward\u001b[0m\u001b[1;33m(\u001b[0m\u001b[1;33m)\u001b[0m\u001b[1;33m\u001b[0m\u001b[0m\n\u001b[0m\u001b[0;32m     58\u001b[0m         \u001b[1;32mif\u001b[0m \u001b[0mself\u001b[0m\u001b[1;33m.\u001b[0m\u001b[0mfp16\u001b[0m\u001b[1;33m:\u001b[0m \u001b[0mupdate_fp32_grads\u001b[0m\u001b[1;33m(\u001b[0m\u001b[0mself\u001b[0m\u001b[1;33m.\u001b[0m\u001b[0mfp32_params\u001b[0m\u001b[1;33m,\u001b[0m \u001b[0mself\u001b[0m\u001b[1;33m.\u001b[0m\u001b[0mm\u001b[0m\u001b[1;33m)\u001b[0m\u001b[1;33m\u001b[0m\u001b[0m\n\u001b[0;32m     59\u001b[0m         \u001b[1;32mif\u001b[0m \u001b[0mself\u001b[0m\u001b[1;33m.\u001b[0m\u001b[0mloss_scale\u001b[0m \u001b[1;33m!=\u001b[0m \u001b[1;36m1\u001b[0m\u001b[1;33m:\u001b[0m\u001b[1;33m\u001b[0m\u001b[0m\n",
      "\u001b[1;32mD:\\ProgramData\\Anaconda3\\envs\\fastai\\lib\\site-packages\\torch\\autograd\\variable.py\u001b[0m in \u001b[0;36mbackward\u001b[1;34m(self, gradient, retain_graph, create_graph, retain_variables)\u001b[0m\n\u001b[0;32m    165\u001b[0m                 \u001b[0mVariable\u001b[0m\u001b[1;33m.\u001b[0m\u001b[1;33m\u001b[0m\u001b[0m\n\u001b[0;32m    166\u001b[0m         \"\"\"\n\u001b[1;32m--> 167\u001b[1;33m         \u001b[0mtorch\u001b[0m\u001b[1;33m.\u001b[0m\u001b[0mautograd\u001b[0m\u001b[1;33m.\u001b[0m\u001b[0mbackward\u001b[0m\u001b[1;33m(\u001b[0m\u001b[0mself\u001b[0m\u001b[1;33m,\u001b[0m \u001b[0mgradient\u001b[0m\u001b[1;33m,\u001b[0m \u001b[0mretain_graph\u001b[0m\u001b[1;33m,\u001b[0m \u001b[0mcreate_graph\u001b[0m\u001b[1;33m,\u001b[0m \u001b[0mretain_variables\u001b[0m\u001b[1;33m)\u001b[0m\u001b[1;33m\u001b[0m\u001b[0m\n\u001b[0m\u001b[0;32m    168\u001b[0m \u001b[1;33m\u001b[0m\u001b[0m\n\u001b[0;32m    169\u001b[0m     \u001b[1;32mdef\u001b[0m \u001b[0mregister_hook\u001b[0m\u001b[1;33m(\u001b[0m\u001b[0mself\u001b[0m\u001b[1;33m,\u001b[0m \u001b[0mhook\u001b[0m\u001b[1;33m)\u001b[0m\u001b[1;33m:\u001b[0m\u001b[1;33m\u001b[0m\u001b[0m\n",
      "\u001b[1;32mD:\\ProgramData\\Anaconda3\\envs\\fastai\\lib\\site-packages\\torch\\autograd\\__init__.py\u001b[0m in \u001b[0;36mbackward\u001b[1;34m(variables, grad_variables, retain_graph, create_graph, retain_variables)\u001b[0m\n\u001b[0;32m     97\u001b[0m \u001b[1;33m\u001b[0m\u001b[0m\n\u001b[0;32m     98\u001b[0m     Variable._execution_engine.run_backward(\n\u001b[1;32m---> 99\u001b[1;33m         variables, grad_variables, retain_graph)\n\u001b[0m\u001b[0;32m    100\u001b[0m \u001b[1;33m\u001b[0m\u001b[0m\n\u001b[0;32m    101\u001b[0m \u001b[1;33m\u001b[0m\u001b[0m\n",
      "\u001b[1;31mKeyboardInterrupt\u001b[0m: "
     ]
    }
   ],
   "source": [
    "m.fit(lr, 4, metrics=[exp_rmspe], cycle_len=1)"
   ]
  },
  {
   "cell_type": "code",
   "execution_count": 40,
   "metadata": {},
   "outputs": [
    {
     "data": {
      "application/vnd.jupyter.widget-view+json": {
       "model_id": "76c9a7ad0eaa475d8d1340599a2ebe15",
       "version_major": 2,
       "version_minor": 0
      },
      "text/plain": [
       "HBox(children=(IntProgress(value=0, description='Epoch', max=10), HTML(value='')))"
      ]
     },
     "metadata": {},
     "output_type": "display_data"
    },
    {
     "name": "stdout",
     "output_type": "stream",
     "text": [
      " 80%|███████▉  | 125/157 [00:02<00:00, 44.05it/s, loss=5.47e+13]\n"
     ]
    },
    {
     "ename": "KeyboardInterrupt",
     "evalue": "",
     "output_type": "error",
     "traceback": [
      "\u001b[1;31m---------------------------------------------------------------------------\u001b[0m",
      "\u001b[1;31mKeyboardInterrupt\u001b[0m                         Traceback (most recent call last)",
      "\u001b[1;32m<ipython-input-40-c19bab548ef9>\u001b[0m in \u001b[0;36m<module>\u001b[1;34m()\u001b[0m\n\u001b[1;32m----> 1\u001b[1;33m \u001b[0mm\u001b[0m\u001b[1;33m.\u001b[0m\u001b[0mfit\u001b[0m\u001b[1;33m(\u001b[0m\u001b[0mlr\u001b[0m\u001b[1;33m,\u001b[0m \u001b[1;36m10\u001b[0m\u001b[1;33m,\u001b[0m \u001b[0mmetrics\u001b[0m\u001b[1;33m=\u001b[0m\u001b[1;33m[\u001b[0m\u001b[0mmean_absolute_percentage_error\u001b[0m\u001b[1;33m]\u001b[0m\u001b[1;33m,\u001b[0m \u001b[0mcycle_len\u001b[0m\u001b[1;33m=\u001b[0m\u001b[1;36m1\u001b[0m\u001b[1;33m)\u001b[0m\u001b[1;33m\u001b[0m\u001b[0m\n\u001b[0m",
      "\u001b[1;32mE:\\جدید\\DL\\fastai\\fastai\\learner.py\u001b[0m in \u001b[0;36mfit\u001b[1;34m(self, lrs, n_cycle, wds, **kwargs)\u001b[0m\n\u001b[0;32m    285\u001b[0m         \u001b[0mself\u001b[0m\u001b[1;33m.\u001b[0m\u001b[0msched\u001b[0m \u001b[1;33m=\u001b[0m \u001b[1;32mNone\u001b[0m\u001b[1;33m\u001b[0m\u001b[0m\n\u001b[0;32m    286\u001b[0m         \u001b[0mlayer_opt\u001b[0m \u001b[1;33m=\u001b[0m \u001b[0mself\u001b[0m\u001b[1;33m.\u001b[0m\u001b[0mget_layer_opt\u001b[0m\u001b[1;33m(\u001b[0m\u001b[0mlrs\u001b[0m\u001b[1;33m,\u001b[0m \u001b[0mwds\u001b[0m\u001b[1;33m)\u001b[0m\u001b[1;33m\u001b[0m\u001b[0m\n\u001b[1;32m--> 287\u001b[1;33m         \u001b[1;32mreturn\u001b[0m \u001b[0mself\u001b[0m\u001b[1;33m.\u001b[0m\u001b[0mfit_gen\u001b[0m\u001b[1;33m(\u001b[0m\u001b[0mself\u001b[0m\u001b[1;33m.\u001b[0m\u001b[0mmodel\u001b[0m\u001b[1;33m,\u001b[0m \u001b[0mself\u001b[0m\u001b[1;33m.\u001b[0m\u001b[0mdata\u001b[0m\u001b[1;33m,\u001b[0m \u001b[0mlayer_opt\u001b[0m\u001b[1;33m,\u001b[0m \u001b[0mn_cycle\u001b[0m\u001b[1;33m,\u001b[0m \u001b[1;33m**\u001b[0m\u001b[0mkwargs\u001b[0m\u001b[1;33m)\u001b[0m\u001b[1;33m\u001b[0m\u001b[0m\n\u001b[0m\u001b[0;32m    288\u001b[0m \u001b[1;33m\u001b[0m\u001b[0m\n\u001b[0;32m    289\u001b[0m     \u001b[1;32mdef\u001b[0m \u001b[0mwarm_up\u001b[0m\u001b[1;33m(\u001b[0m\u001b[0mself\u001b[0m\u001b[1;33m,\u001b[0m \u001b[0mlr\u001b[0m\u001b[1;33m,\u001b[0m \u001b[0mwds\u001b[0m\u001b[1;33m=\u001b[0m\u001b[1;32mNone\u001b[0m\u001b[1;33m)\u001b[0m\u001b[1;33m:\u001b[0m\u001b[1;33m\u001b[0m\u001b[0m\n",
      "\u001b[1;32mE:\\جدید\\DL\\fastai\\fastai\\learner.py\u001b[0m in \u001b[0;36mfit_gen\u001b[1;34m(self, model, data, layer_opt, n_cycle, cycle_len, cycle_mult, cycle_save_name, best_save_name, use_clr, use_clr_beta, metrics, callbacks, use_wd_sched, norm_wds, wds_sched_mult, use_swa, swa_start, swa_eval_freq, **kwargs)\u001b[0m\n\u001b[0;32m    232\u001b[0m             \u001b[0mmetrics\u001b[0m\u001b[1;33m=\u001b[0m\u001b[0mmetrics\u001b[0m\u001b[1;33m,\u001b[0m \u001b[0mcallbacks\u001b[0m\u001b[1;33m=\u001b[0m\u001b[0mcallbacks\u001b[0m\u001b[1;33m,\u001b[0m \u001b[0mreg_fn\u001b[0m\u001b[1;33m=\u001b[0m\u001b[0mself\u001b[0m\u001b[1;33m.\u001b[0m\u001b[0mreg_fn\u001b[0m\u001b[1;33m,\u001b[0m \u001b[0mclip\u001b[0m\u001b[1;33m=\u001b[0m\u001b[0mself\u001b[0m\u001b[1;33m.\u001b[0m\u001b[0mclip\u001b[0m\u001b[1;33m,\u001b[0m \u001b[0mfp16\u001b[0m\u001b[1;33m=\u001b[0m\u001b[0mself\u001b[0m\u001b[1;33m.\u001b[0m\u001b[0mfp16\u001b[0m\u001b[1;33m,\u001b[0m\u001b[1;33m\u001b[0m\u001b[0m\n\u001b[0;32m    233\u001b[0m             \u001b[0mswa_model\u001b[0m\u001b[1;33m=\u001b[0m\u001b[0mself\u001b[0m\u001b[1;33m.\u001b[0m\u001b[0mswa_model\u001b[0m \u001b[1;32mif\u001b[0m \u001b[0muse_swa\u001b[0m \u001b[1;32melse\u001b[0m \u001b[1;32mNone\u001b[0m\u001b[1;33m,\u001b[0m \u001b[0mswa_start\u001b[0m\u001b[1;33m=\u001b[0m\u001b[0mswa_start\u001b[0m\u001b[1;33m,\u001b[0m\u001b[1;33m\u001b[0m\u001b[0m\n\u001b[1;32m--> 234\u001b[1;33m             swa_eval_freq=swa_eval_freq, **kwargs)\n\u001b[0m\u001b[0;32m    235\u001b[0m \u001b[1;33m\u001b[0m\u001b[0m\n\u001b[0;32m    236\u001b[0m     \u001b[1;32mdef\u001b[0m \u001b[0mget_layer_groups\u001b[0m\u001b[1;33m(\u001b[0m\u001b[0mself\u001b[0m\u001b[1;33m)\u001b[0m\u001b[1;33m:\u001b[0m \u001b[1;32mreturn\u001b[0m \u001b[0mself\u001b[0m\u001b[1;33m.\u001b[0m\u001b[0mmodels\u001b[0m\u001b[1;33m.\u001b[0m\u001b[0mget_layer_groups\u001b[0m\u001b[1;33m(\u001b[0m\u001b[1;33m)\u001b[0m\u001b[1;33m\u001b[0m\u001b[0m\n",
      "\u001b[1;32mE:\\جدید\\DL\\fastai\\fastai\\model.py\u001b[0m in \u001b[0;36mfit\u001b[1;34m(model, data, n_epochs, opt, crit, metrics, callbacks, stepper, swa_model, swa_start, swa_eval_freq, **kwargs)\u001b[0m\n\u001b[0;32m    136\u001b[0m             \u001b[0mbatch_num\u001b[0m \u001b[1;33m+=\u001b[0m \u001b[1;36m1\u001b[0m\u001b[1;33m\u001b[0m\u001b[0m\n\u001b[0;32m    137\u001b[0m             \u001b[1;32mfor\u001b[0m \u001b[0mcb\u001b[0m \u001b[1;32min\u001b[0m \u001b[0mcallbacks\u001b[0m\u001b[1;33m:\u001b[0m \u001b[0mcb\u001b[0m\u001b[1;33m.\u001b[0m\u001b[0mon_batch_begin\u001b[0m\u001b[1;33m(\u001b[0m\u001b[1;33m)\u001b[0m\u001b[1;33m\u001b[0m\u001b[0m\n\u001b[1;32m--> 138\u001b[1;33m             \u001b[0mloss\u001b[0m \u001b[1;33m=\u001b[0m \u001b[0mmodel_stepper\u001b[0m\u001b[1;33m.\u001b[0m\u001b[0mstep\u001b[0m\u001b[1;33m(\u001b[0m\u001b[0mV\u001b[0m\u001b[1;33m(\u001b[0m\u001b[0mx\u001b[0m\u001b[1;33m)\u001b[0m\u001b[1;33m,\u001b[0m\u001b[0mV\u001b[0m\u001b[1;33m(\u001b[0m\u001b[0my\u001b[0m\u001b[1;33m)\u001b[0m\u001b[1;33m,\u001b[0m \u001b[0mepoch\u001b[0m\u001b[1;33m)\u001b[0m\u001b[1;33m\u001b[0m\u001b[0m\n\u001b[0m\u001b[0;32m    139\u001b[0m             \u001b[0mavg_loss\u001b[0m \u001b[1;33m=\u001b[0m \u001b[0mavg_loss\u001b[0m \u001b[1;33m*\u001b[0m \u001b[0mavg_mom\u001b[0m \u001b[1;33m+\u001b[0m \u001b[0mloss\u001b[0m \u001b[1;33m*\u001b[0m \u001b[1;33m(\u001b[0m\u001b[1;36m1\u001b[0m\u001b[1;33m-\u001b[0m\u001b[0mavg_mom\u001b[0m\u001b[1;33m)\u001b[0m\u001b[1;33m\u001b[0m\u001b[0m\n\u001b[0;32m    140\u001b[0m             \u001b[0mdebias_loss\u001b[0m \u001b[1;33m=\u001b[0m \u001b[0mavg_loss\u001b[0m \u001b[1;33m/\u001b[0m \u001b[1;33m(\u001b[0m\u001b[1;36m1\u001b[0m \u001b[1;33m-\u001b[0m \u001b[0mavg_mom\u001b[0m\u001b[1;33m**\u001b[0m\u001b[0mbatch_num\u001b[0m\u001b[1;33m)\u001b[0m\u001b[1;33m\u001b[0m\u001b[0m\n",
      "\u001b[1;32mE:\\جدید\\DL\\fastai\\fastai\\model.py\u001b[0m in \u001b[0;36mstep\u001b[1;34m(self, xs, y, epoch)\u001b[0m\n\u001b[0;32m     55\u001b[0m         \u001b[1;32mif\u001b[0m \u001b[0mself\u001b[0m\u001b[1;33m.\u001b[0m\u001b[0mloss_scale\u001b[0m \u001b[1;33m!=\u001b[0m \u001b[1;36m1\u001b[0m\u001b[1;33m:\u001b[0m \u001b[1;32massert\u001b[0m\u001b[1;33m(\u001b[0m\u001b[0mself\u001b[0m\u001b[1;33m.\u001b[0m\u001b[0mfp16\u001b[0m\u001b[1;33m)\u001b[0m\u001b[1;33m;\u001b[0m \u001b[0mloss\u001b[0m \u001b[1;33m=\u001b[0m \u001b[0mloss\u001b[0m\u001b[1;33m*\u001b[0m\u001b[0mself\u001b[0m\u001b[1;33m.\u001b[0m\u001b[0mloss_scale\u001b[0m\u001b[1;33m\u001b[0m\u001b[0m\n\u001b[0;32m     56\u001b[0m         \u001b[1;32mif\u001b[0m \u001b[0mself\u001b[0m\u001b[1;33m.\u001b[0m\u001b[0mreg_fn\u001b[0m\u001b[1;33m:\u001b[0m \u001b[0mloss\u001b[0m \u001b[1;33m=\u001b[0m \u001b[0mself\u001b[0m\u001b[1;33m.\u001b[0m\u001b[0mreg_fn\u001b[0m\u001b[1;33m(\u001b[0m\u001b[0moutput\u001b[0m\u001b[1;33m,\u001b[0m \u001b[0mxtra\u001b[0m\u001b[1;33m,\u001b[0m \u001b[0mraw_loss\u001b[0m\u001b[1;33m)\u001b[0m\u001b[1;33m\u001b[0m\u001b[0m\n\u001b[1;32m---> 57\u001b[1;33m         \u001b[0mloss\u001b[0m\u001b[1;33m.\u001b[0m\u001b[0mbackward\u001b[0m\u001b[1;33m(\u001b[0m\u001b[1;33m)\u001b[0m\u001b[1;33m\u001b[0m\u001b[0m\n\u001b[0m\u001b[0;32m     58\u001b[0m         \u001b[1;32mif\u001b[0m \u001b[0mself\u001b[0m\u001b[1;33m.\u001b[0m\u001b[0mfp16\u001b[0m\u001b[1;33m:\u001b[0m \u001b[0mupdate_fp32_grads\u001b[0m\u001b[1;33m(\u001b[0m\u001b[0mself\u001b[0m\u001b[1;33m.\u001b[0m\u001b[0mfp32_params\u001b[0m\u001b[1;33m,\u001b[0m \u001b[0mself\u001b[0m\u001b[1;33m.\u001b[0m\u001b[0mm\u001b[0m\u001b[1;33m)\u001b[0m\u001b[1;33m\u001b[0m\u001b[0m\n\u001b[0;32m     59\u001b[0m         \u001b[1;32mif\u001b[0m \u001b[0mself\u001b[0m\u001b[1;33m.\u001b[0m\u001b[0mloss_scale\u001b[0m \u001b[1;33m!=\u001b[0m \u001b[1;36m1\u001b[0m\u001b[1;33m:\u001b[0m\u001b[1;33m\u001b[0m\u001b[0m\n",
      "\u001b[1;32mD:\\ProgramData\\Anaconda3\\envs\\fastai\\lib\\site-packages\\torch\\autograd\\variable.py\u001b[0m in \u001b[0;36mbackward\u001b[1;34m(self, gradient, retain_graph, create_graph, retain_variables)\u001b[0m\n\u001b[0;32m    165\u001b[0m                 \u001b[0mVariable\u001b[0m\u001b[1;33m.\u001b[0m\u001b[1;33m\u001b[0m\u001b[0m\n\u001b[0;32m    166\u001b[0m         \"\"\"\n\u001b[1;32m--> 167\u001b[1;33m         \u001b[0mtorch\u001b[0m\u001b[1;33m.\u001b[0m\u001b[0mautograd\u001b[0m\u001b[1;33m.\u001b[0m\u001b[0mbackward\u001b[0m\u001b[1;33m(\u001b[0m\u001b[0mself\u001b[0m\u001b[1;33m,\u001b[0m \u001b[0mgradient\u001b[0m\u001b[1;33m,\u001b[0m \u001b[0mretain_graph\u001b[0m\u001b[1;33m,\u001b[0m \u001b[0mcreate_graph\u001b[0m\u001b[1;33m,\u001b[0m \u001b[0mretain_variables\u001b[0m\u001b[1;33m)\u001b[0m\u001b[1;33m\u001b[0m\u001b[0m\n\u001b[0m\u001b[0;32m    168\u001b[0m \u001b[1;33m\u001b[0m\u001b[0m\n\u001b[0;32m    169\u001b[0m     \u001b[1;32mdef\u001b[0m \u001b[0mregister_hook\u001b[0m\u001b[1;33m(\u001b[0m\u001b[0mself\u001b[0m\u001b[1;33m,\u001b[0m \u001b[0mhook\u001b[0m\u001b[1;33m)\u001b[0m\u001b[1;33m:\u001b[0m\u001b[1;33m\u001b[0m\u001b[0m\n",
      "\u001b[1;32mD:\\ProgramData\\Anaconda3\\envs\\fastai\\lib\\site-packages\\torch\\autograd\\__init__.py\u001b[0m in \u001b[0;36mbackward\u001b[1;34m(variables, grad_variables, retain_graph, create_graph, retain_variables)\u001b[0m\n\u001b[0;32m     97\u001b[0m \u001b[1;33m\u001b[0m\u001b[0m\n\u001b[0;32m     98\u001b[0m     Variable._execution_engine.run_backward(\n\u001b[1;32m---> 99\u001b[1;33m         variables, grad_variables, retain_graph)\n\u001b[0m\u001b[0;32m    100\u001b[0m \u001b[1;33m\u001b[0m\u001b[0m\n\u001b[0;32m    101\u001b[0m \u001b[1;33m\u001b[0m\u001b[0m\n",
      "\u001b[1;31mKeyboardInterrupt\u001b[0m: "
     ]
    },
    {
     "name": "stdout",
     "output_type": "stream",
     "text": [
      "\r",
      " 80%|███████▉  | 125/157 [00:20<00:05,  5.98it/s, loss=5.47e+13]"
     ]
    }
   ],
   "source": [
    "m.fit(lr, 10, metrics=[mean_absolute_percentage_error], cycle_len=1)"
   ]
  },
  {
   "cell_type": "code",
   "execution_count": 55,
   "metadata": {},
   "outputs": [
    {
     "data": {
      "text/plain": [
       "22.971820831298828"
      ]
     },
     "execution_count": 55,
     "metadata": {},
     "output_type": "execute_result"
    }
   ],
   "source": [
    "x,y=m.predict_with_targs()\n",
    "\n",
    "mean_absolute_percentage_error(np.exp(x),np.exp(y))"
   ]
  },
  {
   "cell_type": "code",
   "execution_count": 95,
   "metadata": {},
   "outputs": [],
   "source": [
    "from sklearn.ensemble import RandomForestRegressor"
   ]
  },
  {
   "cell_type": "code",
   "execution_count": 96,
   "metadata": {},
   "outputs": [],
   "source": [
    "((val,trn), (y_val,y_trn)) = split_by_idx(val_idx, df.values, yl)"
   ]
  },
  {
   "cell_type": "code",
   "execution_count": 138,
   "metadata": {},
   "outputs": [],
   "source": [
    "m = RandomForestRegressor(n_estimators=250, max_features=0.5, min_samples_leaf=2,\n",
    "                          oob_score=True)\n",
    "m.fit(trn, y_trn);"
   ]
  },
  {
   "cell_type": "code",
   "execution_count": 139,
   "metadata": {},
   "outputs": [
    {
     "data": {
      "text/plain": [
       "(0.9766314603740812, 0.8955662758864886, 0.9014557278863463, 18.41714900968181)"
      ]
     },
     "execution_count": 139,
     "metadata": {},
     "output_type": "execute_result"
    }
   ],
   "source": [
    "preds = m.predict(val)\n",
    "m.score(trn, y_trn), m.score(val, y_val), m.oob_score_, mean_absolute_percentage_error(preds, y_val)"
   ]
  },
  {
   "cell_type": "code",
   "execution_count": 140,
   "metadata": {},
   "outputs": [],
   "source": [
    "df = pd.DataFrame(trn)\n",
    "df['pred'] = m.predict(trn)"
   ]
  },
  {
   "cell_type": "code",
   "execution_count": 142,
   "metadata": {},
   "outputs": [],
   "source": [
    "df_val = pd.DataFrame(val)\n",
    "df_val['pred'] = preds"
   ]
  },
  {
   "cell_type": "code",
   "execution_count": null,
   "metadata": {},
   "outputs": [],
   "source": [
    "df_val."
   ]
  },
  {
   "cell_type": "code",
   "execution_count": 143,
   "metadata": {},
   "outputs": [],
   "source": [
    "m = RandomForestRegressor(n_estimators=250, max_features=0.5, min_samples_leaf=2,\n",
    "                          oob_score=True)\n",
    "m.fit(df, y_trn);"
   ]
  },
  {
   "cell_type": "code",
   "execution_count": 147,
   "metadata": {},
   "outputs": [
    {
     "data": {
      "text/plain": [
       "0.9968998169104996"
      ]
     },
     "execution_count": 147,
     "metadata": {},
     "output_type": "execute_result"
    }
   ],
   "source": [
    "preds_2 = m.predict(df_val)\n",
    "m.score(df, y_trn)"
   ]
  },
  {
   "cell_type": "code",
   "execution_count": 149,
   "metadata": {},
   "outputs": [
    {
     "data": {
      "text/plain": [
       "0.8934610999536143"
      ]
     },
     "execution_count": 149,
     "metadata": {},
     "output_type": "execute_result"
    }
   ],
   "source": [
    "m.score(df_val, y_val)"
   ]
  },
  {
   "cell_type": "code",
   "execution_count": 150,
   "metadata": {},
   "outputs": [
    {
     "data": {
      "text/plain": [
       "18.138677290443205"
      ]
     },
     "execution_count": 150,
     "metadata": {},
     "output_type": "execute_result"
    }
   ],
   "source": [
    "mean_absolute_percentage_error(preds_2, y_val)"
   ]
  },
  {
   "cell_type": "code",
   "execution_count": null,
   "metadata": {},
   "outputs": [],
   "source": [
    "m.score(preds_2, y_trn), m.score(preds_2, y_val), m.oob_score_, mean_absolute_percentage_error(preds_2, y_val)"
   ]
  },
  {
   "cell_type": "code",
   "execution_count": 111,
   "metadata": {},
   "outputs": [],
   "source": [
    "import xgboost"
   ]
  },
  {
   "cell_type": "code",
   "execution_count": 112,
   "metadata": {},
   "outputs": [],
   "source": [
    "def xgb_mape(preds, dtrain):\n",
    "   labels = dtrain.get_label()\n",
    "   return('mape', np.mean(np.abs((labels - preds) / (labels+1))))"
   ]
  },
  {
   "cell_type": "code",
   "execution_count": 117,
   "metadata": {},
   "outputs": [
    {
     "data": {
      "text/plain": [
       "(49000,)"
      ]
     },
     "execution_count": 117,
     "metadata": {},
     "output_type": "execute_result"
    }
   ],
   "source": [
    "y_trn.shape\n"
   ]
  },
  {
   "cell_type": "code",
   "execution_count": 119,
   "metadata": {},
   "outputs": [
    {
     "name": "stderr",
     "output_type": "stream",
     "text": [
      "Exception ignored in: <bound method DMatrix.__del__ of <xgboost.core.DMatrix object at 0x000001A8225485F8>>\n",
      "Traceback (most recent call last):\n",
      "  File \"D:\\ProgramData\\Anaconda3\\envs\\fastai\\lib\\site-packages\\xgboost\\core.py\", line 366, in __del__\n",
      "    if self.handle is not None:\n",
      "AttributeError: 'DMatrix' object has no attribute 'handle'\n",
      "D:\\ProgramData\\Anaconda3\\envs\\fastai\\lib\\site-packages\\sklearn\\cross_validation.py:41: DeprecationWarning: This module was deprecated in version 0.18 in favor of the model_selection module into which all the refactored classes and functions are moved. Also note that the interface of the new CV iterators are different from that of this module. This module will be removed in 0.20.\n",
      "  \"This module will be removed in 0.20.\", DeprecationWarning)\n"
     ]
    },
    {
     "name": "stdout",
     "output_type": "stream",
     "text": [
      "[0]\tvalidation_0-rmse:7.31662e+06\tvalidation_0-mape:0.968133\n",
      "[1]\tvalidation_0-rmse:7.11492e+06\tvalidation_0-mape:0.93727\n",
      "[2]\tvalidation_0-rmse:6.91998e+06\tvalidation_0-mape:0.907299\n",
      "[3]\tvalidation_0-rmse:6.73118e+06\tvalidation_0-mape:0.878276\n",
      "[4]\tvalidation_0-rmse:6.54875e+06\tvalidation_0-mape:0.850184\n",
      "[5]\tvalidation_0-rmse:6.37194e+06\tvalidation_0-mape:0.822927\n",
      "[6]\tvalidation_0-rmse:6.20097e+06\tvalidation_0-mape:0.796534\n",
      "[7]\tvalidation_0-rmse:6.03552e+06\tvalidation_0-mape:0.770892\n",
      "[8]\tvalidation_0-rmse:5.87535e+06\tvalidation_0-mape:0.746031\n",
      "[9]\tvalidation_0-rmse:5.72087e+06\tvalidation_0-mape:0.721982\n",
      "[10]\tvalidation_0-rmse:5.57087e+06\tvalidation_0-mape:0.698651\n",
      "[11]\tvalidation_0-rmse:5.4258e+06\tvalidation_0-mape:0.676047\n",
      "[12]\tvalidation_0-rmse:5.28542e+06\tvalidation_0-mape:0.654125\n",
      "[13]\tvalidation_0-rmse:5.14889e+06\tvalidation_0-mape:0.63291\n",
      "[14]\tvalidation_0-rmse:5.01644e+06\tvalidation_0-mape:0.612295\n",
      "[15]\tvalidation_0-rmse:4.88869e+06\tvalidation_0-mape:0.592376\n",
      "[16]\tvalidation_0-rmse:4.76498e+06\tvalidation_0-mape:0.57321\n",
      "[17]\tvalidation_0-rmse:4.64546e+06\tvalidation_0-mape:0.554618\n",
      "[18]\tvalidation_0-rmse:4.53026e+06\tvalidation_0-mape:0.536659\n",
      "[19]\tvalidation_0-rmse:4.41886e+06\tvalidation_0-mape:0.51934\n",
      "[20]\tvalidation_0-rmse:4.3109e+06\tvalidation_0-mape:0.502646\n",
      "[21]\tvalidation_0-rmse:4.20702e+06\tvalidation_0-mape:0.486675\n",
      "[22]\tvalidation_0-rmse:4.10683e+06\tvalidation_0-mape:0.471323\n",
      "[23]\tvalidation_0-rmse:4.01032e+06\tvalidation_0-mape:0.45659\n",
      "[24]\tvalidation_0-rmse:3.91712e+06\tvalidation_0-mape:0.442401\n",
      "[25]\tvalidation_0-rmse:3.82664e+06\tvalidation_0-mape:0.428778\n",
      "[26]\tvalidation_0-rmse:3.7399e+06\tvalidation_0-mape:0.415722\n",
      "[27]\tvalidation_0-rmse:3.65649e+06\tvalidation_0-mape:0.403224\n",
      "[28]\tvalidation_0-rmse:3.57532e+06\tvalidation_0-mape:0.39112\n",
      "[29]\tvalidation_0-rmse:3.49679e+06\tvalidation_0-mape:0.379671\n",
      "[30]\tvalidation_0-rmse:3.42128e+06\tvalidation_0-mape:0.368616\n",
      "[31]\tvalidation_0-rmse:3.3477e+06\tvalidation_0-mape:0.358129\n",
      "[32]\tvalidation_0-rmse:3.27689e+06\tvalidation_0-mape:0.348109\n",
      "[33]\tvalidation_0-rmse:3.20927e+06\tvalidation_0-mape:0.338566\n",
      "[34]\tvalidation_0-rmse:3.14395e+06\tvalidation_0-mape:0.329369\n",
      "[35]\tvalidation_0-rmse:3.08113e+06\tvalidation_0-mape:0.320747\n",
      "[36]\tvalidation_0-rmse:3.02005e+06\tvalidation_0-mape:0.312486\n",
      "[37]\tvalidation_0-rmse:2.96153e+06\tvalidation_0-mape:0.304679\n",
      "[38]\tvalidation_0-rmse:2.90542e+06\tvalidation_0-mape:0.297284\n",
      "[39]\tvalidation_0-rmse:2.85078e+06\tvalidation_0-mape:0.290249\n",
      "[40]\tvalidation_0-rmse:2.79882e+06\tvalidation_0-mape:0.283557\n",
      "[41]\tvalidation_0-rmse:2.74883e+06\tvalidation_0-mape:0.277239\n",
      "[42]\tvalidation_0-rmse:2.70078e+06\tvalidation_0-mape:0.271265\n",
      "[43]\tvalidation_0-rmse:2.6547e+06\tvalidation_0-mape:0.265675\n",
      "[44]\tvalidation_0-rmse:2.61086e+06\tvalidation_0-mape:0.260415\n",
      "[45]\tvalidation_0-rmse:2.56832e+06\tvalidation_0-mape:0.255424\n",
      "[46]\tvalidation_0-rmse:2.52725e+06\tvalidation_0-mape:0.250727\n",
      "[47]\tvalidation_0-rmse:2.48835e+06\tvalidation_0-mape:0.246324\n",
      "[48]\tvalidation_0-rmse:2.45061e+06\tvalidation_0-mape:0.242165\n",
      "[49]\tvalidation_0-rmse:2.41484e+06\tvalidation_0-mape:0.238326\n",
      "[50]\tvalidation_0-rmse:2.38061e+06\tvalidation_0-mape:0.234689\n",
      "[51]\tvalidation_0-rmse:2.34743e+06\tvalidation_0-mape:0.231278\n",
      "[52]\tvalidation_0-rmse:2.31563e+06\tvalidation_0-mape:0.228075\n",
      "[53]\tvalidation_0-rmse:2.28606e+06\tvalidation_0-mape:0.22513\n",
      "[54]\tvalidation_0-rmse:2.25707e+06\tvalidation_0-mape:0.222406\n",
      "[55]\tvalidation_0-rmse:2.22933e+06\tvalidation_0-mape:0.219838\n",
      "[56]\tvalidation_0-rmse:2.20292e+06\tvalidation_0-mape:0.217441\n",
      "[57]\tvalidation_0-rmse:2.17778e+06\tvalidation_0-mape:0.215193\n",
      "[58]\tvalidation_0-rmse:2.15372e+06\tvalidation_0-mape:0.213121\n",
      "[59]\tvalidation_0-rmse:2.1306e+06\tvalidation_0-mape:0.211191\n",
      "[60]\tvalidation_0-rmse:2.10849e+06\tvalidation_0-mape:0.209391\n",
      "[61]\tvalidation_0-rmse:2.08745e+06\tvalidation_0-mape:0.207744\n",
      "[62]\tvalidation_0-rmse:2.06701e+06\tvalidation_0-mape:0.206147\n",
      "[63]\tvalidation_0-rmse:2.04774e+06\tvalidation_0-mape:0.204694\n",
      "[64]\tvalidation_0-rmse:2.02885e+06\tvalidation_0-mape:0.203395\n",
      "[65]\tvalidation_0-rmse:2.01164e+06\tvalidation_0-mape:0.20223\n",
      "[66]\tvalidation_0-rmse:1.99459e+06\tvalidation_0-mape:0.2011\n",
      "[67]\tvalidation_0-rmse:1.97919e+06\tvalidation_0-mape:0.199985\n",
      "[68]\tvalidation_0-rmse:1.9644e+06\tvalidation_0-mape:0.199015\n",
      "[69]\tvalidation_0-rmse:1.94998e+06\tvalidation_0-mape:0.198098\n",
      "[70]\tvalidation_0-rmse:1.93582e+06\tvalidation_0-mape:0.197277\n",
      "[71]\tvalidation_0-rmse:1.92316e+06\tvalidation_0-mape:0.196546\n",
      "[72]\tvalidation_0-rmse:1.91071e+06\tvalidation_0-mape:0.195907\n",
      "[73]\tvalidation_0-rmse:1.89934e+06\tvalidation_0-mape:0.195343\n",
      "[74]\tvalidation_0-rmse:1.88864e+06\tvalidation_0-mape:0.194782\n",
      "[75]\tvalidation_0-rmse:1.87760e+06\tvalidation_0-mape:0.194264\n",
      "[76]\tvalidation_0-rmse:1.86738e+06\tvalidation_0-mape:0.193792\n",
      "[77]\tvalidation_0-rmse:1.85772e+06\tvalidation_0-mape:0.193366\n",
      "[78]\tvalidation_0-rmse:1.84872e+06\tvalidation_0-mape:0.193015\n",
      "[79]\tvalidation_0-rmse:1.84036e+06\tvalidation_0-mape:0.192731\n",
      "[80]\tvalidation_0-rmse:1.83221e+06\tvalidation_0-mape:0.192442\n",
      "[81]\tvalidation_0-rmse:1.82482e+06\tvalidation_0-mape:0.192218\n",
      "[82]\tvalidation_0-rmse:1.81766e+06\tvalidation_0-mape:0.192011\n",
      "[83]\tvalidation_0-rmse:1.81081e+06\tvalidation_0-mape:0.191849\n",
      "[84]\tvalidation_0-rmse:1.80438e+06\tvalidation_0-mape:0.191731\n",
      "[85]\tvalidation_0-rmse:1.79811e+06\tvalidation_0-mape:0.191602\n",
      "[86]\tvalidation_0-rmse:1.79199e+06\tvalidation_0-mape:0.191539\n",
      "[87]\tvalidation_0-rmse:1.78658e+06\tvalidation_0-mape:0.191454\n",
      "[88]\tvalidation_0-rmse:1.7815e+06\tvalidation_0-mape:0.191416\n",
      "[89]\tvalidation_0-rmse:1.77661e+06\tvalidation_0-mape:0.191389\n",
      "[90]\tvalidation_0-rmse:1.77231e+06\tvalidation_0-mape:0.191369\n",
      "[91]\tvalidation_0-rmse:1.7679e+06\tvalidation_0-mape:0.19135\n",
      "[92]\tvalidation_0-rmse:1.76381e+06\tvalidation_0-mape:0.191386\n",
      "[93]\tvalidation_0-rmse:1.75973e+06\tvalidation_0-mape:0.191369\n",
      "[94]\tvalidation_0-rmse:1.75577e+06\tvalidation_0-mape:0.191367\n",
      "[95]\tvalidation_0-rmse:1.75171e+06\tvalidation_0-mape:0.191424\n",
      "[96]\tvalidation_0-rmse:1.74811e+06\tvalidation_0-mape:0.191446\n",
      "[97]\tvalidation_0-rmse:1.7447e+06\tvalidation_0-mape:0.191461\n",
      "[98]\tvalidation_0-rmse:1.7413e+06\tvalidation_0-mape:0.191525\n",
      "[99]\tvalidation_0-rmse:1.73815e+06\tvalidation_0-mape:0.191573\n",
      "[100]\tvalidation_0-rmse:1.73528e+06\tvalidation_0-mape:0.191632\n",
      "[101]\tvalidation_0-rmse:1.73229e+06\tvalidation_0-mape:0.191722\n",
      "[102]\tvalidation_0-rmse:1.72976e+06\tvalidation_0-mape:0.191772\n",
      "[103]\tvalidation_0-rmse:1.72741e+06\tvalidation_0-mape:0.19187\n",
      "[104]\tvalidation_0-rmse:1.725e+06\tvalidation_0-mape:0.191939\n",
      "[105]\tvalidation_0-rmse:1.72283e+06\tvalidation_0-mape:0.192047\n",
      "[106]\tvalidation_0-rmse:1.72064e+06\tvalidation_0-mape:0.192105\n",
      "[107]\tvalidation_0-rmse:1.71833e+06\tvalidation_0-mape:0.192156\n",
      "[108]\tvalidation_0-rmse:1.71646e+06\tvalidation_0-mape:0.192238\n",
      "[109]\tvalidation_0-rmse:1.71459e+06\tvalidation_0-mape:0.192315\n",
      "[110]\tvalidation_0-rmse:1.71282e+06\tvalidation_0-mape:0.192435\n",
      "[111]\tvalidation_0-rmse:1.71119e+06\tvalidation_0-mape:0.192542\n",
      "[112]\tvalidation_0-rmse:1.70977e+06\tvalidation_0-mape:0.192652\n",
      "[113]\tvalidation_0-rmse:1.70844e+06\tvalidation_0-mape:0.192742\n",
      "[114]\tvalidation_0-rmse:1.70731e+06\tvalidation_0-mape:0.192847\n",
      "[115]\tvalidation_0-rmse:1.70603e+06\tvalidation_0-mape:0.192918\n",
      "[116]\tvalidation_0-rmse:1.70427e+06\tvalidation_0-mape:0.193012\n",
      "[117]\tvalidation_0-rmse:1.70279e+06\tvalidation_0-mape:0.193127\n",
      "[118]\tvalidation_0-rmse:1.70145e+06\tvalidation_0-mape:0.193267\n",
      "[119]\tvalidation_0-rmse:1.69994e+06\tvalidation_0-mape:0.193345\n",
      "[120]\tvalidation_0-rmse:1.69846e+06\tvalidation_0-mape:0.193442\n",
      "[121]\tvalidation_0-rmse:1.69706e+06\tvalidation_0-mape:0.193518\n",
      "[122]\tvalidation_0-rmse:1.69591e+06\tvalidation_0-mape:0.193618\n",
      "[123]\tvalidation_0-rmse:1.69454e+06\tvalidation_0-mape:0.193686\n",
      "[124]\tvalidation_0-rmse:1.69326e+06\tvalidation_0-mape:0.193725\n",
      "[125]\tvalidation_0-rmse:1.69216e+06\tvalidation_0-mape:0.193797\n",
      "[126]\tvalidation_0-rmse:1.69115e+06\tvalidation_0-mape:0.193876\n",
      "[127]\tvalidation_0-rmse:1.69038e+06\tvalidation_0-mape:0.193969\n",
      "[128]\tvalidation_0-rmse:1.68922e+06\tvalidation_0-mape:0.194068\n",
      "[129]\tvalidation_0-rmse:1.6885e+06\tvalidation_0-mape:0.194158\n",
      "[130]\tvalidation_0-rmse:1.68766e+06\tvalidation_0-mape:0.194244\n",
      "[131]\tvalidation_0-rmse:1.68704e+06\tvalidation_0-mape:0.194342\n",
      "[132]\tvalidation_0-rmse:1.68605e+06\tvalidation_0-mape:0.194386\n"
     ]
    },
    {
     "name": "stdout",
     "output_type": "stream",
     "text": [
      "[133]\tvalidation_0-rmse:1.68521e+06\tvalidation_0-mape:0.194426\n",
      "[134]\tvalidation_0-rmse:1.6845e+06\tvalidation_0-mape:0.194502\n",
      "[135]\tvalidation_0-rmse:1.68388e+06\tvalidation_0-mape:0.194584\n",
      "[136]\tvalidation_0-rmse:1.68333e+06\tvalidation_0-mape:0.194619\n",
      "[137]\tvalidation_0-rmse:1.68243e+06\tvalidation_0-mape:0.194677\n",
      "[138]\tvalidation_0-rmse:1.68178e+06\tvalidation_0-mape:0.194706\n",
      "[139]\tvalidation_0-rmse:1.68126e+06\tvalidation_0-mape:0.194782\n",
      "[140]\tvalidation_0-rmse:1.68088e+06\tvalidation_0-mape:0.194836\n",
      "[141]\tvalidation_0-rmse:1.68024e+06\tvalidation_0-mape:0.194916\n",
      "[142]\tvalidation_0-rmse:1.67986e+06\tvalidation_0-mape:0.194948\n",
      "[143]\tvalidation_0-rmse:1.67926e+06\tvalidation_0-mape:0.194977\n",
      "[144]\tvalidation_0-rmse:1.67881e+06\tvalidation_0-mape:0.194995\n",
      "[145]\tvalidation_0-rmse:1.6782e+06\tvalidation_0-mape:0.195037\n",
      "[146]\tvalidation_0-rmse:1.6779e+06\tvalidation_0-mape:0.195029\n",
      "[147]\tvalidation_0-rmse:1.67757e+06\tvalidation_0-mape:0.195081\n",
      "[148]\tvalidation_0-rmse:1.67702e+06\tvalidation_0-mape:0.195079\n",
      "[149]\tvalidation_0-rmse:1.6766e+06\tvalidation_0-mape:0.19511\n",
      "[150]\tvalidation_0-rmse:1.67629e+06\tvalidation_0-mape:0.195161\n",
      "[151]\tvalidation_0-rmse:1.67599e+06\tvalidation_0-mape:0.195227\n",
      "[152]\tvalidation_0-rmse:1.67538e+06\tvalidation_0-mape:0.195261\n",
      "[153]\tvalidation_0-rmse:1.675e+06\tvalidation_0-mape:0.195255\n",
      "[154]\tvalidation_0-rmse:1.6747e+06\tvalidation_0-mape:0.195283\n",
      "[155]\tvalidation_0-rmse:1.67436e+06\tvalidation_0-mape:0.195328\n",
      "[156]\tvalidation_0-rmse:1.67396e+06\tvalidation_0-mape:0.195376\n",
      "[157]\tvalidation_0-rmse:1.67348e+06\tvalidation_0-mape:0.195333\n",
      "[158]\tvalidation_0-rmse:1.67312e+06\tvalidation_0-mape:0.195364\n",
      "[159]\tvalidation_0-rmse:1.67259e+06\tvalidation_0-mape:0.195332\n",
      "[160]\tvalidation_0-rmse:1.67218e+06\tvalidation_0-mape:0.195303\n",
      "[161]\tvalidation_0-rmse:1.67179e+06\tvalidation_0-mape:0.195337\n",
      "[162]\tvalidation_0-rmse:1.67154e+06\tvalidation_0-mape:0.195366\n",
      "[163]\tvalidation_0-rmse:1.67126e+06\tvalidation_0-mape:0.19541\n",
      "[164]\tvalidation_0-rmse:1.67118e+06\tvalidation_0-mape:0.195444\n",
      "[165]\tvalidation_0-rmse:1.67107e+06\tvalidation_0-mape:0.195474\n",
      "[166]\tvalidation_0-rmse:1.67047e+06\tvalidation_0-mape:0.195409\n",
      "[167]\tvalidation_0-rmse:1.67027e+06\tvalidation_0-mape:0.19541\n",
      "[168]\tvalidation_0-rmse:1.66998e+06\tvalidation_0-mape:0.195373\n",
      "[169]\tvalidation_0-rmse:1.66977e+06\tvalidation_0-mape:0.195393\n",
      "[170]\tvalidation_0-rmse:1.66966e+06\tvalidation_0-mape:0.195434\n",
      "[171]\tvalidation_0-rmse:1.66938e+06\tvalidation_0-mape:0.195429\n",
      "[172]\tvalidation_0-rmse:1.669e+06\tvalidation_0-mape:0.195418\n",
      "[173]\tvalidation_0-rmse:1.66882e+06\tvalidation_0-mape:0.195409\n",
      "[174]\tvalidation_0-rmse:1.66853e+06\tvalidation_0-mape:0.19534\n",
      "[175]\tvalidation_0-rmse:1.66836e+06\tvalidation_0-mape:0.195377\n",
      "[176]\tvalidation_0-rmse:1.66799e+06\tvalidation_0-mape:0.195366\n",
      "[177]\tvalidation_0-rmse:1.66764e+06\tvalidation_0-mape:0.195297\n",
      "[178]\tvalidation_0-rmse:1.66746e+06\tvalidation_0-mape:0.195304\n",
      "[179]\tvalidation_0-rmse:1.66724e+06\tvalidation_0-mape:0.195309\n",
      "[180]\tvalidation_0-rmse:1.66704e+06\tvalidation_0-mape:0.195261\n",
      "[181]\tvalidation_0-rmse:1.66675e+06\tvalidation_0-mape:0.195267\n",
      "[182]\tvalidation_0-rmse:1.66648e+06\tvalidation_0-mape:0.195221\n",
      "[183]\tvalidation_0-rmse:1.66634e+06\tvalidation_0-mape:0.195222\n",
      "[184]\tvalidation_0-rmse:1.66612e+06\tvalidation_0-mape:0.195222\n",
      "[185]\tvalidation_0-rmse:1.66607e+06\tvalidation_0-mape:0.195244\n",
      "[186]\tvalidation_0-rmse:1.66558e+06\tvalidation_0-mape:0.195121\n",
      "[187]\tvalidation_0-rmse:1.66519e+06\tvalidation_0-mape:0.195032\n",
      "[188]\tvalidation_0-rmse:1.66488e+06\tvalidation_0-mape:0.194973\n",
      "[189]\tvalidation_0-rmse:1.66454e+06\tvalidation_0-mape:0.194902\n",
      "[190]\tvalidation_0-rmse:1.6643e+06\tvalidation_0-mape:0.194843\n",
      "[191]\tvalidation_0-rmse:1.66393e+06\tvalidation_0-mape:0.19475\n",
      "[192]\tvalidation_0-rmse:1.6638e+06\tvalidation_0-mape:0.194752\n",
      "[193]\tvalidation_0-rmse:1.66367e+06\tvalidation_0-mape:0.194728\n",
      "[194]\tvalidation_0-rmse:1.6635e+06\tvalidation_0-mape:0.19468\n",
      "[195]\tvalidation_0-rmse:1.66337e+06\tvalidation_0-mape:0.194702\n",
      "[196]\tvalidation_0-rmse:1.66312e+06\tvalidation_0-mape:0.194665\n",
      "[197]\tvalidation_0-rmse:1.66285e+06\tvalidation_0-mape:0.194615\n",
      "[198]\tvalidation_0-rmse:1.6629e+06\tvalidation_0-mape:0.194637\n",
      "[199]\tvalidation_0-rmse:1.66266e+06\tvalidation_0-mape:0.194564\n",
      "[200]\tvalidation_0-rmse:1.66243e+06\tvalidation_0-mape:0.194468\n",
      "[201]\tvalidation_0-rmse:1.66223e+06\tvalidation_0-mape:0.194394\n",
      "[202]\tvalidation_0-rmse:1.66219e+06\tvalidation_0-mape:0.194404\n",
      "[203]\tvalidation_0-rmse:1.66211e+06\tvalidation_0-mape:0.194409\n",
      "[204]\tvalidation_0-rmse:1.66199e+06\tvalidation_0-mape:0.194403\n",
      "[205]\tvalidation_0-rmse:1.6617e+06\tvalidation_0-mape:0.194368\n",
      "[206]\tvalidation_0-rmse:1.66148e+06\tvalidation_0-mape:0.194351\n",
      "[207]\tvalidation_0-rmse:1.66126e+06\tvalidation_0-mape:0.19433\n",
      "[208]\tvalidation_0-rmse:1.66114e+06\tvalidation_0-mape:0.19433\n",
      "[209]\tvalidation_0-rmse:1.66091e+06\tvalidation_0-mape:0.194304\n",
      "[210]\tvalidation_0-rmse:1.66081e+06\tvalidation_0-mape:0.194283\n",
      "[211]\tvalidation_0-rmse:1.66065e+06\tvalidation_0-mape:0.194275\n",
      "[212]\tvalidation_0-rmse:1.66057e+06\tvalidation_0-mape:0.194275\n",
      "[213]\tvalidation_0-rmse:1.66044e+06\tvalidation_0-mape:0.19426\n",
      "[214]\tvalidation_0-rmse:1.66027e+06\tvalidation_0-mape:0.194226\n",
      "[215]\tvalidation_0-rmse:1.66007e+06\tvalidation_0-mape:0.194162\n",
      "[216]\tvalidation_0-rmse:1.66002e+06\tvalidation_0-mape:0.194158\n",
      "[217]\tvalidation_0-rmse:1.65995e+06\tvalidation_0-mape:0.19414\n",
      "[218]\tvalidation_0-rmse:1.65988e+06\tvalidation_0-mape:0.194142\n",
      "[219]\tvalidation_0-rmse:1.65969e+06\tvalidation_0-mape:0.194112\n",
      "[220]\tvalidation_0-rmse:1.65955e+06\tvalidation_0-mape:0.194072\n",
      "[221]\tvalidation_0-rmse:1.65935e+06\tvalidation_0-mape:0.194031\n",
      "[222]\tvalidation_0-rmse:1.65917e+06\tvalidation_0-mape:0.194004\n",
      "[223]\tvalidation_0-rmse:1.65903e+06\tvalidation_0-mape:0.19398\n",
      "[224]\tvalidation_0-rmse:1.65897e+06\tvalidation_0-mape:0.19395\n",
      "[225]\tvalidation_0-rmse:1.65889e+06\tvalidation_0-mape:0.193924\n",
      "[226]\tvalidation_0-rmse:1.65882e+06\tvalidation_0-mape:0.193899\n",
      "[227]\tvalidation_0-rmse:1.6586e+06\tvalidation_0-mape:0.193858\n",
      "[228]\tvalidation_0-rmse:1.65848e+06\tvalidation_0-mape:0.193841\n",
      "[229]\tvalidation_0-rmse:1.65842e+06\tvalidation_0-mape:0.193825\n",
      "[230]\tvalidation_0-rmse:1.65838e+06\tvalidation_0-mape:0.193813\n",
      "[231]\tvalidation_0-rmse:1.65828e+06\tvalidation_0-mape:0.193766\n",
      "[232]\tvalidation_0-rmse:1.6583e+06\tvalidation_0-mape:0.193745\n",
      "[233]\tvalidation_0-rmse:1.65821e+06\tvalidation_0-mape:0.193712\n",
      "[234]\tvalidation_0-rmse:1.65802e+06\tvalidation_0-mape:0.193696\n",
      "[235]\tvalidation_0-rmse:1.65788e+06\tvalidation_0-mape:0.19368\n",
      "[236]\tvalidation_0-rmse:1.65784e+06\tvalidation_0-mape:0.193666\n",
      "[237]\tvalidation_0-rmse:1.65768e+06\tvalidation_0-mape:0.193645\n",
      "[238]\tvalidation_0-rmse:1.65758e+06\tvalidation_0-mape:0.193613\n",
      "[239]\tvalidation_0-rmse:1.65712e+06\tvalidation_0-mape:0.193467\n",
      "[240]\tvalidation_0-rmse:1.65691e+06\tvalidation_0-mape:0.193428\n",
      "[241]\tvalidation_0-rmse:1.65678e+06\tvalidation_0-mape:0.193398\n",
      "[242]\tvalidation_0-rmse:1.65659e+06\tvalidation_0-mape:0.193357\n",
      "[243]\tvalidation_0-rmse:1.65648e+06\tvalidation_0-mape:0.193333\n",
      "[244]\tvalidation_0-rmse:1.65613e+06\tvalidation_0-mape:0.19322\n",
      "[245]\tvalidation_0-rmse:1.65597e+06\tvalidation_0-mape:0.193191\n",
      "[246]\tvalidation_0-rmse:1.65587e+06\tvalidation_0-mape:0.193176\n",
      "[247]\tvalidation_0-rmse:1.65567e+06\tvalidation_0-mape:0.193134\n",
      "[248]\tvalidation_0-rmse:1.65565e+06\tvalidation_0-mape:0.193107\n",
      "[249]\tvalidation_0-rmse:1.65551e+06\tvalidation_0-mape:0.193076\n",
      "[250]\tvalidation_0-rmse:1.6554e+06\tvalidation_0-mape:0.193047\n",
      "[251]\tvalidation_0-rmse:1.65526e+06\tvalidation_0-mape:0.193031\n",
      "[252]\tvalidation_0-rmse:1.65514e+06\tvalidation_0-mape:0.193003\n",
      "[253]\tvalidation_0-rmse:1.65504e+06\tvalidation_0-mape:0.192989\n",
      "[254]\tvalidation_0-rmse:1.655e+06\tvalidation_0-mape:0.192979\n",
      "[255]\tvalidation_0-rmse:1.6549e+06\tvalidation_0-mape:0.192966\n",
      "[256]\tvalidation_0-rmse:1.65466e+06\tvalidation_0-mape:0.192887\n",
      "[257]\tvalidation_0-rmse:1.65458e+06\tvalidation_0-mape:0.192868\n",
      "[258]\tvalidation_0-rmse:1.65448e+06\tvalidation_0-mape:0.192853\n",
      "[259]\tvalidation_0-rmse:1.65438e+06\tvalidation_0-mape:0.192809\n",
      "[260]\tvalidation_0-rmse:1.65421e+06\tvalidation_0-mape:0.192734\n",
      "[261]\tvalidation_0-rmse:1.65415e+06\tvalidation_0-mape:0.192725\n",
      "[262]\tvalidation_0-rmse:1.65411e+06\tvalidation_0-mape:0.192712\n",
      "[263]\tvalidation_0-rmse:1.654e+06\tvalidation_0-mape:0.192658\n"
     ]
    },
    {
     "name": "stdout",
     "output_type": "stream",
     "text": [
      "[264]\tvalidation_0-rmse:1.65382e+06\tvalidation_0-mape:0.192584\n",
      "[265]\tvalidation_0-rmse:1.65361e+06\tvalidation_0-mape:0.192543\n",
      "[266]\tvalidation_0-rmse:1.65354e+06\tvalidation_0-mape:0.19252\n",
      "[267]\tvalidation_0-rmse:1.65342e+06\tvalidation_0-mape:0.192489\n",
      "[268]\tvalidation_0-rmse:1.65306e+06\tvalidation_0-mape:0.19239\n",
      "[269]\tvalidation_0-rmse:1.65302e+06\tvalidation_0-mape:0.192366\n",
      "[270]\tvalidation_0-rmse:1.6529e+06\tvalidation_0-mape:0.192342\n",
      "[271]\tvalidation_0-rmse:1.65283e+06\tvalidation_0-mape:0.192322\n",
      "[272]\tvalidation_0-rmse:1.65257e+06\tvalidation_0-mape:0.192229\n",
      "[273]\tvalidation_0-rmse:1.65241e+06\tvalidation_0-mape:0.192169\n",
      "[274]\tvalidation_0-rmse:1.65243e+06\tvalidation_0-mape:0.192148\n",
      "[275]\tvalidation_0-rmse:1.65243e+06\tvalidation_0-mape:0.192104\n",
      "[276]\tvalidation_0-rmse:1.65227e+06\tvalidation_0-mape:0.192054\n",
      "[277]\tvalidation_0-rmse:1.65222e+06\tvalidation_0-mape:0.192051\n",
      "[278]\tvalidation_0-rmse:1.65206e+06\tvalidation_0-mape:0.191985\n",
      "[279]\tvalidation_0-rmse:1.65184e+06\tvalidation_0-mape:0.19189\n",
      "[280]\tvalidation_0-rmse:1.65175e+06\tvalidation_0-mape:0.191854\n",
      "[281]\tvalidation_0-rmse:1.65154e+06\tvalidation_0-mape:0.19179\n",
      "[282]\tvalidation_0-rmse:1.6515e+06\tvalidation_0-mape:0.191785\n",
      "[283]\tvalidation_0-rmse:1.65148e+06\tvalidation_0-mape:0.191782\n",
      "[284]\tvalidation_0-rmse:1.65141e+06\tvalidation_0-mape:0.19176\n",
      "[285]\tvalidation_0-rmse:1.65126e+06\tvalidation_0-mape:0.191721\n",
      "[286]\tvalidation_0-rmse:1.65123e+06\tvalidation_0-mape:0.191691\n",
      "[287]\tvalidation_0-rmse:1.65128e+06\tvalidation_0-mape:0.191674\n",
      "[288]\tvalidation_0-rmse:1.65122e+06\tvalidation_0-mape:0.191663\n",
      "[289]\tvalidation_0-rmse:1.65106e+06\tvalidation_0-mape:0.191591\n",
      "[290]\tvalidation_0-rmse:1.6509e+06\tvalidation_0-mape:0.191556\n",
      "[291]\tvalidation_0-rmse:1.65081e+06\tvalidation_0-mape:0.191531\n",
      "[292]\tvalidation_0-rmse:1.65077e+06\tvalidation_0-mape:0.191506\n",
      "[293]\tvalidation_0-rmse:1.6507e+06\tvalidation_0-mape:0.191498\n",
      "[294]\tvalidation_0-rmse:1.65073e+06\tvalidation_0-mape:0.191486\n",
      "[295]\tvalidation_0-rmse:1.65063e+06\tvalidation_0-mape:0.191455\n",
      "[296]\tvalidation_0-rmse:1.65057e+06\tvalidation_0-mape:0.191449\n",
      "[297]\tvalidation_0-rmse:1.65051e+06\tvalidation_0-mape:0.19144\n",
      "[298]\tvalidation_0-rmse:1.65047e+06\tvalidation_0-mape:0.191425\n",
      "[299]\tvalidation_0-rmse:1.65044e+06\tvalidation_0-mape:0.191407\n",
      "[300]\tvalidation_0-rmse:1.65048e+06\tvalidation_0-mape:0.191396\n",
      "[301]\tvalidation_0-rmse:1.65041e+06\tvalidation_0-mape:0.191388\n",
      "[302]\tvalidation_0-rmse:1.65035e+06\tvalidation_0-mape:0.191365\n",
      "[303]\tvalidation_0-rmse:1.65028e+06\tvalidation_0-mape:0.191359\n",
      "[304]\tvalidation_0-rmse:1.65004e+06\tvalidation_0-mape:0.191257\n",
      "[305]\tvalidation_0-rmse:1.65002e+06\tvalidation_0-mape:0.191248\n",
      "[306]\tvalidation_0-rmse:1.65008e+06\tvalidation_0-mape:0.19124\n",
      "[307]\tvalidation_0-rmse:1.65006e+06\tvalidation_0-mape:0.191234\n",
      "[308]\tvalidation_0-rmse:1.64999e+06\tvalidation_0-mape:0.191221\n",
      "[309]\tvalidation_0-rmse:1.64995e+06\tvalidation_0-mape:0.191213\n",
      "[310]\tvalidation_0-rmse:1.64984e+06\tvalidation_0-mape:0.19119\n",
      "[311]\tvalidation_0-rmse:1.64982e+06\tvalidation_0-mape:0.191181\n",
      "[312]\tvalidation_0-rmse:1.64979e+06\tvalidation_0-mape:0.191179\n",
      "[313]\tvalidation_0-rmse:1.64958e+06\tvalidation_0-mape:0.191095\n",
      "[314]\tvalidation_0-rmse:1.64957e+06\tvalidation_0-mape:0.191092\n",
      "[315]\tvalidation_0-rmse:1.64953e+06\tvalidation_0-mape:0.191059\n",
      "[316]\tvalidation_0-rmse:1.64948e+06\tvalidation_0-mape:0.191055\n",
      "[317]\tvalidation_0-rmse:1.64937e+06\tvalidation_0-mape:0.191017\n",
      "[318]\tvalidation_0-rmse:1.64921e+06\tvalidation_0-mape:0.190941\n",
      "[319]\tvalidation_0-rmse:1.64916e+06\tvalidation_0-mape:0.190921\n",
      "[320]\tvalidation_0-rmse:1.64911e+06\tvalidation_0-mape:0.190874\n",
      "[321]\tvalidation_0-rmse:1.64908e+06\tvalidation_0-mape:0.190867\n",
      "[322]\tvalidation_0-rmse:1.64901e+06\tvalidation_0-mape:0.190856\n",
      "[323]\tvalidation_0-rmse:1.64895e+06\tvalidation_0-mape:0.190832\n",
      "[324]\tvalidation_0-rmse:1.64893e+06\tvalidation_0-mape:0.190817\n",
      "[325]\tvalidation_0-rmse:1.64878e+06\tvalidation_0-mape:0.190788\n",
      "[326]\tvalidation_0-rmse:1.64884e+06\tvalidation_0-mape:0.190783\n",
      "[327]\tvalidation_0-rmse:1.64874e+06\tvalidation_0-mape:0.190758\n",
      "[328]\tvalidation_0-rmse:1.64872e+06\tvalidation_0-mape:0.19074\n",
      "[329]\tvalidation_0-rmse:1.64869e+06\tvalidation_0-mape:0.190741\n",
      "[330]\tvalidation_0-rmse:1.64867e+06\tvalidation_0-mape:0.190719\n",
      "[331]\tvalidation_0-rmse:1.64868e+06\tvalidation_0-mape:0.190713\n",
      "[332]\tvalidation_0-rmse:1.64869e+06\tvalidation_0-mape:0.190714\n",
      "[333]\tvalidation_0-rmse:1.64866e+06\tvalidation_0-mape:0.190688\n",
      "[334]\tvalidation_0-rmse:1.6486e+06\tvalidation_0-mape:0.190678\n",
      "[335]\tvalidation_0-rmse:1.64862e+06\tvalidation_0-mape:0.190682\n",
      "[336]\tvalidation_0-rmse:1.64859e+06\tvalidation_0-mape:0.19066\n",
      "[337]\tvalidation_0-rmse:1.64847e+06\tvalidation_0-mape:0.190659\n",
      "[338]\tvalidation_0-rmse:1.64841e+06\tvalidation_0-mape:0.190643\n",
      "[339]\tvalidation_0-rmse:1.64835e+06\tvalidation_0-mape:0.190618\n",
      "[340]\tvalidation_0-rmse:1.64834e+06\tvalidation_0-mape:0.190597\n",
      "[341]\tvalidation_0-rmse:1.6483e+06\tvalidation_0-mape:0.190586\n",
      "[342]\tvalidation_0-rmse:1.64829e+06\tvalidation_0-mape:0.190589\n",
      "[343]\tvalidation_0-rmse:1.64827e+06\tvalidation_0-mape:0.190567\n",
      "[344]\tvalidation_0-rmse:1.64827e+06\tvalidation_0-mape:0.190563\n",
      "[345]\tvalidation_0-rmse:1.64825e+06\tvalidation_0-mape:0.190557\n",
      "[346]\tvalidation_0-rmse:1.64824e+06\tvalidation_0-mape:0.190536\n",
      "[347]\tvalidation_0-rmse:1.64821e+06\tvalidation_0-mape:0.190516\n",
      "[348]\tvalidation_0-rmse:1.64816e+06\tvalidation_0-mape:0.190521\n",
      "[349]\tvalidation_0-rmse:1.64818e+06\tvalidation_0-mape:0.190519\n",
      "[350]\tvalidation_0-rmse:1.64813e+06\tvalidation_0-mape:0.190518\n",
      "[351]\tvalidation_0-rmse:1.64808e+06\tvalidation_0-mape:0.190482\n",
      "[352]\tvalidation_0-rmse:1.64803e+06\tvalidation_0-mape:0.190458\n",
      "[353]\tvalidation_0-rmse:1.64794e+06\tvalidation_0-mape:0.190425\n",
      "[354]\tvalidation_0-rmse:1.64789e+06\tvalidation_0-mape:0.19041\n",
      "[355]\tvalidation_0-rmse:1.64789e+06\tvalidation_0-mape:0.190401\n",
      "[356]\tvalidation_0-rmse:1.64786e+06\tvalidation_0-mape:0.190391\n",
      "[357]\tvalidation_0-rmse:1.64787e+06\tvalidation_0-mape:0.190385\n",
      "[358]\tvalidation_0-rmse:1.6478e+06\tvalidation_0-mape:0.190353\n",
      "[359]\tvalidation_0-rmse:1.64769e+06\tvalidation_0-mape:0.190319\n",
      "[360]\tvalidation_0-rmse:1.64768e+06\tvalidation_0-mape:0.190306\n",
      "[361]\tvalidation_0-rmse:1.64765e+06\tvalidation_0-mape:0.190293\n",
      "[362]\tvalidation_0-rmse:1.64763e+06\tvalidation_0-mape:0.19029\n",
      "[363]\tvalidation_0-rmse:1.64762e+06\tvalidation_0-mape:0.190275\n",
      "[364]\tvalidation_0-rmse:1.64757e+06\tvalidation_0-mape:0.190268\n",
      "[365]\tvalidation_0-rmse:1.64759e+06\tvalidation_0-mape:0.19027\n",
      "[366]\tvalidation_0-rmse:1.64751e+06\tvalidation_0-mape:0.190257\n",
      "[367]\tvalidation_0-rmse:1.64752e+06\tvalidation_0-mape:0.190247\n",
      "[368]\tvalidation_0-rmse:1.64753e+06\tvalidation_0-mape:0.190237\n",
      "[369]\tvalidation_0-rmse:1.64748e+06\tvalidation_0-mape:0.190204\n",
      "[370]\tvalidation_0-rmse:1.64751e+06\tvalidation_0-mape:0.190176\n",
      "[371]\tvalidation_0-rmse:1.64749e+06\tvalidation_0-mape:0.190166\n",
      "[372]\tvalidation_0-rmse:1.64747e+06\tvalidation_0-mape:0.190169\n",
      "[373]\tvalidation_0-rmse:1.64745e+06\tvalidation_0-mape:0.190145\n",
      "[374]\tvalidation_0-rmse:1.64734e+06\tvalidation_0-mape:0.190111\n",
      "[375]\tvalidation_0-rmse:1.64732e+06\tvalidation_0-mape:0.190108\n",
      "[376]\tvalidation_0-rmse:1.64732e+06\tvalidation_0-mape:0.190088\n",
      "[377]\tvalidation_0-rmse:1.64732e+06\tvalidation_0-mape:0.190081\n",
      "[378]\tvalidation_0-rmse:1.64733e+06\tvalidation_0-mape:0.190084\n",
      "[379]\tvalidation_0-rmse:1.64728e+06\tvalidation_0-mape:0.190047\n",
      "[380]\tvalidation_0-rmse:1.64727e+06\tvalidation_0-mape:0.190047\n",
      "[381]\tvalidation_0-rmse:1.64728e+06\tvalidation_0-mape:0.190046\n",
      "[382]\tvalidation_0-rmse:1.64725e+06\tvalidation_0-mape:0.190046\n",
      "[383]\tvalidation_0-rmse:1.64727e+06\tvalidation_0-mape:0.190044\n",
      "[384]\tvalidation_0-rmse:1.64728e+06\tvalidation_0-mape:0.190046\n",
      "[385]\tvalidation_0-rmse:1.64725e+06\tvalidation_0-mape:0.19003\n",
      "[386]\tvalidation_0-rmse:1.64718e+06\tvalidation_0-mape:0.190015\n",
      "[387]\tvalidation_0-rmse:1.64722e+06\tvalidation_0-mape:0.190007\n",
      "[388]\tvalidation_0-rmse:1.6472e+06\tvalidation_0-mape:0.189995\n",
      "[389]\tvalidation_0-rmse:1.64717e+06\tvalidation_0-mape:0.189989\n",
      "[390]\tvalidation_0-rmse:1.64715e+06\tvalidation_0-mape:0.189977\n",
      "[391]\tvalidation_0-rmse:1.64716e+06\tvalidation_0-mape:0.189963\n",
      "[392]\tvalidation_0-rmse:1.64712e+06\tvalidation_0-mape:0.189952\n",
      "[393]\tvalidation_0-rmse:1.647e+06\tvalidation_0-mape:0.189921\n",
      "[394]\tvalidation_0-rmse:1.64699e+06\tvalidation_0-mape:0.189912\n"
     ]
    },
    {
     "name": "stdout",
     "output_type": "stream",
     "text": [
      "[395]\tvalidation_0-rmse:1.64694e+06\tvalidation_0-mape:0.189908\n",
      "[396]\tvalidation_0-rmse:1.64687e+06\tvalidation_0-mape:0.189884\n",
      "[397]\tvalidation_0-rmse:1.64686e+06\tvalidation_0-mape:0.189876\n",
      "[398]\tvalidation_0-rmse:1.64686e+06\tvalidation_0-mape:0.189868\n",
      "[399]\tvalidation_0-rmse:1.64681e+06\tvalidation_0-mape:0.189858\n",
      "[400]\tvalidation_0-rmse:1.64677e+06\tvalidation_0-mape:0.189852\n",
      "[401]\tvalidation_0-rmse:1.64679e+06\tvalidation_0-mape:0.18985\n",
      "[402]\tvalidation_0-rmse:1.64679e+06\tvalidation_0-mape:0.189836\n",
      "[403]\tvalidation_0-rmse:1.64678e+06\tvalidation_0-mape:0.189834\n",
      "[404]\tvalidation_0-rmse:1.64678e+06\tvalidation_0-mape:0.189836\n",
      "[405]\tvalidation_0-rmse:1.64675e+06\tvalidation_0-mape:0.189826\n",
      "[406]\tvalidation_0-rmse:1.64675e+06\tvalidation_0-mape:0.189823\n",
      "[407]\tvalidation_0-rmse:1.64674e+06\tvalidation_0-mape:0.189817\n",
      "[408]\tvalidation_0-rmse:1.64667e+06\tvalidation_0-mape:0.189774\n",
      "[409]\tvalidation_0-rmse:1.64666e+06\tvalidation_0-mape:0.189771\n",
      "[410]\tvalidation_0-rmse:1.64665e+06\tvalidation_0-mape:0.189756\n",
      "[411]\tvalidation_0-rmse:1.64664e+06\tvalidation_0-mape:0.189737\n",
      "[412]\tvalidation_0-rmse:1.6466e+06\tvalidation_0-mape:0.189732\n",
      "[413]\tvalidation_0-rmse:1.6466e+06\tvalidation_0-mape:0.189732\n",
      "[414]\tvalidation_0-rmse:1.64662e+06\tvalidation_0-mape:0.189746\n",
      "[415]\tvalidation_0-rmse:1.64661e+06\tvalidation_0-mape:0.189748\n",
      "[416]\tvalidation_0-rmse:1.64657e+06\tvalidation_0-mape:0.189737\n",
      "[417]\tvalidation_0-rmse:1.64652e+06\tvalidation_0-mape:0.189705\n",
      "[418]\tvalidation_0-rmse:1.64653e+06\tvalidation_0-mape:0.189707\n",
      "[419]\tvalidation_0-rmse:1.64651e+06\tvalidation_0-mape:0.189693\n",
      "[420]\tvalidation_0-rmse:1.64651e+06\tvalidation_0-mape:0.189687\n",
      "[421]\tvalidation_0-rmse:1.64652e+06\tvalidation_0-mape:0.189685\n",
      "[422]\tvalidation_0-rmse:1.64648e+06\tvalidation_0-mape:0.189662\n",
      "[423]\tvalidation_0-rmse:1.64636e+06\tvalidation_0-mape:0.18964\n",
      "[424]\tvalidation_0-rmse:1.64635e+06\tvalidation_0-mape:0.189616\n",
      "[425]\tvalidation_0-rmse:1.64635e+06\tvalidation_0-mape:0.189617\n",
      "[426]\tvalidation_0-rmse:1.64638e+06\tvalidation_0-mape:0.189621\n",
      "[427]\tvalidation_0-rmse:1.64636e+06\tvalidation_0-mape:0.189597\n",
      "[428]\tvalidation_0-rmse:1.64631e+06\tvalidation_0-mape:0.189586\n",
      "[429]\tvalidation_0-rmse:1.64632e+06\tvalidation_0-mape:0.189589\n",
      "[430]\tvalidation_0-rmse:1.64628e+06\tvalidation_0-mape:0.189555\n",
      "[431]\tvalidation_0-rmse:1.64623e+06\tvalidation_0-mape:0.189526\n",
      "[432]\tvalidation_0-rmse:1.64623e+06\tvalidation_0-mape:0.189524\n",
      "[433]\tvalidation_0-rmse:1.64613e+06\tvalidation_0-mape:0.189513\n",
      "[434]\tvalidation_0-rmse:1.64606e+06\tvalidation_0-mape:0.189482\n",
      "[435]\tvalidation_0-rmse:1.64601e+06\tvalidation_0-mape:0.189472\n",
      "[436]\tvalidation_0-rmse:1.64603e+06\tvalidation_0-mape:0.189465\n",
      "[437]\tvalidation_0-rmse:1.64597e+06\tvalidation_0-mape:0.18945\n",
      "[438]\tvalidation_0-rmse:1.64593e+06\tvalidation_0-mape:0.189445\n",
      "[439]\tvalidation_0-rmse:1.6459e+06\tvalidation_0-mape:0.189441\n",
      "[440]\tvalidation_0-rmse:1.64593e+06\tvalidation_0-mape:0.189444\n",
      "[441]\tvalidation_0-rmse:1.64595e+06\tvalidation_0-mape:0.189436\n",
      "[442]\tvalidation_0-rmse:1.64595e+06\tvalidation_0-mape:0.189432\n",
      "[443]\tvalidation_0-rmse:1.64591e+06\tvalidation_0-mape:0.189421\n",
      "[444]\tvalidation_0-rmse:1.64595e+06\tvalidation_0-mape:0.189428\n",
      "[445]\tvalidation_0-rmse:1.64592e+06\tvalidation_0-mape:0.189427\n",
      "[446]\tvalidation_0-rmse:1.64588e+06\tvalidation_0-mape:0.189405\n",
      "[447]\tvalidation_0-rmse:1.64587e+06\tvalidation_0-mape:0.189402\n",
      "[448]\tvalidation_0-rmse:1.64586e+06\tvalidation_0-mape:0.189394\n",
      "[449]\tvalidation_0-rmse:1.64588e+06\tvalidation_0-mape:0.189387\n",
      "[450]\tvalidation_0-rmse:1.64586e+06\tvalidation_0-mape:0.18938\n",
      "[451]\tvalidation_0-rmse:1.64583e+06\tvalidation_0-mape:0.189376\n",
      "[452]\tvalidation_0-rmse:1.64582e+06\tvalidation_0-mape:0.189361\n",
      "[453]\tvalidation_0-rmse:1.64581e+06\tvalidation_0-mape:0.189361\n",
      "[454]\tvalidation_0-rmse:1.64581e+06\tvalidation_0-mape:0.189358\n",
      "[455]\tvalidation_0-rmse:1.6458e+06\tvalidation_0-mape:0.189354\n",
      "[456]\tvalidation_0-rmse:1.64575e+06\tvalidation_0-mape:0.189333\n",
      "[457]\tvalidation_0-rmse:1.64574e+06\tvalidation_0-mape:0.189328\n",
      "[458]\tvalidation_0-rmse:1.64576e+06\tvalidation_0-mape:0.189329\n",
      "[459]\tvalidation_0-rmse:1.64575e+06\tvalidation_0-mape:0.189313\n",
      "[460]\tvalidation_0-rmse:1.64571e+06\tvalidation_0-mape:0.189297\n",
      "[461]\tvalidation_0-rmse:1.64574e+06\tvalidation_0-mape:0.189308\n",
      "[462]\tvalidation_0-rmse:1.64572e+06\tvalidation_0-mape:0.189308\n",
      "[463]\tvalidation_0-rmse:1.64577e+06\tvalidation_0-mape:0.189297\n",
      "[464]\tvalidation_0-rmse:1.64575e+06\tvalidation_0-mape:0.189299\n",
      "[465]\tvalidation_0-rmse:1.64569e+06\tvalidation_0-mape:0.189283\n",
      "[466]\tvalidation_0-rmse:1.6457e+06\tvalidation_0-mape:0.18928\n",
      "[467]\tvalidation_0-rmse:1.64568e+06\tvalidation_0-mape:0.189267\n",
      "[468]\tvalidation_0-rmse:1.64564e+06\tvalidation_0-mape:0.189263\n",
      "[469]\tvalidation_0-rmse:1.64558e+06\tvalidation_0-mape:0.189258\n",
      "[470]\tvalidation_0-rmse:1.64555e+06\tvalidation_0-mape:0.189243\n",
      "[471]\tvalidation_0-rmse:1.64559e+06\tvalidation_0-mape:0.189234\n",
      "[472]\tvalidation_0-rmse:1.64558e+06\tvalidation_0-mape:0.189241\n",
      "[473]\tvalidation_0-rmse:1.64557e+06\tvalidation_0-mape:0.189243\n",
      "[474]\tvalidation_0-rmse:1.64554e+06\tvalidation_0-mape:0.189224\n",
      "[475]\tvalidation_0-rmse:1.64552e+06\tvalidation_0-mape:0.189206\n",
      "[476]\tvalidation_0-rmse:1.64553e+06\tvalidation_0-mape:0.189197\n",
      "[477]\tvalidation_0-rmse:1.64547e+06\tvalidation_0-mape:0.189174\n",
      "[478]\tvalidation_0-rmse:1.64544e+06\tvalidation_0-mape:0.18916\n",
      "[479]\tvalidation_0-rmse:1.64539e+06\tvalidation_0-mape:0.189149\n",
      "[480]\tvalidation_0-rmse:1.64533e+06\tvalidation_0-mape:0.189138\n",
      "[481]\tvalidation_0-rmse:1.64534e+06\tvalidation_0-mape:0.18914\n",
      "[482]\tvalidation_0-rmse:1.64532e+06\tvalidation_0-mape:0.189128\n",
      "[483]\tvalidation_0-rmse:1.64522e+06\tvalidation_0-mape:0.189089\n",
      "[484]\tvalidation_0-rmse:1.64522e+06\tvalidation_0-mape:0.189091\n",
      "[485]\tvalidation_0-rmse:1.64521e+06\tvalidation_0-mape:0.189091\n",
      "[486]\tvalidation_0-rmse:1.64526e+06\tvalidation_0-mape:0.189085\n",
      "[487]\tvalidation_0-rmse:1.6452e+06\tvalidation_0-mape:0.189076\n",
      "[488]\tvalidation_0-rmse:1.64509e+06\tvalidation_0-mape:0.189044\n",
      "[489]\tvalidation_0-rmse:1.64502e+06\tvalidation_0-mape:0.189027\n",
      "[490]\tvalidation_0-rmse:1.64496e+06\tvalidation_0-mape:0.189006\n",
      "[491]\tvalidation_0-rmse:1.64499e+06\tvalidation_0-mape:0.189003\n",
      "[492]\tvalidation_0-rmse:1.64497e+06\tvalidation_0-mape:0.188996\n",
      "[493]\tvalidation_0-rmse:1.64496e+06\tvalidation_0-mape:0.188988\n",
      "[494]\tvalidation_0-rmse:1.64492e+06\tvalidation_0-mape:0.188973\n",
      "[495]\tvalidation_0-rmse:1.64492e+06\tvalidation_0-mape:0.188969\n",
      "[496]\tvalidation_0-rmse:1.64489e+06\tvalidation_0-mape:0.188968\n",
      "[497]\tvalidation_0-rmse:1.64488e+06\tvalidation_0-mape:0.188971\n",
      "[498]\tvalidation_0-rmse:1.64481e+06\tvalidation_0-mape:0.188954\n",
      "[499]\tvalidation_0-rmse:1.64478e+06\tvalidation_0-mape:0.188955\n",
      "[500]\tvalidation_0-rmse:1.64479e+06\tvalidation_0-mape:0.188959\n",
      "[501]\tvalidation_0-rmse:1.64473e+06\tvalidation_0-mape:0.188922\n",
      "[502]\tvalidation_0-rmse:1.64474e+06\tvalidation_0-mape:0.188926\n",
      "[503]\tvalidation_0-rmse:1.64475e+06\tvalidation_0-mape:0.188921\n",
      "[504]\tvalidation_0-rmse:1.64464e+06\tvalidation_0-mape:0.188902\n",
      "[505]\tvalidation_0-rmse:1.64465e+06\tvalidation_0-mape:0.188895\n",
      "[506]\tvalidation_0-rmse:1.64464e+06\tvalidation_0-mape:0.188896\n",
      "[507]\tvalidation_0-rmse:1.6446e+06\tvalidation_0-mape:0.188886\n",
      "[508]\tvalidation_0-rmse:1.64458e+06\tvalidation_0-mape:0.188882\n",
      "[509]\tvalidation_0-rmse:1.64457e+06\tvalidation_0-mape:0.188845\n",
      "[510]\tvalidation_0-rmse:1.64457e+06\tvalidation_0-mape:0.188839\n",
      "[511]\tvalidation_0-rmse:1.64453e+06\tvalidation_0-mape:0.188843\n",
      "[512]\tvalidation_0-rmse:1.64457e+06\tvalidation_0-mape:0.188842\n",
      "[513]\tvalidation_0-rmse:1.64457e+06\tvalidation_0-mape:0.188845\n",
      "[514]\tvalidation_0-rmse:1.64456e+06\tvalidation_0-mape:0.188829\n",
      "[515]\tvalidation_0-rmse:1.64454e+06\tvalidation_0-mape:0.188817\n",
      "[516]\tvalidation_0-rmse:1.64456e+06\tvalidation_0-mape:0.188811\n",
      "[517]\tvalidation_0-rmse:1.64455e+06\tvalidation_0-mape:0.188806\n",
      "[518]\tvalidation_0-rmse:1.64454e+06\tvalidation_0-mape:0.188806\n",
      "[519]\tvalidation_0-rmse:1.64455e+06\tvalidation_0-mape:0.188805\n",
      "[520]\tvalidation_0-rmse:1.64444e+06\tvalidation_0-mape:0.188794\n",
      "[521]\tvalidation_0-rmse:1.64443e+06\tvalidation_0-mape:0.188792\n",
      "[522]\tvalidation_0-rmse:1.64444e+06\tvalidation_0-mape:0.188794\n",
      "[523]\tvalidation_0-rmse:1.64434e+06\tvalidation_0-mape:0.188752\n",
      "[524]\tvalidation_0-rmse:1.64435e+06\tvalidation_0-mape:0.188744\n",
      "[525]\tvalidation_0-rmse:1.64433e+06\tvalidation_0-mape:0.188743\n"
     ]
    },
    {
     "name": "stdout",
     "output_type": "stream",
     "text": [
      "[526]\tvalidation_0-rmse:1.64431e+06\tvalidation_0-mape:0.188738\n",
      "[527]\tvalidation_0-rmse:1.64433e+06\tvalidation_0-mape:0.18873\n",
      "[528]\tvalidation_0-rmse:1.64432e+06\tvalidation_0-mape:0.188719\n",
      "[529]\tvalidation_0-rmse:1.64435e+06\tvalidation_0-mape:0.188721\n",
      "[530]\tvalidation_0-rmse:1.64432e+06\tvalidation_0-mape:0.18873\n",
      "[531]\tvalidation_0-rmse:1.64422e+06\tvalidation_0-mape:0.188713\n",
      "[532]\tvalidation_0-rmse:1.6442e+06\tvalidation_0-mape:0.188692\n",
      "[533]\tvalidation_0-rmse:1.64423e+06\tvalidation_0-mape:0.188701\n",
      "[534]\tvalidation_0-rmse:1.64421e+06\tvalidation_0-mape:0.188683\n",
      "[535]\tvalidation_0-rmse:1.64414e+06\tvalidation_0-mape:0.188669\n",
      "[536]\tvalidation_0-rmse:1.64412e+06\tvalidation_0-mape:0.188664\n",
      "[537]\tvalidation_0-rmse:1.64411e+06\tvalidation_0-mape:0.188651\n",
      "[538]\tvalidation_0-rmse:1.64408e+06\tvalidation_0-mape:0.188643\n",
      "[539]\tvalidation_0-rmse:1.64412e+06\tvalidation_0-mape:0.18864\n",
      "[540]\tvalidation_0-rmse:1.64407e+06\tvalidation_0-mape:0.188629\n",
      "[541]\tvalidation_0-rmse:1.64407e+06\tvalidation_0-mape:0.188621\n",
      "[542]\tvalidation_0-rmse:1.64409e+06\tvalidation_0-mape:0.188623\n",
      "[543]\tvalidation_0-rmse:1.64404e+06\tvalidation_0-mape:0.188593\n",
      "[544]\tvalidation_0-rmse:1.64404e+06\tvalidation_0-mape:0.188593\n",
      "[545]\tvalidation_0-rmse:1.64406e+06\tvalidation_0-mape:0.188595\n",
      "[546]\tvalidation_0-rmse:1.64406e+06\tvalidation_0-mape:0.188593\n",
      "[547]\tvalidation_0-rmse:1.64404e+06\tvalidation_0-mape:0.188554\n",
      "[548]\tvalidation_0-rmse:1.64406e+06\tvalidation_0-mape:0.188554\n",
      "[549]\tvalidation_0-rmse:1.644e+06\tvalidation_0-mape:0.188543\n",
      "[550]\tvalidation_0-rmse:1.64399e+06\tvalidation_0-mape:0.188546\n",
      "[551]\tvalidation_0-rmse:1.64399e+06\tvalidation_0-mape:0.188535\n",
      "[552]\tvalidation_0-rmse:1.644e+06\tvalidation_0-mape:0.188531\n",
      "[553]\tvalidation_0-rmse:1.64398e+06\tvalidation_0-mape:0.188508\n",
      "[554]\tvalidation_0-rmse:1.644e+06\tvalidation_0-mape:0.188505\n",
      "[555]\tvalidation_0-rmse:1.64397e+06\tvalidation_0-mape:0.188488\n",
      "[556]\tvalidation_0-rmse:1.64399e+06\tvalidation_0-mape:0.188471\n",
      "[557]\tvalidation_0-rmse:1.64403e+06\tvalidation_0-mape:0.188474\n",
      "[558]\tvalidation_0-rmse:1.64403e+06\tvalidation_0-mape:0.188455\n",
      "[559]\tvalidation_0-rmse:1.64405e+06\tvalidation_0-mape:0.188443\n",
      "[560]\tvalidation_0-rmse:1.64405e+06\tvalidation_0-mape:0.188431\n",
      "[561]\tvalidation_0-rmse:1.64407e+06\tvalidation_0-mape:0.188407\n",
      "[562]\tvalidation_0-rmse:1.64405e+06\tvalidation_0-mape:0.188403\n",
      "[563]\tvalidation_0-rmse:1.64401e+06\tvalidation_0-mape:0.188373\n",
      "[564]\tvalidation_0-rmse:1.64399e+06\tvalidation_0-mape:0.188377\n",
      "[565]\tvalidation_0-rmse:1.64398e+06\tvalidation_0-mape:0.188364\n",
      "[566]\tvalidation_0-rmse:1.64395e+06\tvalidation_0-mape:0.188356\n",
      "[567]\tvalidation_0-rmse:1.64395e+06\tvalidation_0-mape:0.188359\n",
      "[568]\tvalidation_0-rmse:1.64391e+06\tvalidation_0-mape:0.18836\n",
      "[569]\tvalidation_0-rmse:1.64391e+06\tvalidation_0-mape:0.188348\n",
      "[570]\tvalidation_0-rmse:1.64384e+06\tvalidation_0-mape:0.188325\n",
      "[571]\tvalidation_0-rmse:1.64382e+06\tvalidation_0-mape:0.18831\n",
      "[572]\tvalidation_0-rmse:1.64379e+06\tvalidation_0-mape:0.188304\n",
      "[573]\tvalidation_0-rmse:1.64379e+06\tvalidation_0-mape:0.188305\n",
      "[574]\tvalidation_0-rmse:1.64379e+06\tvalidation_0-mape:0.188293\n",
      "[575]\tvalidation_0-rmse:1.64379e+06\tvalidation_0-mape:0.18827\n",
      "[576]\tvalidation_0-rmse:1.64377e+06\tvalidation_0-mape:0.18827\n",
      "[577]\tvalidation_0-rmse:1.64376e+06\tvalidation_0-mape:0.188267\n",
      "[578]\tvalidation_0-rmse:1.64369e+06\tvalidation_0-mape:0.188255\n",
      "[579]\tvalidation_0-rmse:1.64364e+06\tvalidation_0-mape:0.188238\n",
      "[580]\tvalidation_0-rmse:1.64366e+06\tvalidation_0-mape:0.188244\n",
      "[581]\tvalidation_0-rmse:1.64363e+06\tvalidation_0-mape:0.188236\n",
      "[582]\tvalidation_0-rmse:1.64364e+06\tvalidation_0-mape:0.18824\n",
      "[583]\tvalidation_0-rmse:1.64366e+06\tvalidation_0-mape:0.188245\n",
      "[584]\tvalidation_0-rmse:1.64365e+06\tvalidation_0-mape:0.188231\n",
      "[585]\tvalidation_0-rmse:1.64364e+06\tvalidation_0-mape:0.188228\n",
      "[586]\tvalidation_0-rmse:1.64363e+06\tvalidation_0-mape:0.188215\n",
      "[587]\tvalidation_0-rmse:1.6436e+06\tvalidation_0-mape:0.188218\n",
      "[588]\tvalidation_0-rmse:1.6436e+06\tvalidation_0-mape:0.188223\n",
      "[589]\tvalidation_0-rmse:1.64357e+06\tvalidation_0-mape:0.188207\n",
      "[590]\tvalidation_0-rmse:1.6435e+06\tvalidation_0-mape:0.188176\n",
      "[591]\tvalidation_0-rmse:1.64349e+06\tvalidation_0-mape:0.18817\n",
      "[592]\tvalidation_0-rmse:1.64347e+06\tvalidation_0-mape:0.188158\n",
      "[593]\tvalidation_0-rmse:1.64348e+06\tvalidation_0-mape:0.188152\n",
      "[594]\tvalidation_0-rmse:1.64343e+06\tvalidation_0-mape:0.188152\n",
      "[595]\tvalidation_0-rmse:1.64343e+06\tvalidation_0-mape:0.188158\n",
      "[596]\tvalidation_0-rmse:1.64344e+06\tvalidation_0-mape:0.188164\n",
      "[597]\tvalidation_0-rmse:1.64342e+06\tvalidation_0-mape:0.188161\n",
      "[598]\tvalidation_0-rmse:1.64336e+06\tvalidation_0-mape:0.188145\n",
      "[599]\tvalidation_0-rmse:1.64337e+06\tvalidation_0-mape:0.188138\n",
      "[600]\tvalidation_0-rmse:1.64336e+06\tvalidation_0-mape:0.188134\n",
      "[601]\tvalidation_0-rmse:1.64334e+06\tvalidation_0-mape:0.188128\n",
      "[602]\tvalidation_0-rmse:1.64333e+06\tvalidation_0-mape:0.188134\n",
      "[603]\tvalidation_0-rmse:1.64333e+06\tvalidation_0-mape:0.188126\n",
      "[604]\tvalidation_0-rmse:1.64335e+06\tvalidation_0-mape:0.188125\n",
      "[605]\tvalidation_0-rmse:1.64328e+06\tvalidation_0-mape:0.188102\n",
      "[606]\tvalidation_0-rmse:1.64326e+06\tvalidation_0-mape:0.188094\n",
      "[607]\tvalidation_0-rmse:1.64327e+06\tvalidation_0-mape:0.188096\n",
      "[608]\tvalidation_0-rmse:1.64327e+06\tvalidation_0-mape:0.188097\n",
      "[609]\tvalidation_0-rmse:1.64326e+06\tvalidation_0-mape:0.188084\n",
      "[610]\tvalidation_0-rmse:1.64322e+06\tvalidation_0-mape:0.188053\n",
      "[611]\tvalidation_0-rmse:1.64323e+06\tvalidation_0-mape:0.188052\n",
      "[612]\tvalidation_0-rmse:1.64324e+06\tvalidation_0-mape:0.188062\n",
      "[613]\tvalidation_0-rmse:1.64322e+06\tvalidation_0-mape:0.188064\n",
      "[614]\tvalidation_0-rmse:1.64323e+06\tvalidation_0-mape:0.188062\n",
      "[615]\tvalidation_0-rmse:1.64319e+06\tvalidation_0-mape:0.188048\n",
      "[616]\tvalidation_0-rmse:1.64319e+06\tvalidation_0-mape:0.188048\n",
      "[617]\tvalidation_0-rmse:1.64318e+06\tvalidation_0-mape:0.188045\n",
      "[618]\tvalidation_0-rmse:1.6432e+06\tvalidation_0-mape:0.188046\n",
      "[619]\tvalidation_0-rmse:1.64318e+06\tvalidation_0-mape:0.188036\n",
      "[620]\tvalidation_0-rmse:1.64318e+06\tvalidation_0-mape:0.188036\n",
      "[621]\tvalidation_0-rmse:1.64322e+06\tvalidation_0-mape:0.188029\n",
      "[622]\tvalidation_0-rmse:1.64322e+06\tvalidation_0-mape:0.188017\n",
      "[623]\tvalidation_0-rmse:1.64316e+06\tvalidation_0-mape:0.187992\n",
      "[624]\tvalidation_0-rmse:1.64315e+06\tvalidation_0-mape:0.187981\n",
      "[625]\tvalidation_0-rmse:1.64312e+06\tvalidation_0-mape:0.187977\n",
      "[626]\tvalidation_0-rmse:1.64312e+06\tvalidation_0-mape:0.187974\n",
      "[627]\tvalidation_0-rmse:1.64313e+06\tvalidation_0-mape:0.187972\n",
      "[628]\tvalidation_0-rmse:1.64311e+06\tvalidation_0-mape:0.187968\n",
      "[629]\tvalidation_0-rmse:1.64309e+06\tvalidation_0-mape:0.18795\n",
      "[630]\tvalidation_0-rmse:1.64301e+06\tvalidation_0-mape:0.187933\n",
      "[631]\tvalidation_0-rmse:1.643e+06\tvalidation_0-mape:0.187924\n",
      "[632]\tvalidation_0-rmse:1.643e+06\tvalidation_0-mape:0.187913\n",
      "[633]\tvalidation_0-rmse:1.64293e+06\tvalidation_0-mape:0.187902\n",
      "[634]\tvalidation_0-rmse:1.64295e+06\tvalidation_0-mape:0.187905\n",
      "[635]\tvalidation_0-rmse:1.64289e+06\tvalidation_0-mape:0.187894\n",
      "[636]\tvalidation_0-rmse:1.64287e+06\tvalidation_0-mape:0.187881\n",
      "[637]\tvalidation_0-rmse:1.64281e+06\tvalidation_0-mape:0.187876\n",
      "[638]\tvalidation_0-rmse:1.64282e+06\tvalidation_0-mape:0.187877\n",
      "[639]\tvalidation_0-rmse:1.64283e+06\tvalidation_0-mape:0.187883\n",
      "[640]\tvalidation_0-rmse:1.64278e+06\tvalidation_0-mape:0.187878\n",
      "[641]\tvalidation_0-rmse:1.64277e+06\tvalidation_0-mape:0.187872\n",
      "[642]\tvalidation_0-rmse:1.64278e+06\tvalidation_0-mape:0.187875\n",
      "[643]\tvalidation_0-rmse:1.64277e+06\tvalidation_0-mape:0.187862\n",
      "[644]\tvalidation_0-rmse:1.64278e+06\tvalidation_0-mape:0.187865\n",
      "[645]\tvalidation_0-rmse:1.64277e+06\tvalidation_0-mape:0.187865\n",
      "[646]\tvalidation_0-rmse:1.64275e+06\tvalidation_0-mape:0.187848\n",
      "[647]\tvalidation_0-rmse:1.64272e+06\tvalidation_0-mape:0.187833\n",
      "[648]\tvalidation_0-rmse:1.6427e+06\tvalidation_0-mape:0.187819\n",
      "[649]\tvalidation_0-rmse:1.64268e+06\tvalidation_0-mape:0.187816\n",
      "[650]\tvalidation_0-rmse:1.64267e+06\tvalidation_0-mape:0.18781\n",
      "[651]\tvalidation_0-rmse:1.64269e+06\tvalidation_0-mape:0.187785\n",
      "[652]\tvalidation_0-rmse:1.64263e+06\tvalidation_0-mape:0.187766\n",
      "[653]\tvalidation_0-rmse:1.64262e+06\tvalidation_0-mape:0.187768\n",
      "[654]\tvalidation_0-rmse:1.64261e+06\tvalidation_0-mape:0.187762\n",
      "[655]\tvalidation_0-rmse:1.64262e+06\tvalidation_0-mape:0.187757\n",
      "[656]\tvalidation_0-rmse:1.64261e+06\tvalidation_0-mape:0.187752\n"
     ]
    },
    {
     "name": "stdout",
     "output_type": "stream",
     "text": [
      "[657]\tvalidation_0-rmse:1.64262e+06\tvalidation_0-mape:0.187748\n",
      "[658]\tvalidation_0-rmse:1.64256e+06\tvalidation_0-mape:0.187728\n",
      "[659]\tvalidation_0-rmse:1.64257e+06\tvalidation_0-mape:0.187737\n",
      "[660]\tvalidation_0-rmse:1.64256e+06\tvalidation_0-mape:0.18774\n",
      "[661]\tvalidation_0-rmse:1.64254e+06\tvalidation_0-mape:0.187736\n",
      "[662]\tvalidation_0-rmse:1.64251e+06\tvalidation_0-mape:0.187715\n",
      "[663]\tvalidation_0-rmse:1.64249e+06\tvalidation_0-mape:0.187713\n",
      "[664]\tvalidation_0-rmse:1.64244e+06\tvalidation_0-mape:0.187685\n",
      "[665]\tvalidation_0-rmse:1.64242e+06\tvalidation_0-mape:0.187682\n",
      "[666]\tvalidation_0-rmse:1.64237e+06\tvalidation_0-mape:0.187678\n",
      "[667]\tvalidation_0-rmse:1.64236e+06\tvalidation_0-mape:0.187671\n",
      "[668]\tvalidation_0-rmse:1.6424e+06\tvalidation_0-mape:0.187673\n",
      "[669]\tvalidation_0-rmse:1.64244e+06\tvalidation_0-mape:0.187666\n",
      "[670]\tvalidation_0-rmse:1.64244e+06\tvalidation_0-mape:0.187663\n",
      "[671]\tvalidation_0-rmse:1.6425e+06\tvalidation_0-mape:0.187667\n",
      "[672]\tvalidation_0-rmse:1.64251e+06\tvalidation_0-mape:0.187661\n",
      "[673]\tvalidation_0-rmse:1.64251e+06\tvalidation_0-mape:0.187657\n",
      "[674]\tvalidation_0-rmse:1.64247e+06\tvalidation_0-mape:0.187652\n",
      "[675]\tvalidation_0-rmse:1.64246e+06\tvalidation_0-mape:0.187651\n",
      "[676]\tvalidation_0-rmse:1.64249e+06\tvalidation_0-mape:0.187651\n",
      "[677]\tvalidation_0-rmse:1.64248e+06\tvalidation_0-mape:0.187648\n",
      "[678]\tvalidation_0-rmse:1.64249e+06\tvalidation_0-mape:0.187641\n",
      "[679]\tvalidation_0-rmse:1.64255e+06\tvalidation_0-mape:0.187648\n",
      "[680]\tvalidation_0-rmse:1.64258e+06\tvalidation_0-mape:0.187637\n",
      "[681]\tvalidation_0-rmse:1.64262e+06\tvalidation_0-mape:0.187643\n",
      "[682]\tvalidation_0-rmse:1.64265e+06\tvalidation_0-mape:0.187646\n",
      "[683]\tvalidation_0-rmse:1.64264e+06\tvalidation_0-mape:0.187646\n",
      "[684]\tvalidation_0-rmse:1.6426e+06\tvalidation_0-mape:0.187618\n",
      "[685]\tvalidation_0-rmse:1.64266e+06\tvalidation_0-mape:0.187618\n",
      "[686]\tvalidation_0-rmse:1.64268e+06\tvalidation_0-mape:0.187622\n",
      "[687]\tvalidation_0-rmse:1.64271e+06\tvalidation_0-mape:0.187623\n",
      "[688]\tvalidation_0-rmse:1.6427e+06\tvalidation_0-mape:0.187615\n",
      "[689]\tvalidation_0-rmse:1.64266e+06\tvalidation_0-mape:0.187596\n",
      "[690]\tvalidation_0-rmse:1.64267e+06\tvalidation_0-mape:0.187593\n",
      "[691]\tvalidation_0-rmse:1.64266e+06\tvalidation_0-mape:0.187592\n",
      "[692]\tvalidation_0-rmse:1.64265e+06\tvalidation_0-mape:0.187592\n",
      "[693]\tvalidation_0-rmse:1.64266e+06\tvalidation_0-mape:0.187594\n",
      "[694]\tvalidation_0-rmse:1.64263e+06\tvalidation_0-mape:0.187588\n",
      "[695]\tvalidation_0-rmse:1.64264e+06\tvalidation_0-mape:0.187597\n",
      "[696]\tvalidation_0-rmse:1.64258e+06\tvalidation_0-mape:0.187586\n",
      "[697]\tvalidation_0-rmse:1.6426e+06\tvalidation_0-mape:0.187594\n",
      "[698]\tvalidation_0-rmse:1.64259e+06\tvalidation_0-mape:0.187582\n",
      "[699]\tvalidation_0-rmse:1.64263e+06\tvalidation_0-mape:0.187587\n",
      "[700]\tvalidation_0-rmse:1.64263e+06\tvalidation_0-mape:0.187582\n",
      "[701]\tvalidation_0-rmse:1.64264e+06\tvalidation_0-mape:0.187558\n",
      "[702]\tvalidation_0-rmse:1.64266e+06\tvalidation_0-mape:0.187555\n",
      "[703]\tvalidation_0-rmse:1.64266e+06\tvalidation_0-mape:0.187559\n",
      "[704]\tvalidation_0-rmse:1.64264e+06\tvalidation_0-mape:0.187562\n",
      "[705]\tvalidation_0-rmse:1.64263e+06\tvalidation_0-mape:0.187556\n",
      "[706]\tvalidation_0-rmse:1.64263e+06\tvalidation_0-mape:0.187557\n",
      "[707]\tvalidation_0-rmse:1.64264e+06\tvalidation_0-mape:0.187552\n",
      "[708]\tvalidation_0-rmse:1.64266e+06\tvalidation_0-mape:0.18754\n",
      "[709]\tvalidation_0-rmse:1.64265e+06\tvalidation_0-mape:0.187541\n",
      "[710]\tvalidation_0-rmse:1.64265e+06\tvalidation_0-mape:0.187546\n",
      "[711]\tvalidation_0-rmse:1.64262e+06\tvalidation_0-mape:0.187523\n",
      "[712]\tvalidation_0-rmse:1.64266e+06\tvalidation_0-mape:0.187526\n",
      "[713]\tvalidation_0-rmse:1.64261e+06\tvalidation_0-mape:0.187527\n",
      "[714]\tvalidation_0-rmse:1.64262e+06\tvalidation_0-mape:0.187521\n",
      "[715]\tvalidation_0-rmse:1.64259e+06\tvalidation_0-mape:0.187521\n",
      "[716]\tvalidation_0-rmse:1.64259e+06\tvalidation_0-mape:0.187522\n",
      "[717]\tvalidation_0-rmse:1.64255e+06\tvalidation_0-mape:0.187519\n",
      "[718]\tvalidation_0-rmse:1.64251e+06\tvalidation_0-mape:0.187507\n",
      "[719]\tvalidation_0-rmse:1.64249e+06\tvalidation_0-mape:0.187495\n",
      "[720]\tvalidation_0-rmse:1.64254e+06\tvalidation_0-mape:0.1875\n",
      "[721]\tvalidation_0-rmse:1.64254e+06\tvalidation_0-mape:0.187498\n",
      "[722]\tvalidation_0-rmse:1.64253e+06\tvalidation_0-mape:0.187495\n",
      "[723]\tvalidation_0-rmse:1.64253e+06\tvalidation_0-mape:0.18749\n",
      "[724]\tvalidation_0-rmse:1.64251e+06\tvalidation_0-mape:0.187482\n",
      "[725]\tvalidation_0-rmse:1.64257e+06\tvalidation_0-mape:0.187488\n",
      "[726]\tvalidation_0-rmse:1.64258e+06\tvalidation_0-mape:0.187486\n",
      "[727]\tvalidation_0-rmse:1.64257e+06\tvalidation_0-mape:0.187486\n",
      "[728]\tvalidation_0-rmse:1.64254e+06\tvalidation_0-mape:0.187483\n",
      "[729]\tvalidation_0-rmse:1.64258e+06\tvalidation_0-mape:0.187489\n",
      "[730]\tvalidation_0-rmse:1.64257e+06\tvalidation_0-mape:0.187484\n",
      "[731]\tvalidation_0-rmse:1.64258e+06\tvalidation_0-mape:0.187467\n",
      "[732]\tvalidation_0-rmse:1.64255e+06\tvalidation_0-mape:0.187466\n",
      "[733]\tvalidation_0-rmse:1.64259e+06\tvalidation_0-mape:0.187471\n",
      "[734]\tvalidation_0-rmse:1.64263e+06\tvalidation_0-mape:0.187469\n",
      "[735]\tvalidation_0-rmse:1.64259e+06\tvalidation_0-mape:0.187469\n",
      "[736]\tvalidation_0-rmse:1.64256e+06\tvalidation_0-mape:0.187461\n",
      "[737]\tvalidation_0-rmse:1.64259e+06\tvalidation_0-mape:0.187464\n",
      "[738]\tvalidation_0-rmse:1.64258e+06\tvalidation_0-mape:0.187465\n",
      "[739]\tvalidation_0-rmse:1.64256e+06\tvalidation_0-mape:0.187458\n",
      "[740]\tvalidation_0-rmse:1.64252e+06\tvalidation_0-mape:0.187454\n",
      "[741]\tvalidation_0-rmse:1.6425e+06\tvalidation_0-mape:0.187455\n",
      "[742]\tvalidation_0-rmse:1.64248e+06\tvalidation_0-mape:0.187451\n"
     ]
    },
    {
     "ename": "KeyboardInterrupt",
     "evalue": "",
     "output_type": "error",
     "traceback": [
      "\u001b[1;31m---------------------------------------------------------------------------\u001b[0m",
      "\u001b[1;31mKeyboardInterrupt\u001b[0m                         Traceback (most recent call last)",
      "\u001b[1;32m<ipython-input-119-f6b5d5b6fbf9>\u001b[0m in \u001b[0;36m<module>\u001b[1;34m()\u001b[0m\n\u001b[0;32m      2\u001b[0m \u001b[1;32mfrom\u001b[0m \u001b[0msklearn\u001b[0m\u001b[1;33m.\u001b[0m\u001b[0mcross_validation\u001b[0m \u001b[1;32mimport\u001b[0m \u001b[0mtrain_test_split\u001b[0m\u001b[1;33m\u001b[0m\u001b[0m\n\u001b[0;32m      3\u001b[0m \u001b[0mX_traind\u001b[0m\u001b[1;33m,\u001b[0m\u001b[0mX_testd\u001b[0m\u001b[1;33m,\u001b[0m \u001b[0my_traind\u001b[0m\u001b[1;33m,\u001b[0m \u001b[0my_testd\u001b[0m \u001b[1;33m=\u001b[0m \u001b[0mtrain_test_split\u001b[0m\u001b[1;33m(\u001b[0m\u001b[0mdf\u001b[0m\u001b[1;33m,\u001b[0m\u001b[0my\u001b[0m\u001b[1;33m)\u001b[0m\u001b[1;33m\u001b[0m\u001b[0m\n\u001b[1;32m----> 4\u001b[1;33m \u001b[0mrg3\u001b[0m\u001b[1;33m.\u001b[0m\u001b[0mfit\u001b[0m\u001b[1;33m(\u001b[0m\u001b[0mX_traind\u001b[0m\u001b[1;33m,\u001b[0m\u001b[0my_traind\u001b[0m\u001b[1;33m,\u001b[0m \u001b[0mverbose\u001b[0m\u001b[1;33m=\u001b[0m\u001b[1;32mTrue\u001b[0m\u001b[1;33m,\u001b[0m\u001b[0meval_set\u001b[0m\u001b[1;33m=\u001b[0m\u001b[1;33m[\u001b[0m\u001b[1;33m(\u001b[0m\u001b[0mX_testd\u001b[0m\u001b[1;33m,\u001b[0m\u001b[0my_testd\u001b[0m\u001b[1;33m)\u001b[0m\u001b[1;33m]\u001b[0m\u001b[1;33m,\u001b[0m \u001b[0meval_metric\u001b[0m \u001b[1;33m=\u001b[0m \u001b[0mxgb_mape\u001b[0m\u001b[1;33m)\u001b[0m\u001b[1;33m\u001b[0m\u001b[0m\n\u001b[0m",
      "\u001b[1;32mD:\\ProgramData\\Anaconda3\\envs\\fastai\\lib\\site-packages\\xgboost\\sklearn.py\u001b[0m in \u001b[0;36mfit\u001b[1;34m(self, X, y, sample_weight, eval_set, eval_metric, early_stopping_rounds, verbose, xgb_model, sample_weight_eval_set)\u001b[0m\n\u001b[0;32m    300\u001b[0m                               \u001b[0mearly_stopping_rounds\u001b[0m\u001b[1;33m=\u001b[0m\u001b[0mearly_stopping_rounds\u001b[0m\u001b[1;33m,\u001b[0m\u001b[1;33m\u001b[0m\u001b[0m\n\u001b[0;32m    301\u001b[0m                               \u001b[0mevals_result\u001b[0m\u001b[1;33m=\u001b[0m\u001b[0mevals_result\u001b[0m\u001b[1;33m,\u001b[0m \u001b[0mobj\u001b[0m\u001b[1;33m=\u001b[0m\u001b[0mobj\u001b[0m\u001b[1;33m,\u001b[0m \u001b[0mfeval\u001b[0m\u001b[1;33m=\u001b[0m\u001b[0mfeval\u001b[0m\u001b[1;33m,\u001b[0m\u001b[1;33m\u001b[0m\u001b[0m\n\u001b[1;32m--> 302\u001b[1;33m                               verbose_eval=verbose, xgb_model=xgb_model)\n\u001b[0m\u001b[0;32m    303\u001b[0m \u001b[1;33m\u001b[0m\u001b[0m\n\u001b[0;32m    304\u001b[0m         \u001b[1;32mif\u001b[0m \u001b[0mevals_result\u001b[0m\u001b[1;33m:\u001b[0m\u001b[1;33m\u001b[0m\u001b[0m\n",
      "\u001b[1;32mD:\\ProgramData\\Anaconda3\\envs\\fastai\\lib\\site-packages\\xgboost\\training.py\u001b[0m in \u001b[0;36mtrain\u001b[1;34m(params, dtrain, num_boost_round, evals, obj, feval, maximize, early_stopping_rounds, evals_result, verbose_eval, xgb_model, callbacks, learning_rates)\u001b[0m\n\u001b[0;32m    202\u001b[0m                            \u001b[0mevals\u001b[0m\u001b[1;33m=\u001b[0m\u001b[0mevals\u001b[0m\u001b[1;33m,\u001b[0m\u001b[1;33m\u001b[0m\u001b[0m\n\u001b[0;32m    203\u001b[0m                            \u001b[0mobj\u001b[0m\u001b[1;33m=\u001b[0m\u001b[0mobj\u001b[0m\u001b[1;33m,\u001b[0m \u001b[0mfeval\u001b[0m\u001b[1;33m=\u001b[0m\u001b[0mfeval\u001b[0m\u001b[1;33m,\u001b[0m\u001b[1;33m\u001b[0m\u001b[0m\n\u001b[1;32m--> 204\u001b[1;33m                            xgb_model=xgb_model, callbacks=callbacks)\n\u001b[0m\u001b[0;32m    205\u001b[0m \u001b[1;33m\u001b[0m\u001b[0m\n\u001b[0;32m    206\u001b[0m \u001b[1;33m\u001b[0m\u001b[0m\n",
      "\u001b[1;32mD:\\ProgramData\\Anaconda3\\envs\\fastai\\lib\\site-packages\\xgboost\\training.py\u001b[0m in \u001b[0;36m_train_internal\u001b[1;34m(params, dtrain, num_boost_round, evals, obj, feval, xgb_model, callbacks)\u001b[0m\n\u001b[0;32m     72\u001b[0m         \u001b[1;31m# Skip the first update if it is a recovery step.\u001b[0m\u001b[1;33m\u001b[0m\u001b[1;33m\u001b[0m\u001b[0m\n\u001b[0;32m     73\u001b[0m         \u001b[1;32mif\u001b[0m \u001b[0mversion\u001b[0m \u001b[1;33m%\u001b[0m \u001b[1;36m2\u001b[0m \u001b[1;33m==\u001b[0m \u001b[1;36m0\u001b[0m\u001b[1;33m:\u001b[0m\u001b[1;33m\u001b[0m\u001b[0m\n\u001b[1;32m---> 74\u001b[1;33m             \u001b[0mbst\u001b[0m\u001b[1;33m.\u001b[0m\u001b[0mupdate\u001b[0m\u001b[1;33m(\u001b[0m\u001b[0mdtrain\u001b[0m\u001b[1;33m,\u001b[0m \u001b[0mi\u001b[0m\u001b[1;33m,\u001b[0m \u001b[0mobj\u001b[0m\u001b[1;33m)\u001b[0m\u001b[1;33m\u001b[0m\u001b[0m\n\u001b[0m\u001b[0;32m     75\u001b[0m             \u001b[0mbst\u001b[0m\u001b[1;33m.\u001b[0m\u001b[0msave_rabit_checkpoint\u001b[0m\u001b[1;33m(\u001b[0m\u001b[1;33m)\u001b[0m\u001b[1;33m\u001b[0m\u001b[0m\n\u001b[0;32m     76\u001b[0m             \u001b[0mversion\u001b[0m \u001b[1;33m+=\u001b[0m \u001b[1;36m1\u001b[0m\u001b[1;33m\u001b[0m\u001b[0m\n",
      "\u001b[1;32mD:\\ProgramData\\Anaconda3\\envs\\fastai\\lib\\site-packages\\xgboost\\core.py\u001b[0m in \u001b[0;36mupdate\u001b[1;34m(self, dtrain, iteration, fobj)\u001b[0m\n\u001b[0;32m    892\u001b[0m         \u001b[1;32mif\u001b[0m \u001b[0mfobj\u001b[0m \u001b[1;32mis\u001b[0m \u001b[1;32mNone\u001b[0m\u001b[1;33m:\u001b[0m\u001b[1;33m\u001b[0m\u001b[0m\n\u001b[0;32m    893\u001b[0m             _check_call(_LIB.XGBoosterUpdateOneIter(self.handle, ctypes.c_int(iteration),\n\u001b[1;32m--> 894\u001b[1;33m                                                     dtrain.handle))\n\u001b[0m\u001b[0;32m    895\u001b[0m         \u001b[1;32melse\u001b[0m\u001b[1;33m:\u001b[0m\u001b[1;33m\u001b[0m\u001b[0m\n\u001b[0;32m    896\u001b[0m             \u001b[0mpred\u001b[0m \u001b[1;33m=\u001b[0m \u001b[0mself\u001b[0m\u001b[1;33m.\u001b[0m\u001b[0mpredict\u001b[0m\u001b[1;33m(\u001b[0m\u001b[0mdtrain\u001b[0m\u001b[1;33m)\u001b[0m\u001b[1;33m\u001b[0m\u001b[0m\n",
      "\u001b[1;31mKeyboardInterrupt\u001b[0m: "
     ]
    }
   ],
   "source": [
    "rg3 = xgboost.XGBRegressor(n_estimators=3050,max_depth=12,learning_rate=0.03)\n",
    "from sklearn.cross_validation import train_test_split\n",
    "X_traind,X_testd, y_traind, y_testd = train_test_split(df,y)\n",
    "rg3.fit(X_traind,y_traind, verbose=True,eval_set=[(X_testd,y_testd)], eval_metric = xgb_mape)\n"
   ]
  },
  {
   "cell_type": "code",
   "execution_count": 113,
   "metadata": {},
   "outputs": [
    {
     "data": {
      "text/plain": [
       "(array([16.54336, 15.96027, 14.33132, 14.22098, 16.37212, 16.14795, 15.04953, 15.52026, 16.47612, 14.07787,\n",
       "        15.40678, 15.06827, 16.1525 , 14.14481, 13.54107, 15.00943, 15.29027, 16.13947, 15.33874, 15.83041,\n",
       "        ..., 14.60397, 15.31959, 15.42495, 14.15198, 14.94691, 17.41282, 13.30468, 15.78625, 14.94691,\n",
       "        16.66622, 14.62332, 14.06237, 15.42495, 14.97866, 15.63196, 14.53822, 14.54692, 15.71762, 16.5881 ,\n",
       "        14.97866]),\n",
       " array([14.4033 , 15.13513, 14.07787, 15.99819, 14.94691, 16.24031, 16.81124, 16.26634, 14.80876, 14.50866,\n",
       "        16.9156 , 14.4033 , 15.55948, 13.45884, 14.72779, 15.99265, 14.97866, 14.91412, 16.90655, 15.3513 ,\n",
       "        ..., 14.7116 , 14.4033 , 14.31629, 13.8643 , 15.93297, 15.54539, 15.35345, 13.85473, 15.52026,\n",
       "        14.60397, 15.02953, 15.5989 , 15.45159, 14.91412, 15.89495, 15.66554, 14.9957 , 15.68731, 14.77102,\n",
       "        15.46992]))"
      ]
     },
     "execution_count": 113,
     "metadata": {},
     "output_type": "execute_result"
    }
   ],
   "source": [
    "(y_val,y_trn)"
   ]
  }
 ],
 "metadata": {
  "kernelspec": {
   "display_name": "Python 3",
   "language": "python",
   "name": "python3"
  },
  "language_info": {
   "codemirror_mode": {
    "name": "ipython",
    "version": 3
   },
   "file_extension": ".py",
   "mimetype": "text/x-python",
   "name": "python",
   "nbconvert_exporter": "python",
   "pygments_lexer": "ipython3",
   "version": "3.6.5"
  }
 },
 "nbformat": 4,
 "nbformat_minor": 2
}
